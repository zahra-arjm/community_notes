{
 "cells": [
  {
   "cell_type": "code",
   "execution_count": 1,
   "id": "8ca46f6f",
   "metadata": {},
   "outputs": [],
   "source": [
    "import pandas as pd"
   ]
  },
  {
   "cell_type": "markdown",
   "id": "4c9db95f",
   "metadata": {},
   "source": [
    "## Monthly count of unique raters"
   ]
  },
  {
   "cell_type": "code",
   "execution_count": 2,
   "id": "9fb72d0b",
   "metadata": {},
   "outputs": [],
   "source": [
    "# prepare for load and keeping aggregated data\n",
    "chunk_size = 1000000\n",
    "# this will hold the cumulative grouped result\n",
    "monthly_count = pd.DataFrame(columns=['year', 'month', 'unique_id_count'])\n"
   ]
  },
  {
   "cell_type": "code",
   "execution_count": null,
   "id": "d1549269",
   "metadata": {},
   "outputs": [],
   "source": [
    "# # load previously saved monthly count\n",
    "# with open('monthly_raters.csv', 'r') as f:\n",
    "#     monthly_count = pd.read_csv(f, index_col=0)"
   ]
  },
  {
   "cell_type": "code",
   "execution_count": 56,
   "id": "6973060b",
   "metadata": {},
   "outputs": [],
   "source": [
    "# load rating file in chunks\n",
    "# there are 20 rating files, some ~2.5 GB. Since I can only keep them one at a time I\n",
    "# change the file name one by one\n",
    "rating_file = 'ratings/ratings-00019.tsv'\n",
    "with pd.read_csv(rating_file, sep='\\t', chunksize=chunk_size) as reader:\n",
    "    for chunk in reader:\n",
    "        \n",
    "        # add needed columns to this chunk\n",
    "        chunk['createdAt'] = pd.to_datetime(chunk['createdAtMillis'], unit='ms')\n",
    "        chunk['year'] = chunk['createdAt'].dt.year\n",
    "        chunk['month'] = chunk['createdAt'].dt.month\n",
    "        grouped = chunk.groupby(['year', 'month'])['raterParticipantId'].nunique().reset_index(name='unique_id_count')\n",
    "        # merge with the running monthly_count\n",
    "        monthly_count = pd.merge(\n",
    "            monthly_count, grouped,\n",
    "            on=['year', 'month'], how='outer', suffixes=('', '_new')\n",
    "        )\n",
    "\n",
    "        # sum counts (fillna for missing)\n",
    "        monthly_count['unique_id_count'] = (\n",
    "            monthly_count['unique_id_count'].fillna(0)\n",
    "            + monthly_count['unique_id_count_new'].fillna(0)\n",
    "        )\n",
    "\n",
    "        # drop the temporary column\n",
    "        monthly_count = monthly_count.drop(columns=['unique_id_count_new'])\n"
   ]
  },
  {
   "cell_type": "code",
   "execution_count": null,
   "id": "dd5f1e81",
   "metadata": {},
   "outputs": [],
   "source": []
  },
  {
   "cell_type": "code",
   "execution_count": 59,
   "id": "9d3f514d",
   "metadata": {},
   "outputs": [
    {
     "data": {
      "text/plain": [
       "np.float64(605421.0)"
      ]
     },
     "execution_count": 59,
     "metadata": {},
     "output_type": "execute_result"
    }
   ],
   "source": [
    "monthly_count['unique_id_count'].max()"
   ]
  },
  {
   "cell_type": "code",
   "execution_count": 57,
   "id": "84dfc22f",
   "metadata": {},
   "outputs": [],
   "source": [
    "# save monthly count\n",
    "monthly_count.to_csv('monthly_raters.csv')"
   ]
  },
  {
   "cell_type": "markdown",
   "id": "d4843d02",
   "metadata": {},
   "source": [
    "## Total number of users"
   ]
  },
  {
   "cell_type": "code",
   "execution_count": 13,
   "id": "fdcf4140",
   "metadata": {},
   "outputs": [],
   "source": [
    "with open('data2025raw/userEnrollment-00000.tsv', 'r') as f:\n",
    "    user_enrollment = pd.read_csv(f, sep='\\t')"
   ]
  },
  {
   "cell_type": "code",
   "execution_count": 16,
   "id": "2d09e1cc",
   "metadata": {},
   "outputs": [
    {
     "data": {
      "text/html": [
       "<div>\n",
       "<style scoped>\n",
       "    .dataframe tbody tr th:only-of-type {\n",
       "        vertical-align: middle;\n",
       "    }\n",
       "\n",
       "    .dataframe tbody tr th {\n",
       "        vertical-align: top;\n",
       "    }\n",
       "\n",
       "    .dataframe thead th {\n",
       "        text-align: right;\n",
       "    }\n",
       "</style>\n",
       "<table border=\"1\" class=\"dataframe\">\n",
       "  <thead>\n",
       "    <tr style=\"text-align: right;\">\n",
       "      <th></th>\n",
       "      <th>participantId</th>\n",
       "      <th>enrollmentState</th>\n",
       "      <th>successfulRatingNeededToEarnIn</th>\n",
       "      <th>timestampOfLastStateChange</th>\n",
       "      <th>timestampOfLastEarnOut</th>\n",
       "      <th>modelingPopulation</th>\n",
       "      <th>modelingGroup</th>\n",
       "      <th>numberOfTimesEarnedOut</th>\n",
       "    </tr>\n",
       "  </thead>\n",
       "  <tbody>\n",
       "    <tr>\n",
       "      <th>1243150</th>\n",
       "      <td>5E16B1CEF8799859938FFB128862E25E4830477D95B4C4...</td>\n",
       "      <td>newUser</td>\n",
       "      <td>5</td>\n",
       "      <td>1755135794639</td>\n",
       "      <td>1</td>\n",
       "      <td>CORE</td>\n",
       "      <td>25.0</td>\n",
       "      <td>0</td>\n",
       "    </tr>\n",
       "    <tr>\n",
       "      <th>1243151</th>\n",
       "      <td>294025B1CDDABBA43CCDEBE5EC956FF224E759E2BEB63B...</td>\n",
       "      <td>newUser</td>\n",
       "      <td>5</td>\n",
       "      <td>1755395100418</td>\n",
       "      <td>1</td>\n",
       "      <td>CORE</td>\n",
       "      <td>25.0</td>\n",
       "      <td>0</td>\n",
       "    </tr>\n",
       "    <tr>\n",
       "      <th>1243152</th>\n",
       "      <td>2AA9E0A121D13EC5753A7D1590F37FBCE57E0C3BF78D06...</td>\n",
       "      <td>newUser</td>\n",
       "      <td>5</td>\n",
       "      <td>1755654448283</td>\n",
       "      <td>1</td>\n",
       "      <td>CORE</td>\n",
       "      <td>25.0</td>\n",
       "      <td>0</td>\n",
       "    </tr>\n",
       "    <tr>\n",
       "      <th>1243153</th>\n",
       "      <td>6A210F6F33A67ECDD0D1B66320A1EA8AFCC6F5547C9CA7...</td>\n",
       "      <td>newUser</td>\n",
       "      <td>5</td>\n",
       "      <td>1755740555369</td>\n",
       "      <td>1</td>\n",
       "      <td>CORE</td>\n",
       "      <td>9.0</td>\n",
       "      <td>0</td>\n",
       "    </tr>\n",
       "    <tr>\n",
       "      <th>1243154</th>\n",
       "      <td>21B97B1025ED60D898235C0A1FF7D06D385CABCC5E42C8...</td>\n",
       "      <td>newUser</td>\n",
       "      <td>5</td>\n",
       "      <td>1755740549425</td>\n",
       "      <td>1</td>\n",
       "      <td>CORE</td>\n",
       "      <td>19.0</td>\n",
       "      <td>0</td>\n",
       "    </tr>\n",
       "  </tbody>\n",
       "</table>\n",
       "</div>"
      ],
      "text/plain": [
       "                                             participantId enrollmentState  \\\n",
       "1243150  5E16B1CEF8799859938FFB128862E25E4830477D95B4C4...         newUser   \n",
       "1243151  294025B1CDDABBA43CCDEBE5EC956FF224E759E2BEB63B...         newUser   \n",
       "1243152  2AA9E0A121D13EC5753A7D1590F37FBCE57E0C3BF78D06...         newUser   \n",
       "1243153  6A210F6F33A67ECDD0D1B66320A1EA8AFCC6F5547C9CA7...         newUser   \n",
       "1243154  21B97B1025ED60D898235C0A1FF7D06D385CABCC5E42C8...         newUser   \n",
       "\n",
       "         successfulRatingNeededToEarnIn  timestampOfLastStateChange  \\\n",
       "1243150                               5               1755135794639   \n",
       "1243151                               5               1755395100418   \n",
       "1243152                               5               1755654448283   \n",
       "1243153                               5               1755740555369   \n",
       "1243154                               5               1755740549425   \n",
       "\n",
       "         timestampOfLastEarnOut modelingPopulation  modelingGroup  \\\n",
       "1243150                       1               CORE           25.0   \n",
       "1243151                       1               CORE           25.0   \n",
       "1243152                       1               CORE           25.0   \n",
       "1243153                       1               CORE            9.0   \n",
       "1243154                       1               CORE           19.0   \n",
       "\n",
       "         numberOfTimesEarnedOut  \n",
       "1243150                       0  \n",
       "1243151                       0  \n",
       "1243152                       0  \n",
       "1243153                       0  \n",
       "1243154                       0  "
      ]
     },
     "execution_count": 16,
     "metadata": {},
     "output_type": "execute_result"
    }
   ],
   "source": [
    "user_enrollment.tail()"
   ]
  },
  {
   "cell_type": "code",
   "execution_count": null,
   "id": "60869b84",
   "metadata": {},
   "outputs": [
    {
     "data": {
      "text/plain": [
       "'Total number of users: 1243155'"
      ]
     },
     "execution_count": 15,
     "metadata": {},
     "output_type": "execute_result"
    }
   ],
   "source": [
    "# all users are in this dataset\n",
    "# but it's as of 24th of august\n",
    "f\"Total number of users: {len(user_enrollment)}\""
   ]
  },
  {
   "cell_type": "code",
   "execution_count": 18,
   "id": "5bbdb942",
   "metadata": {},
   "outputs": [],
   "source": [
    "# add a datetime column\n",
    "user_enrollment['state_change_time'] = \\\n",
    "    pd.to_datetime(user_enrollment['timestampOfLastStateChange'], unit='ms')"
   ]
  },
  {
   "cell_type": "code",
   "execution_count": 21,
   "id": "9756be3e",
   "metadata": {},
   "outputs": [
    {
     "data": {
      "text/plain": [
       "numberOfTimesEarnedOut\n",
       "0     282427\n",
       "1      23709\n",
       "2       5010\n",
       "3       1060\n",
       "4        272\n",
       "5        104\n",
       "6         22\n",
       "7         15\n",
       "8         11\n",
       "12         2\n",
       "9          1\n",
       "13         1\n",
       "Name: count, dtype: int64"
      ]
     },
     "execution_count": 21,
     "metadata": {},
     "output_type": "execute_result"
    }
   ],
   "source": [
    "# check which part of users who have changed status just signed-up after dec-2024\n",
    "user_2025 = user_enrollment[user_enrollment['state_change_time'] >= pd.Timestamp(2025, 1, 1)]\n",
    "user_2025['numberOfTimesEarnedOut'].value_counts()"
   ]
  },
  {
   "cell_type": "code",
   "execution_count": 22,
   "id": "78c8f217",
   "metadata": {},
   "outputs": [
    {
     "data": {
      "text/plain": [
       "312634"
      ]
     },
     "execution_count": 22,
     "metadata": {},
     "output_type": "execute_result"
    }
   ],
   "source": [
    "# check how many users are we talking about who have changed status in 2025\n",
    "len(user_2025)"
   ]
  },
  {
   "cell_type": "markdown",
   "id": "334b83cc",
   "metadata": {},
   "source": [
    "Compared to the total user base which is ~1M, 3000 is an acceptable error. As a result, I just count total number of users who changed status before end of 2024 for the paper. Plus, we are reporting this number as XX thousands user!"
   ]
  },
  {
   "cell_type": "code",
   "execution_count": 25,
   "id": "c1616ea2",
   "metadata": {},
   "outputs": [
    {
     "data": {
      "text/plain": [
       "'total number of users as of December 2024: 930521'"
      ]
     },
     "execution_count": 25,
     "metadata": {},
     "output_type": "execute_result"
    }
   ],
   "source": [
    "f\"total number of users as of December 2024: \\\n",
    "{len(user_enrollment[user_enrollment['state_change_time'] < pd.Timestamp(2025,1,1)])}\""
   ]
  }
 ],
 "metadata": {
  "kernelspec": {
   "display_name": ".env",
   "language": "python",
   "name": "python3"
  },
  "language_info": {
   "codemirror_mode": {
    "name": "ipython",
    "version": 3
   },
   "file_extension": ".py",
   "mimetype": "text/x-python",
   "name": "python",
   "nbconvert_exporter": "python",
   "pygments_lexer": "ipython3",
   "version": "3.10.12"
  }
 },
 "nbformat": 4,
 "nbformat_minor": 5
}
