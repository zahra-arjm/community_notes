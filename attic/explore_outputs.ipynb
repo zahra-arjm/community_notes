{
 "cells": [
  {
   "cell_type": "code",
   "execution_count": 1,
   "metadata": {},
   "outputs": [],
   "source": [
    "import pandas as pd\n",
    "import numpy as np\n",
    "import matplotlib.pyplot as plt\n",
    "from langdetect import detect # detect text language\n",
    "from statsmodels.graphics.mosaicplot import mosaic # mosaic plots\n",
    "import seaborn as sns\n",
    "import textstat\n",
    "from urlextract import URLExtract # to extract urls form the text"
   ]
  },
  {
   "cell_type": "code",
   "execution_count": 2,
   "metadata": {},
   "outputs": [],
   "source": [
    "notes = pd.read_parquet('rated_notes_compact.parquet', engine='auto')"
   ]
  },
  {
   "cell_type": "code",
   "execution_count": 3,
   "metadata": {},
   "outputs": [
    {
     "data": {
      "text/plain": [
       "Index(['noteId', 'finalRatingStatus', 'firstTag', 'secondTag',\n",
       "       'classification', 'createdAtMillis', 'numRatings', 'noteTopic',\n",
       "       'topicNoteConfident', 'noteAuthorParticipantId', 'tweetId',\n",
       "       'misleadingOther', 'misleadingFactualError',\n",
       "       'misleadingManipulatedMedia', 'misleadingOutdatedInformation',\n",
       "       'misleadingMissingImportantContext', 'misleadingUnverifiedClaimAsFact',\n",
       "       'misleadingSatire', 'notMisleadingOther',\n",
       "       'notMisleadingFactuallyCorrect',\n",
       "       'notMisleadingOutdatedButNotWhenWritten', 'notMisleadingClearlySatire',\n",
       "       'notMisleadingPersonalOpinion', 'trustworthySources', 'summary',\n",
       "       'isMediaNote'],\n",
       "      dtype='object')"
      ]
     },
     "execution_count": 3,
     "metadata": {},
     "output_type": "execute_result"
    }
   ],
   "source": [
    "# clumn names\n",
    "notes.columns"
   ]
  },
  {
   "cell_type": "code",
   "execution_count": 4,
   "metadata": {},
   "outputs": [],
   "source": [
    "# change tweetId format to see the whole assigned number rather than scientific notation\n",
    "notes['tweetId'] = notes['tweetId'].astype(int)"
   ]
  },
  {
   "cell_type": "code",
   "execution_count": 4,
   "metadata": {},
   "outputs": [
    {
     "data": {
      "text/plain": [
       "175861"
      ]
     },
     "execution_count": 4,
     "metadata": {},
     "output_type": "execute_result"
    }
   ],
   "source": [
    "# number of rated notes\n",
    "len(notes)"
   ]
  },
  {
   "cell_type": "markdown",
   "metadata": {},
   "source": [
    "check assigned topics"
   ]
  },
  {
   "cell_type": "code",
   "execution_count": 5,
   "metadata": {},
   "outputs": [
    {
     "data": {
      "text/plain": [
       "noteTopic\n",
       "GazaConflict       9540\n",
       "UkraineConflict    5970\n",
       "MessiRonaldo        514\n",
       "Name: count, dtype: int64"
      ]
     },
     "execution_count": 5,
     "metadata": {},
     "output_type": "execute_result"
    }
   ],
   "source": [
    "notes['noteTopic'].value_counts()"
   ]
  },
  {
   "cell_type": "code",
   "execution_count": 6,
   "metadata": {},
   "outputs": [
    {
     "data": {
      "text/plain": [
       "array([None, 'GazaConflict', 'UkraineConflict', 'MessiRonaldo'],\n",
       "      dtype=object)"
      ]
     },
     "execution_count": 6,
     "metadata": {},
     "output_type": "execute_result"
    }
   ],
   "source": [
    "notes['noteTopic'].unique()"
   ]
  },
  {
   "cell_type": "markdown",
   "metadata": {},
   "source": [
    "check how many does not have an assigned topic"
   ]
  },
  {
   "cell_type": "code",
   "execution_count": 7,
   "metadata": {},
   "outputs": [
    {
     "data": {
      "text/plain": [
       "159837"
      ]
     },
     "execution_count": 7,
     "metadata": {},
     "output_type": "execute_result"
    }
   ],
   "source": [
    "len(notes[notes['noteTopic'].values == None])"
   ]
  },
  {
   "cell_type": "markdown",
   "metadata": {},
   "source": [
    "Most of them does not have an assigned topic! Let's see 10 random note without a topic!\n"
   ]
  },
  {
   "cell_type": "code",
   "execution_count": 8,
   "metadata": {},
   "outputs": [
    {
     "data": {
      "text/plain": [
       "159790    Misinformation!  The police have clarified tha...\n",
       "151108    Esta cuenta no es la oficial que usan para Squ...\n",
       "9981      Contrails are formed when water vapour and fin...\n",
       "27500     The latest public release of MacOS is MacOS 14...\n",
       "67707                                                  None\n",
       "127393    Information trompeuse, aucune enquête du FBI e...\n",
       "8123      This is completely made up. An article in the ...\n",
       "17778     Grupo Bimbo ha dado a conocer que esta campaña...\n",
       "122475    NNN    The original post didn’t mention when t...\n",
       "58071     Your keyboard does not have this functionality...\n",
       "Name: summary, dtype: object"
      ]
     },
     "execution_count": 8,
     "metadata": {},
     "output_type": "execute_result"
    }
   ],
   "source": [
    "notes[notes['noteTopic'].values == None]['summary'].sample(n=10)"
   ]
  },
  {
   "cell_type": "markdown",
   "metadata": {},
   "source": [
    "It seems like most of them are not in English! Plus, some of them are None! Let's remove the None s and detect the language the notes were written in!"
   ]
  },
  {
   "cell_type": "code",
   "execution_count": 9,
   "metadata": {},
   "outputs": [],
   "source": [
    "notes = notes[notes['summary'].notna()]"
   ]
  },
  {
   "cell_type": "code",
   "execution_count": 10,
   "metadata": {},
   "outputs": [
    {
     "data": {
      "text/plain": [
       "159226"
      ]
     },
     "execution_count": 10,
     "metadata": {},
     "output_type": "execute_result"
    }
   ],
   "source": [
    "len(notes)"
   ]
  },
  {
   "cell_type": "code",
   "execution_count": 11,
   "metadata": {},
   "outputs": [
    {
     "name": "stdout",
     "output_type": "stream",
     "text": [
      "An exception occurred: No features in text.\n",
      "🖕🖕🖕🖕🖕🖕\n",
      "An exception occurred: No features in text.\n",
      "http://www.shadowstats.com/alternate_data/inflation-charts\n",
      "An exception occurred: No features in text.\n",
      "🫡\n",
      "An exception occurred: No features in text.\n",
      "🔥 🐶☕ 🔥\n",
      "An exception occurred: No features in text.\n",
      ".\n",
      "An exception occurred: No features in text.\n",
      "https://www.mhlw.go.jp/stf/seisakunitsuite/bunya/vaccine_pfizer_bivalent.html#002\n",
      "An exception occurred: No features in text.\n",
      "https://sites.imsa.edu/acronym/2021/03/04/elon-musk-is-not-an-entrepreneur-hes-a-rich-deceitful-hack/  https://www.cnbc.com/2018/06/01/elon-musks-mom-worked-5-jobs-to-raise-3-kids-after-her-divorce.html  https://www.cnbc.com/2018/06/12/telsas-elon-musk-tweets-he-arrived-in-north-america-at-17-with-2000.html  \n",
      "An exception occurred: No features in text.\n",
      "https://twitter.com/horacioneiva/status/1658638214385614852?s=20\n",
      "An exception occurred: No features in text.\n",
      "https://www.washingtonpost.com/politics/2021/03/19/how-spot-fake-video/\n",
      "An exception occurred: No features in text.\n",
      "https://www.theaustralian.com.au/world/every-living-president-is-a-descendant-of-slaveholders-except-donald-trump/news-story/b5aee952293f78d114ffd1b9635da8b4?amp&amp;nk=6974969ae1f3ed134222e25726755957-1687931325\n",
      "An exception occurred: No features in text.\n",
      "https://x.ai/\n",
      "An exception occurred: No features in text.\n",
      "https://www.snopes.com/news/2023/03/29/guns-leading-deaths-children-us/\n",
      "An exception occurred: No features in text.\n",
      "10\n",
      "An exception occurred: No features in text.\n",
      "https://onlinelibrary.wiley.com/doi/epdf/10.1002/ejhf.2978    https://www.preprints.org/manuscript/202307.1198/v1\n",
      "An exception occurred: No features in text.\n",
      "....\n",
      "An exception occurred: No features in text.\n",
      " \n",
      "An exception occurred: No features in text.\n",
      "🤓\n",
      "An exception occurred: No features in text.\n",
      "😳\n",
      "An exception occurred: No features in text.\n",
      "2\n",
      "An exception occurred: No features in text.\n",
      ".\n",
      "An exception occurred: No features in text.\n",
      "😭😭😭😭😭😭😭😭😭😭😭😭😭😭😭😭😭😭😭😭😭😭😭\n",
      "An exception occurred: No features in text.\n",
      "2023 + 977 = 3000\n",
      "An exception occurred: No features in text.\n",
      "https://www.breitbart.com/politics/2023/08/15/democrats-denied-election-results-more-than-150-times-before-trump-was-indicted-for-challenging-election/\n",
      "An exception occurred: No features in text.\n",
      "https://www.breitbart.com/politics/2023/08/15/democrats-denied-election-results-more-than-150-times-before-trump-was-indicted-for-challenging-election/\n",
      "An exception occurred: No features in text.\n",
      ":)\n",
      "An exception occurred: No features in text.\n",
      "☝️🤓\n",
      "An exception occurred: No features in text.\n",
      "https://x.com/anadoluagency/status/1711812910035407131?s=20\n",
      "An exception occurred: No features in text.\n",
      "https://x.com/ricwe123/status/1710601427490672983?s=46&amp;t=awFASC9llPGIZBZDd61ebA    \n",
      "An exception occurred: No features in text.\n",
      "https://twitter.com/hermanntertsch/status/1712365106410017111?t=e-BrPe5TxYOo4XRHiz9DQQ&amp;s=19    https://twitter.com/martinvars/status/1712004068397252832?t=e-BrPe5TxYOo4XRHiz9DQQ&amp;s=19\n",
      "An exception occurred: No features in text.\n",
      "https://opiniojuris.org/2023/10/18/public-statement-scholars-warn-of-potential-genocide-in-gaza/\n",
      "An exception occurred: No features in text.\n",
      "https://www.disco.com.ar/gaseosa-coca-cola-x-3-lt/p\n",
      "An exception occurred: No features in text.\n",
      "🇮🇱🇺🇦✌️\n",
      "An exception occurred: No features in text.\n",
      "🤓    https://x.com/DramaAlert/status/1727356731758649371?s=20\n",
      "An exception occurred: No features in text.\n",
      "“☝️🤓”\n",
      "An exception occurred: No features in text.\n",
      "🤓☝️\n",
      "An exception occurred: No features in text.\n",
      "⣿⣿⣿⢁⣿⣿⣿⣿⡁⣿⣿⡟⠉⠉⢁⠆⠀⠀⠀⣿⣿⣿⡿⣿⣿⣿⣿⡿  ⣿⣿⣿⢈⠿⣿⡿⠿⣿⣿⣿⠑⡄⠁⠌⠀⠠⡂⢰⣿⣿⣿⣾⣿⣽⣿⣟⢃⣾⣿  ⣿⣿⣿⡟⠮⠋⠓⠀⠈⠉⠻⣷⣍⡄⠀⠀⠊⣠⣾⣿⠋⠉⡑⠉⡹⣋⠁⣼⣿⣿  ⣿⣿⣿⣿⣎⠽⢣⠀⠐⠀⠠⠍⠙⠿⠀⢀⠚⠇⠉⠀⠀⠠⠁⠀⣵⣃⣼⣿⣿⣿  ⠈⠁⠀⠉⠙⠛⢾⡆⠈⠛⠏⠉⠀⠀⣲⠒⠲⣶⣶⠶⠦⠄⠀⠸⠿⠟⣛⣛⡉⠛  ⣀⠀⠀⠀⠀⡀⠠⣵⡀⠀⠀⠀⠂⠈⢼⣀⠈⠁⠀⠀⠀⠀⠠⠁hey it's me  ⣿⣿⣿⣿⣿⣿⡇⢾⣧⡀⠀⠀⠀⠐⣚⡓⠲⠀⠀⠀⢐⡔⡇⠀goku  ⣿⣿⣿⣿⣿⣿⠰⠈⣿⣿⣶⣤⡀⠀⠩⠝⠀⠀⣀⣴⢏⠇⠀⠀⠀⣠⣶⣶⣶⣶  ⣿⣿⣯⠄⡩⣪⠀⠀⠘⣿⢿⣿⣿⣦⣐⢤⣰⡷⠋⠃⡜⠀⠀⠀⠑⢌⠉⠉⠛⠻ \n",
      "An exception occurred: No features in text.\n",
      "https://twitter.com/DCIPalestine/status/1731363634947698976\n",
      "An exception occurred: No features in text.\n",
      "https://www.dailymail.co.uk/news/article-2545880/amp/Electrician-left-stars-eyes-suffering-14-000-volt-shock-body.html\n",
      "An exception occurred: No features in text.\n",
      "🤓\n",
      "An exception occurred: No features in text.\n",
      "https://x.com/Olaff_/status/1737654123426713966?s=20\n",
      "An exception occurred: No features in text.\n",
      "https://www.scamdoc.com/view/1599929\n",
      "An exception occurred: No features in text.\n",
      "http://www.messaggi-online.it/george-orwel-nel-tempo-dellinganno-universale-dire-la-verita-e-un-atto-rivoluzionario/\n",
      "An exception occurred: No features in text.\n",
      "🤓\n",
      "An exception occurred: No features in text.\n",
      "https://www.britannica.com/event/World-War-II\n",
      "An exception occurred: No features in text.\n",
      "https://abc7ny.com/gas-prices-8-dollars-per-gallon-los-angeles-station-fuel-costs/11914986/\n",
      "An exception occurred: No features in text.\n",
      "🤓\n",
      "An exception occurred: No features in text.\n",
      "https://casetext.com/case/gregoire-v-cal-highway-patrol\n",
      "An exception occurred: No features in text.\n",
      "🤓\n",
      "An exception occurred: No features in text.\n",
      "💪\n",
      "An exception occurred: No features in text.\n",
      "1\n",
      "An exception occurred: No features in text.\n",
      "https://www.cntraveler.com/gallery/are-these-the-best-countries-in-the-world\n",
      "An exception occurred: No features in text.\n",
      "🤓👆\n",
      "An exception occurred: No features in text.\n",
      "https://thepeoplesvoice.tv/microsoft-to-disable-computers-of-users-who-share-non-mainstream-content-online/\n",
      "An exception occurred: No features in text.\n",
      "☝🏻🤓\n",
      "An exception occurred: No features in text.\n",
      "💀\n",
      "An exception occurred: No features in text.\n",
      "    https://dorseteye.com/alexey-navalny-was-an-islamophobe-and-a-far-right-racist-unlike-julian-assange/\n",
      "An exception occurred: No features in text.\n",
      "The 30,000 innocent Palestinians killed by Israeli forces:    ⚰️⚰️⚰️⚰️⚰️⚰️⚰️⚰️⚰️⚰️⚰️⚰️⚰️⚰️⚰️⚰️⚰️⚰️⚰️⚰️⚰️⚰️⚰️⚰️⚰️⚰️⚰️⚰️⚰️⚰️⚰️⚰️⚰️⚰️⚰️⚰️⚰️⚰️⚰️⚰️⚰️⚰️⚰️⚰️⚰️⚰️⚰️⚰️⚰️⚰️⚰️⚰️⚰️⚰️⚰️⚰️⚰️⚰️⚰️⚰️⚰️⚰️⚰️⚰️⚰️⚰️⚰️⚰️⚰️⚰️⚰️⚰️⚰️⚰️⚰️⚰️⚰️⚰️⚰️⚰️⚰️⚰️⚰️⚰️⚰️⚰️⚰️⚰️⚰️⚰️⚰️⚰️⚰️⚰️⚰️⚰️⚰️⚰️⚰️⚰️⚰️⚰️⚰️⚰️⚰️⚰️x256    https://reliefweb.int/report/occupied-palestinian-territory/nearly-30000-palestinians-killed-during-82-day-israeli-genocide-gaza-enar#:~:text=The%20death%20toll%20of%20Israel's,Euro%2DMed%20Human%20Rights%20Monitor.\n",
      "An exception occurred: No features in text.\n",
      "https://www.france24.com/en/middle-east/20240205-as-donors-suspend-critical-funding-to-unrwa-allegations-against-staff-remain-murky\n",
      "An exception occurred: No features in text.\n",
      "https://apnews.com/article/abortion-federal-ban-trump-gop-2024-20586bbb64a511030ef58290e98f99f0\n",
      "An exception occurred: No features in text.\n",
      "☝🤓\n",
      "An exception occurred: No features in text.\n",
      "https://twitter.com/ceticismo/status/1768205236726853686?t=LOus_0_WbyC7uGVZWyEaRA&amp;s=19\n",
      "An exception occurred: No features in text.\n",
      "https://support.apple.com/en-gb/102616    https://support.google.com/android/answer/9075928?hl=en-GB\n",
      "An exception occurred: No features in text.\n",
      "https://twitter.com/wizardingnews/status/1770521777879302153?t=2gcVW-gTYbVute1pSRH5mA&amp;s=19\n",
      "An exception occurred: No features in text.\n",
      "🥩\n",
      "An exception occurred: No features in text.\n",
      "142 - 82 = 60    https://www.calculator.net/\n",
      "An exception occurred: No features in text.\n",
      "🤡  https://de.m.wikipedia.org/wiki/Clown  \n",
      "An exception occurred: No features in text.\n",
      "🤓☝️\n",
      "An exception occurred: No features in text.\n",
      "https://www.grundfos.com/de/learn/research-and-insights/local-oem-heat-pump-web-article\n",
      "An exception occurred: No features in text.\n",
      "🤓\n",
      "An exception occurred: No features in text.\n",
      "https://twitter.com/Grummz/status/1783884357759033827\n",
      "An exception occurred: No features in text.\n",
      "https://www.butac.it/pala-eolica-ecologica/\n",
      "An exception occurred: No features in text.\n",
      "https://twitter.com/libertyybiberty/status/1784824703191810143?t=BoR5njv4Bpk1WxPp5qKrBA&amp;s=19\n",
      "An exception occurred: No features in text.\n",
      "🐶💔\n",
      "An exception occurred: No features in text.\n",
      "https://x.com/rcedano/status/1786551856128532775\n",
      "An exception occurred: No features in text.\n",
      "🤓\n",
      "An exception occurred: No features in text.\n",
      "https://twitter.com/RT_India_news/status/1788196713779388682?t=ahplVqf6so5UqW8_9HZBcw&amp;s=19\n",
      "An exception occurred: No features in text.\n",
      "https://en.wikipedia.org/wiki/Satire?wprov=sfla1\n",
      "An exception occurred: No features in text.\n",
      "☝️🤓\n",
      "An exception occurred: No features in text.\n",
      "https://www.vox.com/policy-and-politics/2019/6/20/18677998/joe-biden-1994-crime-bill-law-mass-incarceration\n",
      "An exception occurred: No features in text.\n",
      "https://t.co/xvnGyyohtR\n",
      "An exception occurred: No features in text.\n",
      "https://www.youtube.com/watch?v=mJuYcswcVw8\n",
      "An exception occurred: No features in text.\n",
      "🤓☝️\n",
      "An exception occurred: No features in text.\n",
      "https://theconversation.com/us-election-why-latino-and-hispanic-voters-are-shifting-to-trump-after-a-long-history-of-supporting-the-democrats-229566\n",
      "An exception occurred: No features in text.\n",
      "https://x.com/MikeCollinsGA/status/1812257581655531669?t=EAXI8-LmEyLzuFk_7_S--A&amp;s=19\n",
      "An exception occurred: No features in text.\n",
      "https://www.guncrafttraining.com/articles/the-pros-and-cons-of-the-home-defense-ar-15\n",
      "An exception occurred: No features in text.\n",
      "https://x.com/timobrien/status/1815954334158319635?s=46&amp;t=5r6SRGGi-ow0q2e1FFaBaA\n",
      "An exception occurred: No features in text.\n",
      "https://theprint.in/politics/suspended-bjp-leader-nupur-sharma-in-reckoning-for-rae-bareli-ticket-central-leadership-to-decide/2009812/    https://www.newindianexpress.com/web-only/2024/Jun/04/up-results-a-setback-not-just-for-the-bjp-but-for-yogi-adityanath-too    \n",
      "An exception occurred: No features in text.\n",
      "https://www.google.com/search?q=trump+rally&amp;oq=trump+rally&amp;gs_lcrp=EgZjaHJvbWUyBggAEEUYOdIBCDM1ODhqMGo0qAIBsAIB&amp;client=ms-android-verizon-us-rvc3&amp;sourceid=chrome-mobile&amp;ie=UTF-8\n",
      "An exception occurred: No features in text.\n",
      "https://twitter.com/TheBreakdownAB/status/1819145515076145380\n",
      "An exception occurred: No features in text.\n",
      "https://t.me/interpol_russia/289\n",
      "An exception occurred: No features in text.\n",
      "https://x.com/DonaldJTrumpJr/status/1820928081005314348\n",
      "An exception occurred: No features in text.\n",
      "1. 🇪🇺 309 (97🥇, 95 🥈, 117🥉)   2. 🇺🇸 126 (40 🥇, 44🥈, 42🥉)  3. 🇨🇳 91 (40 🥇, 27🥈, 24🥉)  4. 🇯🇵 45 (20🥇, 12 🥈,13🥉)   https://olympics.com/en/paris-2024/medals?AnonymousID=3f9c5251-c139-4d4d-b54f-c18ee2f531a5&amp;displayAsWebView=true\n",
      "An exception occurred: No features in text.\n",
      "19    https://www.calculator.net/\n",
      "An exception occurred: No features in text.\n",
      "... \n",
      "An exception occurred: No features in text.\n",
      "... --- ... / . .-.. --- -. / -- ..- ... -.-      https://www.youtube.com/watch?v=3MrXpkXqj_4\n",
      "An exception occurred: No features in text.\n",
      "https://www.nbcnews.com/politics/donald-trump/jury-reaches-verdict-e-jean-carroll-rape-defamation-case-trump-rcna82778\n",
      "An exception occurred: No features in text.\n",
      "  https://en.m.wikipedia.org/wiki/Masonry\n",
      "An exception occurred: No features in text.\n",
      "https://youtu.be/6q8gz_Kd7KI?feature=shared\n",
      "An exception occurred: No features in text.\n",
      "https://moec.gov.af/en/deputy-prime-minister-economic-affairs-hajji-mullah-abdul-ghani-baradar-akhund-met-special\n",
      "An exception occurred: No features in text.\n",
      "https://x.com/CollinRugg/status/1835399449281188216?t=KQtgXK7C__YHTohUWHzTpw&amp;s=19\n",
      "An exception occurred: No features in text.\n",
      "https://www.gikai-machida.jp/voices/GikaiDoc/attach/Ik/Ik702_2014ginn18gou.pdf\n",
      "An exception occurred: No features in text.\n",
      ".\n",
      "An exception occurred: No features in text.\n",
      "https://doctor-sato.info/blog/replicon-vaccine/\n",
      "An exception occurred: No features in text.\n",
      ".\n",
      "An exception occurred: No features in text.\n",
      "1$ = 0.92€  3,75$ = 3,47€  https://onlyfans.com/sinistermisa  https://www.finanzen.net/waehrungsrechner/us-dollar_euro\n",
      "An exception occurred: No features in text.\n",
      "https://www.elsevier.es/es-revista-medicina-integral-63-articulo-retrasomental-desde-atencion-primaria-13028090\n",
      "An exception occurred: No features in text.\n",
      "???\n",
      "An exception occurred: No features in text.\n",
      "☝️🤓\n",
      "An exception occurred: No features in text.\n",
      "https://www.congress.gov/member/tulsi-gabbard/G000571\n",
      "An exception occurred: No features in text.\n",
      " 🤓  🤓  🤓 \n",
      "An exception occurred: No features in text.\n",
      "🤓\n",
      "An exception occurred: No features in text.\n",
      "https://www.washingtonpost.com/politics/2024/10/25/late-ballots-fifth-circuit-mississippi/    \n",
      "An exception occurred: No features in text.\n",
      "96-47=49     https://www.google.com/search?q=96-47&amp;ie=UTF-8&amp;oe=UTF-8&amp;hl=en-us&amp;client=safari\n",
      "An exception occurred: No features in text.\n",
      "https://youtu.be/SMJJiZlXOi0?si=tjawXIlKGVe-yysd\n",
      "An exception occurred: No features in text.\n",
      "🥩     https://business.x.com/en/help/ads-policies/ads-content-policies/gambling-content\n",
      "An exception occurred: No features in text.\n",
      "???\n",
      "An exception occurred: No features in text.\n",
      "𝕋𝕙𝕚𝕤 𝕡𝕠𝕤𝕥 𝕔𝕠𝕟𝕥𝕒𝕚𝕟𝕤 𝕒𝕟 𝕦𝕟𝕕𝕚𝕤𝕔𝕝𝕠𝕤𝕖𝕕 𝕒𝕕 𝕗𝕠𝕣 𝕊𝕥𝕒𝕜𝕖, 𝕒 𝕘𝕒𝕞𝕓𝕝𝕚𝕟𝕘 𝕤𝕚𝕥𝕖, 𝕨𝕙𝕚𝕔𝕙 𝕘𝕠𝕖𝕤 𝕒𝕘𝕒𝕚𝕟𝕤𝕥 𝕏'𝕤 𝕋𝕖𝕣𝕞𝕤 𝕠𝕗 𝕌𝕤𝕖 𝕒𝕓𝕠𝕦𝕥 𝕡𝕣𝕠𝕞𝕠𝕥𝕚𝕟𝕘 𝕤𝕦𝕔𝕙 𝕤𝕚𝕥𝕖𝕤. 𝕎𝕙𝕒𝕥'𝕤 𝕦𝕡 𝕨𝕚𝕥𝕙 𝕥𝕙𝕚𝕤 𝕗𝕠𝕟𝕥??    https://business.x.com/en/help/ads-policies/ads-content-policies/gambling-content\n",
      "An exception occurred: No features in text.\n",
      "💅    https://en.m.wikipedia.org/wiki/Streisand_effect\n",
      "An exception occurred: No features in text.\n",
      ". \n",
      "An exception occurred: No features in text.\n",
      "😂    https://x.com/elonmusk?t=Y8C2rhTFvrTncqYwhv900A&amp;s=09\n"
     ]
    }
   ],
   "source": [
    "# using detect function from langdetect to create a new column for languages\n",
    "langs = []\n",
    "for note in notes['summary']:\n",
    "    try:\n",
    "        langs.append(detect(note))\n",
    "    # except LangDetectException:\n",
    "    #     print(f\"LangDetectException for note: {note}\")\n",
    "    #     langs.append(None)\n",
    "    except Exception as error:\n",
    "    # handle the exception\n",
    "        print(\"An exception occurred:\", error) \n",
    "        print(note)\n",
    "        langs.append(None)"
   ]
  },
  {
   "cell_type": "code",
   "execution_count": 22,
   "metadata": {},
   "outputs": [],
   "source": [
    "notes['language'] = langs\n",
    "# update the saved dataframe\n",
    "notes.to_parquet('rated_notes_compact.parquet')"
   ]
  },
  {
   "cell_type": "markdown",
   "metadata": {},
   "source": [
    "There are some notes without a language. They may contain external links, emojis, numbers, punctuation marks or a mixture of them."
   ]
  },
  {
   "cell_type": "code",
   "execution_count": 27,
   "metadata": {},
   "outputs": [
    {
     "name": "stdout",
     "output_type": "stream",
     "text": [
      "120 notes did not use words; they used emojis, links, etc\n",
      "3 out of 120 notes were rated helpful\n"
     ]
    }
   ],
   "source": [
    "# How many of them contain non-language communications?\n",
    "print(f\"{sum(notes['language'].isnull())} \\\n",
    "notes did not use words; they used emojis, links, etc\")\n",
    "\n",
    "non_lang_notes = notes[notes['language'].isnull()]\n",
    "print(f\"{len(non_lang_notes[non_lang_notes['finalRatingStatus'] == 'CURRENTLY_RATED_HELPFUL'])}\\\n",
    " out of {len(non_lang_notes)} notes were rated helpful\")\n"
   ]
  },
  {
   "cell_type": "markdown",
   "metadata": {},
   "source": [
    "Seems like notes without further text does not help. Let's see the 3 helpfull ones!"
   ]
  },
  {
   "cell_type": "code",
   "execution_count": 28,
   "metadata": {},
   "outputs": [
    {
     "data": {
      "text/plain": [
       "55399         https://www.britannica.com/event/World-War-II\n",
       "83781          142 - 82 = 60    https://www.calculator.net/\n",
       "174315    𝕋𝕙𝕚𝕤 𝕡𝕠𝕤𝕥 𝕔𝕠𝕟𝕥𝕒𝕚𝕟𝕤 𝕒𝕟 𝕦𝕟𝕕𝕚𝕤𝕔𝕝𝕠𝕤𝕖𝕕 𝕒𝕕 𝕗𝕠𝕣 𝕊𝕥𝕒𝕜𝕖...\n",
       "Name: summary, dtype: object"
      ]
     },
     "execution_count": 28,
     "metadata": {},
     "output_type": "execute_result"
    }
   ],
   "source": [
    "non_lang_notes[non_lang_notes['finalRatingStatus'] == 'CURRENTLY_RATED_HELPFUL']['summary']"
   ]
  },
  {
   "cell_type": "markdown",
   "metadata": {},
   "source": [
    "One of them is actually an english notes which was wrongly identified as without language note."
   ]
  },
  {
   "cell_type": "code",
   "execution_count": 30,
   "metadata": {},
   "outputs": [
    {
     "name": "stdout",
     "output_type": "stream",
     "text": [
      "There are notes from 47 languages.\n"
     ]
    }
   ],
   "source": [
    "print(f\"There are notes from {notes['language'].nunique()} languages.\")"
   ]
  },
  {
   "cell_type": "code",
   "execution_count": 11,
   "metadata": {},
   "outputs": [
    {
     "name": "stdout",
     "output_type": "stream",
     "text": [
      "75.9% of the notes were rated helpful\n"
     ]
    }
   ],
   "source": [
    "# overall percentage of helpfulness\n",
    "helpful_freq = len(notes[notes['finalRatingStatus'] == 'CURRENTLY_RATED_HELPFUL']) / len(notes)\n",
    "print(f\"{helpful_freq*100:.1f}% of the notes were rated helpful\")"
   ]
  },
  {
   "cell_type": "markdown",
   "metadata": {},
   "source": [
    "Let's see the distribution of languages of the note with more than 1% of the total"
   ]
  },
  {
   "cell_type": "code",
   "execution_count": 4,
   "metadata": {},
   "outputs": [
    {
     "data": {
      "text/plain": [
       "<Axes: xlabel='language'>"
      ]
     },
     "execution_count": 4,
     "metadata": {},
     "output_type": "execute_result"
    },
    {
     "data": {
      "image/png": "[encoded data removed]",
      "text/plain": [
       "<Figure size 640x480 with 1 Axes>"
      ]
     },
     "metadata": {},
     "output_type": "display_data"
    }
   ],
   "source": [
    "# notes['language'].hist()\n",
    "# more popular languages \n",
    "pop_langs = notes['language'].value_counts()[notes['language'].value_counts() > .01*len(notes)].index\n",
    "\n",
    "notes[notes['language'].isin(pop_langs)]['language'].value_counts().plot(kind='bar')"
   ]
  },
  {
   "cell_type": "code",
   "execution_count": 5,
   "metadata": {},
   "outputs": [
    {
     "data": {
      "image/png": "[encoded data removed]",
      "text/plain": [
       "<Figure size 640x480 with 3 Axes>"
      ]
     },
     "metadata": {},
     "output_type": "display_data"
    }
   ],
   "source": [
    "# compare labels of helpfulness between languages.\n",
    "# plt.rcParams['font.size'] = 16 \n",
    "mosaic(notes[notes['language'].isin(pop_langs)],\n",
    "    ['language', 'finalRatingStatus'], labelizer=lambda k: '');"
   ]
  },
  {
   "cell_type": "code",
   "execution_count": 16,
   "metadata": {},
   "outputs": [
    {
     "data": {
      "text/html": [
       "<div>\n",
       "<style scoped>\n",
       "    .dataframe tbody tr th:only-of-type {\n",
       "        vertical-align: middle;\n",
       "    }\n",
       "\n",
       "    .dataframe tbody tr th {\n",
       "        vertical-align: top;\n",
       "    }\n",
       "\n",
       "    .dataframe thead th {\n",
       "        text-align: right;\n",
       "    }\n",
       "</style>\n",
       "<table border=\"1\" class=\"dataframe\">\n",
       "  <thead>\n",
       "    <tr style=\"text-align: right;\">\n",
       "      <th></th>\n",
       "      <th>language</th>\n",
       "      <th>finalRatingStatus</th>\n",
       "      <th>count</th>\n",
       "      <th>percent</th>\n",
       "      <th>above_average</th>\n",
       "    </tr>\n",
       "  </thead>\n",
       "  <tbody>\n",
       "    <tr>\n",
       "      <th>0</th>\n",
       "      <td>de</td>\n",
       "      <td>CURRENTLY_RATED_HELPFUL</td>\n",
       "      <td>2870</td>\n",
       "      <td>74.778530</td>\n",
       "      <td>False</td>\n",
       "    </tr>\n",
       "    <tr>\n",
       "      <th>2</th>\n",
       "      <td>en</td>\n",
       "      <td>CURRENTLY_RATED_HELPFUL</td>\n",
       "      <td>74290</td>\n",
       "      <td>73.794104</td>\n",
       "      <td>False</td>\n",
       "    </tr>\n",
       "    <tr>\n",
       "      <th>4</th>\n",
       "      <td>es</td>\n",
       "      <td>CURRENTLY_RATED_HELPFUL</td>\n",
       "      <td>9187</td>\n",
       "      <td>76.386464</td>\n",
       "      <td>True</td>\n",
       "    </tr>\n",
       "    <tr>\n",
       "      <th>6</th>\n",
       "      <td>fr</td>\n",
       "      <td>CURRENTLY_RATED_HELPFUL</td>\n",
       "      <td>8479</td>\n",
       "      <td>79.975476</td>\n",
       "      <td>True</td>\n",
       "    </tr>\n",
       "    <tr>\n",
       "      <th>8</th>\n",
       "      <td>ja</td>\n",
       "      <td>CURRENTLY_RATED_HELPFUL</td>\n",
       "      <td>14440</td>\n",
       "      <td>86.711103</td>\n",
       "      <td>True</td>\n",
       "    </tr>\n",
       "    <tr>\n",
       "      <th>10</th>\n",
       "      <td>pt</td>\n",
       "      <td>CURRENTLY_RATED_HELPFUL</td>\n",
       "      <td>6596</td>\n",
       "      <td>81.694327</td>\n",
       "      <td>True</td>\n",
       "    </tr>\n",
       "  </tbody>\n",
       "</table>\n",
       "</div>"
      ],
      "text/plain": [
       "   language        finalRatingStatus  count    percent  above_average\n",
       "0        de  CURRENTLY_RATED_HELPFUL   2870  74.778530          False\n",
       "2        en  CURRENTLY_RATED_HELPFUL  74290  73.794104          False\n",
       "4        es  CURRENTLY_RATED_HELPFUL   9187  76.386464           True\n",
       "6        fr  CURRENTLY_RATED_HELPFUL   8479  79.975476           True\n",
       "8        ja  CURRENTLY_RATED_HELPFUL  14440  86.711103           True\n",
       "10       pt  CURRENTLY_RATED_HELPFUL   6596  81.694327           True"
      ]
     },
     "execution_count": 16,
     "metadata": {},
     "output_type": "execute_result"
    }
   ],
   "source": [
    "# The helpfulness level does not seem to be that different. Let's see!\n",
    "helfulness_langs = notes[notes['language'].isin(pop_langs)] \\\n",
    "    .groupby(['language', 'finalRatingStatus']) \\\n",
    "    .count().reset_index()[['language', 'finalRatingStatus','noteId']]\n",
    "# rename noteID\n",
    "helfulness_langs.rename(columns={'noteId': 'count'}, inplace=True)\n",
    "\n",
    "def percentage_lang(row):\n",
    "    return (row['count'] / \\\n",
    "        helfulness_langs[helfulness_langs['language'] == row['language']]['count'].sum()\n",
    "        * 100)\n",
    "helfulness_langs['percent'] = helfulness_langs.apply(percentage_lang, axis=1)\n",
    "helfulness_langs['above_average'] = helfulness_langs['percent'] > helpful_freq*100\n",
    "helfulness_langs[helfulness_langs['finalRatingStatus'] == 'CURRENTLY_RATED_HELPFUL']\n",
    "\n"
   ]
  },
  {
   "cell_type": "markdown",
   "metadata": {},
   "source": [
    "The majority of notes are in english. Let's focus on them."
   ]
  },
  {
   "cell_type": "code",
   "execution_count": 42,
   "metadata": {},
   "outputs": [],
   "source": [
    "df_eng = notes[notes['language'] == 'en']"
   ]
  },
  {
   "cell_type": "markdown",
   "metadata": {},
   "source": [
    "Textstat package has multiple tests for reading grade or reading ease. However, the text_standard test is the mixture of all of them and seems to be the most accurate.\n",
    "However, having a URL in the text fools textstat to give a much higher reading score."
   ]
  },
  {
   "cell_type": "code",
   "execution_count": 37,
   "metadata": {},
   "outputs": [
    {
     "name": "stdout",
     "output_type": "stream",
     "text": [
      "Original text: The headline in this photo does not appear on CNN.com.   https://www.google.com/search?q=intitle%3A%22jewish+hedge+fund%22+site%3Acnn.com\n",
      "Reading score before removing urls: 38.0\n",
      "Found URLs: ['CNN.com', 'https://www.google.com/search?q=intitle%3A%22jewish+hedge+fund%22+site%3Acnn.com']\n",
      "Reading score after removing urls: 4.0\n"
     ]
    }
   ],
   "source": [
    "text = df_eng.iloc[1]['summary']\n",
    "print(f\"Original text: {text}\")\n",
    "print(f\"Reading score before removing urls: {textstat.text_standard(text, float_output=True)}\")\n",
    "extractor = URLExtract()\n",
    "urls = extractor.find_urls(text)\n",
    "print(f\"Found URLs: {urls}\")\n",
    "\n",
    "# reomve urls from the text\n",
    "for url in urls:\n",
    "    text = text.replace(url, '')\n",
    "print(f\"Reading score after removing urls: {textstat.text_standard(text, float_output=True)}\")"
   ]
  },
  {
   "cell_type": "markdown",
   "metadata": {},
   "source": [
    "As a result, we need to create some more columns for keeping the characteristics of the note, after removing URLs and some other non-text characteristics (&quot, &amp)"
   ]
  },
  {
   "cell_type": "code",
   "execution_count": 44,
   "metadata": {},
   "outputs": [],
   "source": [
    "# initiate some lists to keep new columns\n",
    "noteClean = [] # keep the notes, potentialy for further analysis\n",
    "hasURL = [] # if note contains url\n",
    "nSentence = [] # number of sentences in the note\n",
    "nWord = [] # number of words in the note\n",
    "nSyllable = [] # number of syllables in the note\n",
    "readingScore = [] # reading level given by text_standard from textstat package\n",
    "\n",
    "# initiate url extractor\n",
    "extractor = URLExtract()\n",
    "# loop through the english dataframe to calculate each of the above variables\n",
    "for idx, row in df_eng.iterrows():\n",
    "    text = row['summary']\n",
    "    hasURL.append(extractor.has_urls(text))\n",
    "    # find urls\n",
    "    urls = extractor.find_urls(text)\n",
    "    # reomve urls from the text\n",
    "    for url in urls:\n",
    "        text = text.replace(url, '').replace('&quot', '').replace('&amp', '')\n",
    "    noteClean.append(text)    \n",
    "    nSentence.append(textstat.sentence_count(text))\n",
    "    nWord.append(textstat.lexicon_count(text, removepunct=True))\n",
    "    nSyllable.append(textstat.syllable_count(text))\n",
    "    readingScore.append(textstat.text_standard(text, float_output=True))\n",
    "\n",
    "df_eng = df_eng.assign(hasURL = hasURL,\n",
    "                        noteClean = noteClean,\n",
    "                        nSentence = nSentence,\n",
    "                        nWord = nWord,\n",
    "                        nSyllable = nSyllable,\n",
    "                        readingScore = readingScore)\n",
    "# save the dataframe\n",
    "df_eng.to_parquet('notes_english.parquet')"
   ]
  },
  {
   "cell_type": "code",
   "execution_count": 3,
   "metadata": {},
   "outputs": [],
   "source": [
    "# load english notes if not already loaded\n",
    "df_eng = pd.read_parquet('notes_english.parquet', engine='auto')"
   ]
  },
  {
   "cell_type": "code",
   "execution_count": 10,
   "metadata": {},
   "outputs": [
    {
     "data": {
      "text/plain": [
       "'Percentage of Helpful notes within english ones is 74%'"
      ]
     },
     "execution_count": 10,
     "metadata": {},
     "output_type": "execute_result"
    }
   ],
   "source": [
    "f\"Percentage of Helpful notes within english ones is\\\n",
    "{len(df_eng[df_eng['finalRatingStatus'] == 'CURRENTLY_RATED_HELPFUL']) / len(df_eng)*100: .0f}%\""
   ]
  },
  {
   "cell_type": "code",
   "execution_count": 4,
   "metadata": {},
   "outputs": [
    {
     "data": {
      "text/plain": [
       "finalRatingStatus\n",
       "CURRENTLY_RATED_HELPFUL        9.165110\n",
       "CURRENTLY_RATED_NOT_HELPFUL    8.421689\n",
       "Name: readingScore, dtype: float64"
      ]
     },
     "execution_count": 4,
     "metadata": {},
     "output_type": "execute_result"
    }
   ],
   "source": [
    "\n",
    "# compare reading scores for helpful vs unhelpful notes\n",
    "df_eng.groupby('finalRatingStatus')['readingScore'].mean()"
   ]
  },
  {
   "cell_type": "markdown",
   "metadata": {},
   "source": [
    "They see to be about one score difference between helpful and unhelpful notes. Let's take a closer look at their distribution."
   ]
  },
  {
   "cell_type": "code",
   "execution_count": 11,
   "metadata": {},
   "outputs": [
    {
     "data": {
      "text/plain": [
       "count    100672.000000\n",
       "mean          8.970290\n",
       "std           5.345574\n",
       "min          -4.000000\n",
       "25%           6.000000\n",
       "50%           9.000000\n",
       "75%          11.000000\n",
       "max         340.000000\n",
       "Name: readingScore, dtype: float64"
      ]
     },
     "execution_count": 11,
     "metadata": {},
     "output_type": "execute_result"
    }
   ],
   "source": [
    "# first, distribution of reading scores\n",
    "# sns.histplot(data=df_eng, x='readingScore')\n",
    "df_eng['readingScore'].describe()"
   ]
  },
  {
   "cell_type": "markdown",
   "metadata": {},
   "source": [
    "There is a score of more than 300 among reading scores! Let's see what it is!"
   ]
  },
  {
   "cell_type": "code",
   "execution_count": 12,
   "metadata": {},
   "outputs": [
    {
     "data": {
      "text/plain": [
       "'情報源がいずれも個人のSNS投稿のみで正式な報道が無いため、デマの可能性が高いことに注意が必要です。    Google検索  https://www.google.com/search?q=%E3%83%AD%E3%83%83%E3%83%86+%E5%96%A7%E5%98%A9&amp;oq=%E3%83%AD%E3%83%83%E3%83%86%E3%80%80%E5%96%A7%E5%98%A9&amp;gs_lcrp=EgZjaHJvbWUyBggAEEUYOdIBCDMwMzVqMGo0qAIAsAIB&amp;sourceid=chrome&amp;ie=UTF-8  https://www.google.com/search?q=%E3%83%AD%E3%83%83%E3%83%86+%E5%BF%83%E8%82%BA%E5%81%9C%E6%AD%A2&amp;sca_esv=f2c31ff271fb88b6&amp;sca_upv=1&amp;ei=jNC3ZuLkJJSYvr0Pr_TKmQQ&amp;oq=%E3%83%AD%E3%83%83%E3%83%86+%E5%BF%83%E8%82%BA&amp;gs_lp=Egxnd3Mtd2l6LXNlcnAiEOODreODg-ODhiDlv4PogroqAggAMgQQABgDMggQABiABBiiBDIIEAAYgAQYogQyCBAAGIAEGKIEMggQABiABBiiBDIIEAAYgAQYogRI4TNQ5ghY4CJwAXgAkAEAmAGqAaAB2AqqAQM0Lji4AQHIAQD4AQGYAgmgAq8HwgILEAAYsAMYBBgeGA_CAgsQABiABBiwAxiiBMICChAAGIAEGEMYigXCAhAQABiABBixAxhDGIMBGIoFwgILEAAYgAQYsQMYgwHCAggQABiABBixA8ICDhAAGIAEGLEDGIMBGIoFwgIGEAAYAxgEwgINEAAYgAQYsQMYgwEYBMICBxAAGIAEGATCAggQABgEGAgYHsICCBAAGAQYBRgewgIFECEYoAGYAwCIBgGQBgWSBwMyLjegB-8i&amp;sclient=gws-wiz-serp'"
      ]
     },
     "execution_count": 12,
     "metadata": {},
     "output_type": "execute_result"
    }
   ],
   "source": [
    "df_eng[df_eng['readingScore'] == max(df_eng['readingScore'])]['summary'].tolist()[0]"
   ]
  },
  {
   "cell_type": "markdown",
   "metadata": {},
   "source": [
    "It seems like the note has a link (which is in english). Maybe we need to remove the links before detecting languages!"
   ]
  },
  {
   "cell_type": "code",
   "execution_count": 49,
   "metadata": {},
   "outputs": [
    {
     "data": {
      "text/plain": [
       "'en'"
      ]
     },
     "execution_count": 49,
     "metadata": {},
     "output_type": "execute_result"
    }
   ],
   "source": [
    "detect(df_eng[df_eng['readingScore'] == max(df_eng['readingScore'])]['noteClean'].tolist()[0])"
   ]
  },
  {
   "cell_type": "markdown",
   "metadata": {},
   "source": [
    "But this doesn't seem to work on this specific note either. Because it was written without spaces between links. Let's just remove outliers from the notes with regard to note scores."
   ]
  },
  {
   "cell_type": "code",
   "execution_count": 13,
   "metadata": {},
   "outputs": [],
   "source": [
    "# tukey's criteria (1.5 iqr + q3)\n",
    "Q1, Q3 = df_eng['readingScore'].quantile([.25, .75])\n",
    "IQR = Q3 - Q1\n",
    "lower_bound = Q1 - 1.5*IQR\n",
    "upper_bound = Q3 + 1.5*IQR\n",
    "df_eng_trimmed = df_eng[(df_eng['readingScore'] > lower_bound) &\n",
    "                        (df_eng['readingScore'] < upper_bound)]"
   ]
  },
  {
   "cell_type": "code",
   "execution_count": 16,
   "metadata": {},
   "outputs": [
    {
     "data": {
      "text/plain": [
       "'Percentage of Helpful notes within cleaned english ones is 74%'"
      ]
     },
     "execution_count": 16,
     "metadata": {},
     "output_type": "execute_result"
    }
   ],
   "source": [
    "f\"Percentage of outliers: {(len(df_eng) - len(df_eng_trimmed)) / len(df_eng)*100:.1f}\"\n",
    "\n",
    "# percentage of outliers and if it's consistent with helpful/all ratio\n",
    "f\"Percentage of Helpful notes within cleaned english ones is\\\n",
    "{len(df_eng_trimmed[df_eng_trimmed['finalRatingStatus'] == 'CURRENTLY_RATED_HELPFUL']) / len(df_eng_trimmed)*100: .0f}%\""
   ]
  },
  {
   "cell_type": "code",
   "execution_count": 19,
   "metadata": {},
   "outputs": [
    {
     "data": {
      "text/plain": [
       "finalRatingStatus\n",
       "CURRENTLY_RATED_HELPFUL        8.843707\n",
       "CURRENTLY_RATED_NOT_HELPFUL    7.899746\n",
       "Name: readingScore, dtype: float64"
      ]
     },
     "execution_count": 19,
     "metadata": {},
     "output_type": "execute_result"
    }
   ],
   "source": [
    "\n",
    "# compare reading scores for helpful vs unhelpful notes\n",
    "df_eng_trimmed.groupby('finalRatingStatus')['readingScore'].mean()"
   ]
  },
  {
   "cell_type": "markdown",
   "metadata": {},
   "source": [
    "The helpfull notes are still on average about one score higher than the unhelpful ones."
   ]
  },
  {
   "cell_type": "code",
   "execution_count": 20,
   "metadata": {},
   "outputs": [
    {
     "data": {
      "text/plain": [
       "<Axes: xlabel='readingScore', ylabel='Density'>"
      ]
     },
     "execution_count": 20,
     "metadata": {},
     "output_type": "execute_result"
    },
    {
     "data": {
      "image/png": "[encoded data removed]",
      "text/plain": [
       "<Figure size 640x480 with 1 Axes>"
      ]
     },
     "metadata": {},
     "output_type": "display_data"
    }
   ],
   "source": [
    "sns.histplot(data=df_eng_trimmed, x='readingScore', hue='finalRatingStatus',\n",
    "             stat='density', common_norm=False)"
   ]
  },
  {
   "cell_type": "markdown",
   "metadata": {},
   "source": [
    "The average difference is also visible in their distribution. I guess it should also reflect in average legnth of the sentences. Let's see!"
   ]
  },
  {
   "cell_type": "code",
   "execution_count": 21,
   "metadata": {},
   "outputs": [
    {
     "data": {
      "text/plain": [
       "finalRatingStatus\n",
       "CURRENTLY_RATED_HELPFUL        2.133318\n",
       "CURRENTLY_RATED_NOT_HELPFUL    1.820238\n",
       "Name: nSentence, dtype: float64"
      ]
     },
     "execution_count": 21,
     "metadata": {},
     "output_type": "execute_result"
    }
   ],
   "source": [
    "df_eng_trimmed.groupby('finalRatingStatus')['nSentence'].mean()"
   ]
  },
  {
   "cell_type": "markdown",
   "metadata": {},
   "source": [
    "and if they have a link:"
   ]
  },
  {
   "cell_type": "code",
   "execution_count": 22,
   "metadata": {},
   "outputs": [
    {
     "data": {
      "text/plain": [
       "finalRatingStatus\n",
       "CURRENTLY_RATED_HELPFUL        0.991364\n",
       "CURRENTLY_RATED_NOT_HELPFUL    0.668881\n",
       "Name: hasURL, dtype: float64"
      ]
     },
     "execution_count": 22,
     "metadata": {},
     "output_type": "execute_result"
    }
   ],
   "source": [
    "df_eng_trimmed.groupby('finalRatingStatus')['hasURL'].mean()"
   ]
  },
  {
   "cell_type": "code",
   "execution_count": 23,
   "metadata": {},
   "outputs": [],
   "source": [
    "#TODO do some statistical tests to make sure the differnces are significant!"
   ]
  }
 ],
 "metadata": {
  "kernelspec": {
   "display_name": ".env",
   "language": "python",
   "name": "python3"
  },
  "language_info": {
   "codemirror_mode": {
    "name": "ipython",
    "version": 3
   },
   "file_extension": ".py",
   "mimetype": "text/x-python",
   "name": "python",
   "nbconvert_exporter": "python",
   "pygments_lexer": "ipython3",
   "version": "3.10.12"
  }
 },
 "nbformat": 4,
 "nbformat_minor": 2
}
