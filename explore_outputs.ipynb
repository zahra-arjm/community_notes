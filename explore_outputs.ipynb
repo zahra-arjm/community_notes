{
 "cells": [
  {
   "cell_type": "code",
   "execution_count": 5,
   "metadata": {},
   "outputs": [],
   "source": [
    "import pandas as pd\n",
    "from langdetect import detect"
   ]
  },
  {
   "cell_type": "code",
   "execution_count": 6,
   "metadata": {},
   "outputs": [],
   "source": [
    "notes = pd.read_parquet('rated_notes_compact.parquet', engine='auto')"
   ]
  },
  {
   "cell_type": "code",
   "execution_count": 7,
   "metadata": {},
   "outputs": [
    {
     "data": {
      "text/plain": [
       "Index(['noteId', 'finalRatingStatus', 'firstTag', 'secondTag',\n",
       "       'classification', 'createdAtMillis', 'numRatings', 'noteTopic',\n",
       "       'topicNoteConfident', 'noteAuthorParticipantId', 'tweetId',\n",
       "       'misleadingOther', 'misleadingFactualError',\n",
       "       'misleadingManipulatedMedia', 'misleadingOutdatedInformation',\n",
       "       'misleadingMissingImportantContext', 'misleadingUnverifiedClaimAsFact',\n",
       "       'misleadingSatire', 'notMisleadingOther',\n",
       "       'notMisleadingFactuallyCorrect',\n",
       "       'notMisleadingOutdatedButNotWhenWritten', 'notMisleadingClearlySatire',\n",
       "       'notMisleadingPersonalOpinion', 'trustworthySources', 'summary',\n",
       "       'isMediaNote'],\n",
       "      dtype='object')"
      ]
     },
     "execution_count": 7,
     "metadata": {},
     "output_type": "execute_result"
    }
   ],
   "source": [
    "# clumn names\n",
    "notes.columns"
   ]
  },
  {
   "cell_type": "code",
   "execution_count": 8,
   "metadata": {},
   "outputs": [
    {
     "data": {
      "text/plain": [
       "175861"
      ]
     },
     "execution_count": 8,
     "metadata": {},
     "output_type": "execute_result"
    }
   ],
   "source": [
    "# number of rated notes\n",
    "len(notes)"
   ]
  },
  {
   "cell_type": "markdown",
   "metadata": {},
   "source": [
    "check assigned topics"
   ]
  },
  {
   "cell_type": "code",
   "execution_count": 9,
   "metadata": {},
   "outputs": [
    {
     "data": {
      "text/plain": [
       "noteTopic\n",
       "GazaConflict       9540\n",
       "UkraineConflict    5970\n",
       "MessiRonaldo        514\n",
       "Name: count, dtype: int64"
      ]
     },
     "execution_count": 9,
     "metadata": {},
     "output_type": "execute_result"
    }
   ],
   "source": [
    "notes['noteTopic'].value_counts()"
   ]
  },
  {
   "cell_type": "code",
   "execution_count": 10,
   "metadata": {},
   "outputs": [
    {
     "data": {
      "text/plain": [
       "array([None, 'GazaConflict', 'UkraineConflict', 'MessiRonaldo'],\n",
       "      dtype=object)"
      ]
     },
     "execution_count": 10,
     "metadata": {},
     "output_type": "execute_result"
    }
   ],
   "source": [
    "notes['noteTopic'].unique()"
   ]
  },
  {
   "cell_type": "markdown",
   "metadata": {},
   "source": [
    "check how many does not have an assigned topic"
   ]
  },
  {
   "cell_type": "code",
   "execution_count": 11,
   "metadata": {},
   "outputs": [
    {
     "data": {
      "text/plain": [
       "159837"
      ]
     },
     "execution_count": 11,
     "metadata": {},
     "output_type": "execute_result"
    }
   ],
   "source": [
    "len(notes[notes['noteTopic'].values == None])"
   ]
  },
  {
   "cell_type": "markdown",
   "metadata": {},
   "source": [
    "Most of them does not have an assigned topic! Let's see 10 random note without a topic!\n"
   ]
  },
  {
   "cell_type": "code",
   "execution_count": 12,
   "metadata": {},
   "outputs": [
    {
     "data": {
      "text/plain": [
       "49015                                                  None\n",
       "124020    トランプ氏は自身が立ち上げたSNS「True Social」上で撃たれたのは右耳の上部である...\n",
       "101937    This is a graphic from 2006.   https://www.reu...\n",
       "28545     It’s not directly by Honda, there is a car del...\n",
       "166917    This post contains an unsolicited advertisemen...\n",
       "163890    Lewis Hamilton never said that. The author of ...\n",
       "41035                                                  None\n",
       "25204     The CDC said that even people who have immunit...\n",
       "15524                                                  None\n",
       "7944      Trata-se de uma encenação. O criador do vídeo ...\n",
       "Name: summary, dtype: object"
      ]
     },
     "execution_count": 12,
     "metadata": {},
     "output_type": "execute_result"
    }
   ],
   "source": [
    "notes[notes['noteTopic'].values == None]['summary'].sample(n=10)"
   ]
  },
  {
   "cell_type": "markdown",
   "metadata": {},
   "source": [
    "It seems like most of them are not in English! Plus, some of them are None! Let's remove the None s and detect the language the notes were written in!"
   ]
  },
  {
   "cell_type": "code",
   "execution_count": 45,
   "metadata": {},
   "outputs": [],
   "source": [
    "notes = notes[notes['summary'].notna()]"
   ]
  },
  {
   "cell_type": "code",
   "execution_count": 46,
   "metadata": {},
   "outputs": [
    {
     "data": {
      "text/plain": [
       "159226"
      ]
     },
     "execution_count": 46,
     "metadata": {},
     "output_type": "execute_result"
    }
   ],
   "source": [
    "len(notes)"
   ]
  },
  {
   "cell_type": "code",
   "execution_count": 51,
   "metadata": {},
   "outputs": [
    {
     "name": "stdout",
     "output_type": "stream",
     "text": [
      "An exception occurred: No features in text.\n",
      "🖕🖕🖕🖕🖕🖕\n",
      "An exception occurred: No features in text.\n",
      "http://www.shadowstats.com/alternate_data/inflation-charts\n",
      "An exception occurred: No features in text.\n",
      "🫡\n",
      "An exception occurred: No features in text.\n",
      "🔥 🐶☕ 🔥\n",
      "An exception occurred: No features in text.\n",
      ".\n",
      "An exception occurred: No features in text.\n",
      "https://www.mhlw.go.jp/stf/seisakunitsuite/bunya/vaccine_pfizer_bivalent.html#002\n",
      "An exception occurred: No features in text.\n",
      "https://sites.imsa.edu/acronym/2021/03/04/elon-musk-is-not-an-entrepreneur-hes-a-rich-deceitful-hack/  https://www.cnbc.com/2018/06/01/elon-musks-mom-worked-5-jobs-to-raise-3-kids-after-her-divorce.html  https://www.cnbc.com/2018/06/12/telsas-elon-musk-tweets-he-arrived-in-north-america-at-17-with-2000.html  \n",
      "An exception occurred: No features in text.\n",
      "https://twitter.com/horacioneiva/status/1658638214385614852?s=20\n",
      "An exception occurred: No features in text.\n",
      "https://www.washingtonpost.com/politics/2021/03/19/how-spot-fake-video/\n",
      "An exception occurred: No features in text.\n",
      "https://www.theaustralian.com.au/world/every-living-president-is-a-descendant-of-slaveholders-except-donald-trump/news-story/b5aee952293f78d114ffd1b9635da8b4?amp&amp;nk=6974969ae1f3ed134222e25726755957-1687931325\n",
      "An exception occurred: No features in text.\n",
      "https://x.ai/\n",
      "An exception occurred: No features in text.\n",
      "https://www.snopes.com/news/2023/03/29/guns-leading-deaths-children-us/\n",
      "An exception occurred: No features in text.\n",
      "10\n",
      "An exception occurred: No features in text.\n",
      "https://onlinelibrary.wiley.com/doi/epdf/10.1002/ejhf.2978    https://www.preprints.org/manuscript/202307.1198/v1\n",
      "An exception occurred: No features in text.\n",
      "....\n",
      "An exception occurred: No features in text.\n",
      " \n",
      "An exception occurred: No features in text.\n",
      "🤓\n",
      "An exception occurred: No features in text.\n",
      "😳\n",
      "An exception occurred: No features in text.\n",
      "2\n",
      "An exception occurred: No features in text.\n",
      ".\n",
      "An exception occurred: No features in text.\n",
      "😭😭😭😭😭😭😭😭😭😭😭😭😭😭😭😭😭😭😭😭😭😭😭\n",
      "An exception occurred: No features in text.\n",
      "2023 + 977 = 3000\n",
      "An exception occurred: No features in text.\n",
      "https://www.breitbart.com/politics/2023/08/15/democrats-denied-election-results-more-than-150-times-before-trump-was-indicted-for-challenging-election/\n",
      "An exception occurred: No features in text.\n",
      "https://www.breitbart.com/politics/2023/08/15/democrats-denied-election-results-more-than-150-times-before-trump-was-indicted-for-challenging-election/\n",
      "An exception occurred: No features in text.\n",
      ":)\n",
      "An exception occurred: No features in text.\n",
      "☝️🤓\n",
      "An exception occurred: No features in text.\n",
      "https://x.com/anadoluagency/status/1711812910035407131?s=20\n",
      "An exception occurred: No features in text.\n",
      "https://x.com/ricwe123/status/1710601427490672983?s=46&amp;t=awFASC9llPGIZBZDd61ebA    \n",
      "An exception occurred: No features in text.\n",
      "https://twitter.com/hermanntertsch/status/1712365106410017111?t=e-BrPe5TxYOo4XRHiz9DQQ&amp;s=19    https://twitter.com/martinvars/status/1712004068397252832?t=e-BrPe5TxYOo4XRHiz9DQQ&amp;s=19\n",
      "An exception occurred: No features in text.\n",
      "https://opiniojuris.org/2023/10/18/public-statement-scholars-warn-of-potential-genocide-in-gaza/\n",
      "An exception occurred: No features in text.\n",
      "https://www.disco.com.ar/gaseosa-coca-cola-x-3-lt/p\n",
      "An exception occurred: No features in text.\n",
      "🇮🇱🇺🇦✌️\n",
      "An exception occurred: No features in text.\n",
      "🤓    https://x.com/DramaAlert/status/1727356731758649371?s=20\n",
      "An exception occurred: No features in text.\n",
      "“☝️🤓”\n",
      "An exception occurred: No features in text.\n",
      "🤓☝️\n",
      "An exception occurred: No features in text.\n",
      "⣿⣿⣿⢁⣿⣿⣿⣿⡁⣿⣿⡟⠉⠉⢁⠆⠀⠀⠀⣿⣿⣿⡿⣿⣿⣿⣿⡿  ⣿⣿⣿⢈⠿⣿⡿⠿⣿⣿⣿⠑⡄⠁⠌⠀⠠⡂⢰⣿⣿⣿⣾⣿⣽⣿⣟⢃⣾⣿  ⣿⣿⣿⡟⠮⠋⠓⠀⠈⠉⠻⣷⣍⡄⠀⠀⠊⣠⣾⣿⠋⠉⡑⠉⡹⣋⠁⣼⣿⣿  ⣿⣿⣿⣿⣎⠽⢣⠀⠐⠀⠠⠍⠙⠿⠀⢀⠚⠇⠉⠀⠀⠠⠁⠀⣵⣃⣼⣿⣿⣿  ⠈⠁⠀⠉⠙⠛⢾⡆⠈⠛⠏⠉⠀⠀⣲⠒⠲⣶⣶⠶⠦⠄⠀⠸⠿⠟⣛⣛⡉⠛  ⣀⠀⠀⠀⠀⡀⠠⣵⡀⠀⠀⠀⠂⠈⢼⣀⠈⠁⠀⠀⠀⠀⠠⠁hey it's me  ⣿⣿⣿⣿⣿⣿⡇⢾⣧⡀⠀⠀⠀⠐⣚⡓⠲⠀⠀⠀⢐⡔⡇⠀goku  ⣿⣿⣿⣿⣿⣿⠰⠈⣿⣿⣶⣤⡀⠀⠩⠝⠀⠀⣀⣴⢏⠇⠀⠀⠀⣠⣶⣶⣶⣶  ⣿⣿⣯⠄⡩⣪⠀⠀⠘⣿⢿⣿⣿⣦⣐⢤⣰⡷⠋⠃⡜⠀⠀⠀⠑⢌⠉⠉⠛⠻ \n",
      "An exception occurred: No features in text.\n",
      "https://twitter.com/DCIPalestine/status/1731363634947698976\n",
      "An exception occurred: No features in text.\n",
      "https://www.dailymail.co.uk/news/article-2545880/amp/Electrician-left-stars-eyes-suffering-14-000-volt-shock-body.html\n",
      "An exception occurred: No features in text.\n",
      "🤓\n",
      "An exception occurred: No features in text.\n",
      "https://x.com/Olaff_/status/1737654123426713966?s=20\n",
      "An exception occurred: No features in text.\n",
      "https://www.scamdoc.com/view/1599929\n",
      "An exception occurred: No features in text.\n",
      "http://www.messaggi-online.it/george-orwel-nel-tempo-dellinganno-universale-dire-la-verita-e-un-atto-rivoluzionario/\n",
      "An exception occurred: No features in text.\n",
      "🤓\n",
      "An exception occurred: No features in text.\n",
      "https://www.britannica.com/event/World-War-II\n",
      "An exception occurred: No features in text.\n",
      "https://abc7ny.com/gas-prices-8-dollars-per-gallon-los-angeles-station-fuel-costs/11914986/\n",
      "An exception occurred: No features in text.\n",
      "🤓\n",
      "An exception occurred: No features in text.\n",
      "https://casetext.com/case/gregoire-v-cal-highway-patrol\n",
      "An exception occurred: No features in text.\n",
      "🤓\n",
      "An exception occurred: No features in text.\n",
      "💪\n",
      "An exception occurred: No features in text.\n",
      "1\n",
      "An exception occurred: No features in text.\n",
      "https://www.cntraveler.com/gallery/are-these-the-best-countries-in-the-world\n",
      "An exception occurred: No features in text.\n",
      "🤓👆\n",
      "An exception occurred: No features in text.\n",
      "https://thepeoplesvoice.tv/microsoft-to-disable-computers-of-users-who-share-non-mainstream-content-online/\n",
      "An exception occurred: No features in text.\n",
      "☝🏻🤓\n",
      "An exception occurred: No features in text.\n",
      "💀\n",
      "An exception occurred: No features in text.\n",
      "    https://dorseteye.com/alexey-navalny-was-an-islamophobe-and-a-far-right-racist-unlike-julian-assange/\n",
      "An exception occurred: No features in text.\n",
      "The 30,000 innocent Palestinians killed by Israeli forces:    ⚰️⚰️⚰️⚰️⚰️⚰️⚰️⚰️⚰️⚰️⚰️⚰️⚰️⚰️⚰️⚰️⚰️⚰️⚰️⚰️⚰️⚰️⚰️⚰️⚰️⚰️⚰️⚰️⚰️⚰️⚰️⚰️⚰️⚰️⚰️⚰️⚰️⚰️⚰️⚰️⚰️⚰️⚰️⚰️⚰️⚰️⚰️⚰️⚰️⚰️⚰️⚰️⚰️⚰️⚰️⚰️⚰️⚰️⚰️⚰️⚰️⚰️⚰️⚰️⚰️⚰️⚰️⚰️⚰️⚰️⚰️⚰️⚰️⚰️⚰️⚰️⚰️⚰️⚰️⚰️⚰️⚰️⚰️⚰️⚰️⚰️⚰️⚰️⚰️⚰️⚰️⚰️⚰️⚰️⚰️⚰️⚰️⚰️⚰️⚰️⚰️⚰️⚰️⚰️⚰️⚰️x256    https://reliefweb.int/report/occupied-palestinian-territory/nearly-30000-palestinians-killed-during-82-day-israeli-genocide-gaza-enar#:~:text=The%20death%20toll%20of%20Israel's,Euro%2DMed%20Human%20Rights%20Monitor.\n",
      "An exception occurred: No features in text.\n",
      "https://www.france24.com/en/middle-east/20240205-as-donors-suspend-critical-funding-to-unrwa-allegations-against-staff-remain-murky\n",
      "An exception occurred: No features in text.\n",
      "https://apnews.com/article/abortion-federal-ban-trump-gop-2024-20586bbb64a511030ef58290e98f99f0\n",
      "An exception occurred: No features in text.\n",
      "☝🤓\n",
      "An exception occurred: No features in text.\n",
      "https://twitter.com/ceticismo/status/1768205236726853686?t=LOus_0_WbyC7uGVZWyEaRA&amp;s=19\n",
      "An exception occurred: No features in text.\n",
      "https://support.apple.com/en-gb/102616    https://support.google.com/android/answer/9075928?hl=en-GB\n",
      "An exception occurred: No features in text.\n",
      "https://twitter.com/wizardingnews/status/1770521777879302153?t=2gcVW-gTYbVute1pSRH5mA&amp;s=19\n",
      "An exception occurred: No features in text.\n",
      "🥩\n",
      "An exception occurred: No features in text.\n",
      "142 - 82 = 60    https://www.calculator.net/\n",
      "An exception occurred: No features in text.\n",
      "🤡  https://de.m.wikipedia.org/wiki/Clown  \n",
      "An exception occurred: No features in text.\n",
      "🤓☝️\n",
      "An exception occurred: No features in text.\n",
      "https://www.grundfos.com/de/learn/research-and-insights/local-oem-heat-pump-web-article\n",
      "An exception occurred: No features in text.\n",
      "🤓\n",
      "An exception occurred: No features in text.\n",
      "https://twitter.com/Grummz/status/1783884357759033827\n",
      "An exception occurred: No features in text.\n",
      "https://www.butac.it/pala-eolica-ecologica/\n",
      "An exception occurred: No features in text.\n",
      "https://twitter.com/libertyybiberty/status/1784824703191810143?t=BoR5njv4Bpk1WxPp5qKrBA&amp;s=19\n",
      "An exception occurred: No features in text.\n",
      "🐶💔\n",
      "An exception occurred: No features in text.\n",
      "https://x.com/rcedano/status/1786551856128532775\n",
      "An exception occurred: No features in text.\n",
      "🤓\n",
      "An exception occurred: No features in text.\n",
      "https://twitter.com/RT_India_news/status/1788196713779388682?t=ahplVqf6so5UqW8_9HZBcw&amp;s=19\n",
      "An exception occurred: No features in text.\n",
      "https://en.wikipedia.org/wiki/Satire?wprov=sfla1\n",
      "An exception occurred: No features in text.\n",
      "☝️🤓\n",
      "An exception occurred: No features in text.\n",
      "https://www.vox.com/policy-and-politics/2019/6/20/18677998/joe-biden-1994-crime-bill-law-mass-incarceration\n",
      "An exception occurred: No features in text.\n",
      "https://t.co/xvnGyyohtR\n",
      "An exception occurred: No features in text.\n",
      "https://www.youtube.com/watch?v=mJuYcswcVw8\n",
      "An exception occurred: No features in text.\n",
      "🤓☝️\n",
      "An exception occurred: No features in text.\n",
      "https://theconversation.com/us-election-why-latino-and-hispanic-voters-are-shifting-to-trump-after-a-long-history-of-supporting-the-democrats-229566\n",
      "An exception occurred: No features in text.\n",
      "https://x.com/MikeCollinsGA/status/1812257581655531669?t=EAXI8-LmEyLzuFk_7_S--A&amp;s=19\n",
      "An exception occurred: No features in text.\n",
      "https://www.guncrafttraining.com/articles/the-pros-and-cons-of-the-home-defense-ar-15\n",
      "An exception occurred: No features in text.\n",
      "https://x.com/timobrien/status/1815954334158319635?s=46&amp;t=5r6SRGGi-ow0q2e1FFaBaA\n",
      "An exception occurred: No features in text.\n",
      "https://theprint.in/politics/suspended-bjp-leader-nupur-sharma-in-reckoning-for-rae-bareli-ticket-central-leadership-to-decide/2009812/    https://www.newindianexpress.com/web-only/2024/Jun/04/up-results-a-setback-not-just-for-the-bjp-but-for-yogi-adityanath-too    \n",
      "An exception occurred: No features in text.\n",
      "https://www.google.com/search?q=trump+rally&amp;oq=trump+rally&amp;gs_lcrp=EgZjaHJvbWUyBggAEEUYOdIBCDM1ODhqMGo0qAIBsAIB&amp;client=ms-android-verizon-us-rvc3&amp;sourceid=chrome-mobile&amp;ie=UTF-8\n",
      "An exception occurred: No features in text.\n",
      "https://twitter.com/TheBreakdownAB/status/1819145515076145380\n",
      "An exception occurred: No features in text.\n",
      "https://t.me/interpol_russia/289\n",
      "An exception occurred: No features in text.\n",
      "https://x.com/DonaldJTrumpJr/status/1820928081005314348\n",
      "An exception occurred: No features in text.\n",
      "1. 🇪🇺 309 (97🥇, 95 🥈, 117🥉)   2. 🇺🇸 126 (40 🥇, 44🥈, 42🥉)  3. 🇨🇳 91 (40 🥇, 27🥈, 24🥉)  4. 🇯🇵 45 (20🥇, 12 🥈,13🥉)   https://olympics.com/en/paris-2024/medals?AnonymousID=3f9c5251-c139-4d4d-b54f-c18ee2f531a5&amp;displayAsWebView=true\n",
      "An exception occurred: No features in text.\n",
      "19    https://www.calculator.net/\n",
      "An exception occurred: No features in text.\n",
      "... \n",
      "An exception occurred: No features in text.\n",
      "... --- ... / . .-.. --- -. / -- ..- ... -.-      https://www.youtube.com/watch?v=3MrXpkXqj_4\n",
      "An exception occurred: No features in text.\n",
      "https://www.nbcnews.com/politics/donald-trump/jury-reaches-verdict-e-jean-carroll-rape-defamation-case-trump-rcna82778\n",
      "An exception occurred: No features in text.\n",
      "  https://en.m.wikipedia.org/wiki/Masonry\n",
      "An exception occurred: No features in text.\n",
      "https://youtu.be/6q8gz_Kd7KI?feature=shared\n",
      "An exception occurred: No features in text.\n",
      "https://moec.gov.af/en/deputy-prime-minister-economic-affairs-hajji-mullah-abdul-ghani-baradar-akhund-met-special\n",
      "An exception occurred: No features in text.\n",
      "https://x.com/CollinRugg/status/1835399449281188216?t=KQtgXK7C__YHTohUWHzTpw&amp;s=19\n",
      "An exception occurred: No features in text.\n",
      "https://www.gikai-machida.jp/voices/GikaiDoc/attach/Ik/Ik702_2014ginn18gou.pdf\n",
      "An exception occurred: No features in text.\n",
      ".\n",
      "An exception occurred: No features in text.\n",
      "https://doctor-sato.info/blog/replicon-vaccine/\n",
      "An exception occurred: No features in text.\n",
      ".\n",
      "An exception occurred: No features in text.\n",
      "1$ = 0.92€  3,75$ = 3,47€  https://onlyfans.com/sinistermisa  https://www.finanzen.net/waehrungsrechner/us-dollar_euro\n",
      "An exception occurred: No features in text.\n",
      "https://www.elsevier.es/es-revista-medicina-integral-63-articulo-retrasomental-desde-atencion-primaria-13028090\n",
      "An exception occurred: No features in text.\n",
      "???\n",
      "An exception occurred: No features in text.\n",
      "☝️🤓\n",
      "An exception occurred: No features in text.\n",
      "https://www.congress.gov/member/tulsi-gabbard/G000571\n",
      "An exception occurred: No features in text.\n",
      " 🤓  🤓  🤓 \n",
      "An exception occurred: No features in text.\n",
      "🤓\n",
      "An exception occurred: No features in text.\n",
      "https://www.washingtonpost.com/politics/2024/10/25/late-ballots-fifth-circuit-mississippi/    \n",
      "An exception occurred: No features in text.\n",
      "96-47=49     https://www.google.com/search?q=96-47&amp;ie=UTF-8&amp;oe=UTF-8&amp;hl=en-us&amp;client=safari\n",
      "An exception occurred: No features in text.\n",
      "https://youtu.be/SMJJiZlXOi0?si=tjawXIlKGVe-yysd\n",
      "An exception occurred: No features in text.\n",
      "🥩     https://business.x.com/en/help/ads-policies/ads-content-policies/gambling-content\n",
      "An exception occurred: No features in text.\n",
      "???\n",
      "An exception occurred: No features in text.\n",
      "𝕋𝕙𝕚𝕤 𝕡𝕠𝕤𝕥 𝕔𝕠𝕟𝕥𝕒𝕚𝕟𝕤 𝕒𝕟 𝕦𝕟𝕕𝕚𝕤𝕔𝕝𝕠𝕤𝕖𝕕 𝕒𝕕 𝕗𝕠𝕣 𝕊𝕥𝕒𝕜𝕖, 𝕒 𝕘𝕒𝕞𝕓𝕝𝕚𝕟𝕘 𝕤𝕚𝕥𝕖, 𝕨𝕙𝕚𝕔𝕙 𝕘𝕠𝕖𝕤 𝕒𝕘𝕒𝕚𝕟𝕤𝕥 𝕏'𝕤 𝕋𝕖𝕣𝕞𝕤 𝕠𝕗 𝕌𝕤𝕖 𝕒𝕓𝕠𝕦𝕥 𝕡𝕣𝕠𝕞𝕠𝕥𝕚𝕟𝕘 𝕤𝕦𝕔𝕙 𝕤𝕚𝕥𝕖𝕤. 𝕎𝕙𝕒𝕥'𝕤 𝕦𝕡 𝕨𝕚𝕥𝕙 𝕥𝕙𝕚𝕤 𝕗𝕠𝕟𝕥??    https://business.x.com/en/help/ads-policies/ads-content-policies/gambling-content\n",
      "An exception occurred: No features in text.\n",
      "💅    https://en.m.wikipedia.org/wiki/Streisand_effect\n",
      "An exception occurred: No features in text.\n",
      ". \n",
      "An exception occurred: No features in text.\n",
      "😂    https://x.com/elonmusk?t=Y8C2rhTFvrTncqYwhv900A&amp;s=09\n"
     ]
    }
   ],
   "source": [
    "# using detect function from langdetect to create a new column for languages\n",
    "langs = []\n",
    "for note in notes['summary']:\n",
    "    try:\n",
    "        langs.append(detect(note))\n",
    "    # except LangDetectException:\n",
    "    #     print(f\"LangDetectException for note: {note}\")\n",
    "    #     langs.append(None)\n",
    "    except Exception as error:\n",
    "    # handle the exception\n",
    "        print(\"An exception occurred:\", error) \n",
    "        print(note)\n",
    "        langs.append(None)"
   ]
  },
  {
   "cell_type": "code",
   "execution_count": 54,
   "metadata": {},
   "outputs": [],
   "source": [
    "notes['language'] = langs"
   ]
  },
  {
   "cell_type": "markdown",
   "metadata": {},
   "source": [
    "There are some notes without a language. They may contain external links, emojis, numbers, punctuation marks or a mixture of them."
   ]
  }
 ],
 "metadata": {
  "kernelspec": {
   "display_name": ".env",
   "language": "python",
   "name": "python3"
  },
  "language_info": {
   "codemirror_mode": {
    "name": "ipython",
    "version": 3
   },
   "file_extension": ".py",
   "mimetype": "text/x-python",
   "name": "python",
   "nbconvert_exporter": "python",
   "pygments_lexer": "ipython3",
   "version": "3.10.12"
  }
 },
 "nbformat": 4,
 "nbformat_minor": 2
}
