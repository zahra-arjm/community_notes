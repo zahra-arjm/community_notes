{
 "cells": [
  {
   "cell_type": "code",
   "execution_count": 2,
   "metadata": {},
   "outputs": [],
   "source": [
    "import pandas as pd\n",
    "import numpy as np\n",
    "import matplotlib.pyplot as plt\n",
    "import seaborn as sns\n",
    "from datetime import datetime\n",
    "import pickle\n",
    "import calendar"
   ]
  },
  {
   "cell_type": "code",
   "execution_count": 9,
   "metadata": {},
   "outputs": [],
   "source": [
    "# import note\n",
    "notes = pd.read_parquet('notes.parquet', engine='auto')\n",
    "# notes = notes[notes.createdAt < pd.Timestamp(2025, 1, 1)]"
   ]
  },
  {
   "cell_type": "code",
   "execution_count": 3,
   "metadata": {},
   "outputs": [
    {
     "name": "stdout",
     "output_type": "stream",
     "text": [
      "Number of unique note authors: 249328\n",
      "The first note we have was created at January 28, 2021 and the last one at April 04, 2025.\n"
     ]
    }
   ],
   "source": [
    "users_no = len(notes['noteAuthorParticipantId'].unique())\n",
    "print(f\"Number of unique note authors: {users_no}\")\n",
    "\n",
    "first_note_date = \\\n",
    "    datetime.fromtimestamp(notes['createdAtMillis'].min()/1000).\\\n",
    "    strftime(\"%B %d, %Y\")\n",
    "last_note_date = \\\n",
    "    datetime.fromtimestamp(notes['createdAtMillis'].max()/1000).\\\n",
    "    strftime(\"%B %d, %Y\")\n",
    "print(f\"The first note we have was created at {first_note_date} \\\n",
    "and the last one at {last_note_date}.\")"
   ]
  },
  {
   "cell_type": "code",
   "execution_count": null,
   "metadata": {},
   "outputs": [
    {
     "data": {
      "text/plain": [
       "createdAtYear  createdAtMonth\n",
       "2021           1                   1035\n",
       "               2                   2037\n",
       "               3                   1698\n",
       "               4                   1271\n",
       "               5                   1232\n",
       "               6                   1303\n",
       "               7                   1224\n",
       "               8                   1819\n",
       "               9                   2101\n",
       "               10                  1948\n",
       "               11                  1593\n",
       "               12                  1312\n",
       "2022           1                   1155\n",
       "               2                   1022\n",
       "               3                   1173\n",
       "               4                   1132\n",
       "               5                   1968\n",
       "               6                   1884\n",
       "               7                   1212\n",
       "               8                   1142\n",
       "               9                    910\n",
       "               10                  1469\n",
       "               11                  3964\n",
       "               12                  3685\n",
       "2023           1                   3975\n",
       "               2                   5722\n",
       "               3                  10612\n",
       "               4                  15181\n",
       "               5                  21536\n",
       "               6                  22087\n",
       "               7                  28419\n",
       "               8                  48052\n",
       "               9                  31942\n",
       "               10                 64248\n",
       "               11                 63492\n",
       "               12                 77019\n",
       "2024           1                  94664\n",
       "               2                  70398\n",
       "               3                  85094\n",
       "               4                  81510\n",
       "               5                  89299\n",
       "               6                  98252\n",
       "               7                 112065\n",
       "               8                 108480\n",
       "               9                  85732\n",
       "               10                 99822\n",
       "               11                 98302\n",
       "               12                 35940\n",
       "Name: noteId, dtype: int64"
      ]
     },
     "execution_count": 5,
     "metadata": {},
     "output_type": "execute_result"
    }
   ],
   "source": [
    "# notes per month and year\n",
    "notes.groupby(['createdAtYear', 'createdAtMonth'])['noteId'].count()"
   ]
  },
  {
   "cell_type": "code",
   "execution_count": 4,
   "metadata": {},
   "outputs": [
    {
     "data": {
      "text/plain": [
       "createdAtYear\n",
       "2021      17577\n",
       "2022      19464\n",
       "2023     381096\n",
       "2024    1093680\n",
       "2025     306912\n",
       "Name: noteId, dtype: int64"
      ]
     },
     "execution_count": 4,
     "metadata": {},
     "output_type": "execute_result"
    }
   ],
   "source": [
    "# notes per year\n",
    "notes.groupby(['createdAtYear'])['noteId'].count()"
   ]
  },
  {
   "cell_type": "code",
   "execution_count": 11,
   "metadata": {},
   "outputs": [
    {
     "data": {
      "text/html": [
       "<div>\n",
       "<style scoped>\n",
       "    .dataframe tbody tr th:only-of-type {\n",
       "        vertical-align: middle;\n",
       "    }\n",
       "\n",
       "    .dataframe tbody tr th {\n",
       "        vertical-align: top;\n",
       "    }\n",
       "\n",
       "    .dataframe thead th {\n",
       "        text-align: right;\n",
       "    }\n",
       "</style>\n",
       "<table border=\"1\" class=\"dataframe\">\n",
       "  <thead>\n",
       "    <tr style=\"text-align: right;\">\n",
       "      <th></th>\n",
       "      <th>createdAtYear</th>\n",
       "      <th>noteAuthorParticipantId</th>\n",
       "    </tr>\n",
       "  </thead>\n",
       "  <tbody>\n",
       "    <tr>\n",
       "      <th>0</th>\n",
       "      <td>2021</td>\n",
       "      <td>3200</td>\n",
       "    </tr>\n",
       "    <tr>\n",
       "      <th>1</th>\n",
       "      <td>2022</td>\n",
       "      <td>3809</td>\n",
       "    </tr>\n",
       "    <tr>\n",
       "      <th>2</th>\n",
       "      <td>2023</td>\n",
       "      <td>67827</td>\n",
       "    </tr>\n",
       "    <tr>\n",
       "      <th>3</th>\n",
       "      <td>2024</td>\n",
       "      <td>182577</td>\n",
       "    </tr>\n",
       "  </tbody>\n",
       "</table>\n",
       "</div>"
      ],
      "text/plain": [
       "   createdAtYear  noteAuthorParticipantId\n",
       "0           2021                     3200\n",
       "1           2022                     3809\n",
       "2           2023                    67827\n",
       "3           2024                   182577"
      ]
     },
     "execution_count": 11,
     "metadata": {},
     "output_type": "execute_result"
    }
   ],
   "source": [
    "# active authors per year\n",
    "notes.groupby(['createdAtYear']).agg({'noteAuthorParticipantId': 'nunique'}).reset_index()\n"
   ]
  },
  {
   "cell_type": "code",
   "execution_count": 29,
   "metadata": {},
   "outputs": [],
   "source": [
    "# new users per month\n",
    "new_authors_monthly = notes.groupby('noteAuthorParticipantId').first()\\\n",
    "    .reset_index()\\\n",
    "    .groupby(['createdAtYear', 'createdAtMonth'])['noteId'].nunique()\\\n",
    "        .reset_index()\n",
    "new_authors_monthly.rename(columns={'noteId': 'count'}, inplace=True)"
   ]
  },
  {
   "cell_type": "code",
   "execution_count": 27,
   "metadata": {},
   "outputs": [],
   "source": [
    "# active users per month\n",
    "active_authors_monthly = notes.groupby(['createdAtYear', 'createdAtMonth'])\\\n",
    "    .agg({'noteAuthorParticipantId': 'nunique'}).reset_index()\n",
    "active_authors_monthly.rename(columns={'noteAuthorParticipantId': 'count'}, inplace=True)"
   ]
  },
  {
   "cell_type": "code",
   "execution_count": 30,
   "metadata": {},
   "outputs": [
    {
     "data": {
      "text/html": [
       "<div>\n",
       "<style scoped>\n",
       "    .dataframe tbody tr th:only-of-type {\n",
       "        vertical-align: middle;\n",
       "    }\n",
       "\n",
       "    .dataframe tbody tr th {\n",
       "        vertical-align: top;\n",
       "    }\n",
       "\n",
       "    .dataframe thead th {\n",
       "        text-align: right;\n",
       "    }\n",
       "</style>\n",
       "<table border=\"1\" class=\"dataframe\">\n",
       "  <thead>\n",
       "    <tr style=\"text-align: right;\">\n",
       "      <th></th>\n",
       "      <th>createdAtYear</th>\n",
       "      <th>createdAtMonth</th>\n",
       "      <th>count</th>\n",
       "    </tr>\n",
       "  </thead>\n",
       "  <tbody>\n",
       "    <tr>\n",
       "      <th>0</th>\n",
       "      <td>2021</td>\n",
       "      <td>1</td>\n",
       "      <td>400</td>\n",
       "    </tr>\n",
       "    <tr>\n",
       "      <th>1</th>\n",
       "      <td>2021</td>\n",
       "      <td>2</td>\n",
       "      <td>671</td>\n",
       "    </tr>\n",
       "    <tr>\n",
       "      <th>2</th>\n",
       "      <td>2021</td>\n",
       "      <td>3</td>\n",
       "      <td>597</td>\n",
       "    </tr>\n",
       "    <tr>\n",
       "      <th>3</th>\n",
       "      <td>2021</td>\n",
       "      <td>4</td>\n",
       "      <td>484</td>\n",
       "    </tr>\n",
       "    <tr>\n",
       "      <th>4</th>\n",
       "      <td>2021</td>\n",
       "      <td>5</td>\n",
       "      <td>344</td>\n",
       "    </tr>\n",
       "    <tr>\n",
       "      <th>5</th>\n",
       "      <td>2021</td>\n",
       "      <td>6</td>\n",
       "      <td>485</td>\n",
       "    </tr>\n",
       "    <tr>\n",
       "      <th>6</th>\n",
       "      <td>2021</td>\n",
       "      <td>7</td>\n",
       "      <td>462</td>\n",
       "    </tr>\n",
       "    <tr>\n",
       "      <th>7</th>\n",
       "      <td>2021</td>\n",
       "      <td>8</td>\n",
       "      <td>733</td>\n",
       "    </tr>\n",
       "    <tr>\n",
       "      <th>8</th>\n",
       "      <td>2021</td>\n",
       "      <td>9</td>\n",
       "      <td>869</td>\n",
       "    </tr>\n",
       "    <tr>\n",
       "      <th>9</th>\n",
       "      <td>2021</td>\n",
       "      <td>10</td>\n",
       "      <td>759</td>\n",
       "    </tr>\n",
       "    <tr>\n",
       "      <th>10</th>\n",
       "      <td>2021</td>\n",
       "      <td>11</td>\n",
       "      <td>714</td>\n",
       "    </tr>\n",
       "    <tr>\n",
       "      <th>11</th>\n",
       "      <td>2021</td>\n",
       "      <td>12</td>\n",
       "      <td>576</td>\n",
       "    </tr>\n",
       "    <tr>\n",
       "      <th>12</th>\n",
       "      <td>2022</td>\n",
       "      <td>1</td>\n",
       "      <td>480</td>\n",
       "    </tr>\n",
       "    <tr>\n",
       "      <th>13</th>\n",
       "      <td>2022</td>\n",
       "      <td>2</td>\n",
       "      <td>429</td>\n",
       "    </tr>\n",
       "    <tr>\n",
       "      <th>14</th>\n",
       "      <td>2022</td>\n",
       "      <td>3</td>\n",
       "      <td>457</td>\n",
       "    </tr>\n",
       "    <tr>\n",
       "      <th>15</th>\n",
       "      <td>2022</td>\n",
       "      <td>4</td>\n",
       "      <td>483</td>\n",
       "    </tr>\n",
       "    <tr>\n",
       "      <th>16</th>\n",
       "      <td>2022</td>\n",
       "      <td>5</td>\n",
       "      <td>724</td>\n",
       "    </tr>\n",
       "    <tr>\n",
       "      <th>17</th>\n",
       "      <td>2022</td>\n",
       "      <td>6</td>\n",
       "      <td>778</td>\n",
       "    </tr>\n",
       "    <tr>\n",
       "      <th>18</th>\n",
       "      <td>2022</td>\n",
       "      <td>7</td>\n",
       "      <td>573</td>\n",
       "    </tr>\n",
       "    <tr>\n",
       "      <th>19</th>\n",
       "      <td>2022</td>\n",
       "      <td>8</td>\n",
       "      <td>551</td>\n",
       "    </tr>\n",
       "    <tr>\n",
       "      <th>20</th>\n",
       "      <td>2022</td>\n",
       "      <td>9</td>\n",
       "      <td>395</td>\n",
       "    </tr>\n",
       "    <tr>\n",
       "      <th>21</th>\n",
       "      <td>2022</td>\n",
       "      <td>10</td>\n",
       "      <td>615</td>\n",
       "    </tr>\n",
       "    <tr>\n",
       "      <th>22</th>\n",
       "      <td>2022</td>\n",
       "      <td>11</td>\n",
       "      <td>1211</td>\n",
       "    </tr>\n",
       "    <tr>\n",
       "      <th>23</th>\n",
       "      <td>2022</td>\n",
       "      <td>12</td>\n",
       "      <td>1008</td>\n",
       "    </tr>\n",
       "    <tr>\n",
       "      <th>24</th>\n",
       "      <td>2023</td>\n",
       "      <td>1</td>\n",
       "      <td>916</td>\n",
       "    </tr>\n",
       "    <tr>\n",
       "      <th>25</th>\n",
       "      <td>2023</td>\n",
       "      <td>2</td>\n",
       "      <td>1176</td>\n",
       "    </tr>\n",
       "    <tr>\n",
       "      <th>26</th>\n",
       "      <td>2023</td>\n",
       "      <td>3</td>\n",
       "      <td>2686</td>\n",
       "    </tr>\n",
       "    <tr>\n",
       "      <th>27</th>\n",
       "      <td>2023</td>\n",
       "      <td>4</td>\n",
       "      <td>4402</td>\n",
       "    </tr>\n",
       "    <tr>\n",
       "      <th>28</th>\n",
       "      <td>2023</td>\n",
       "      <td>5</td>\n",
       "      <td>6176</td>\n",
       "    </tr>\n",
       "    <tr>\n",
       "      <th>29</th>\n",
       "      <td>2023</td>\n",
       "      <td>6</td>\n",
       "      <td>7271</td>\n",
       "    </tr>\n",
       "    <tr>\n",
       "      <th>30</th>\n",
       "      <td>2023</td>\n",
       "      <td>7</td>\n",
       "      <td>10663</td>\n",
       "    </tr>\n",
       "    <tr>\n",
       "      <th>31</th>\n",
       "      <td>2023</td>\n",
       "      <td>8</td>\n",
       "      <td>17015</td>\n",
       "    </tr>\n",
       "    <tr>\n",
       "      <th>32</th>\n",
       "      <td>2023</td>\n",
       "      <td>9</td>\n",
       "      <td>12762</td>\n",
       "    </tr>\n",
       "    <tr>\n",
       "      <th>33</th>\n",
       "      <td>2023</td>\n",
       "      <td>10</td>\n",
       "      <td>21949</td>\n",
       "    </tr>\n",
       "    <tr>\n",
       "      <th>34</th>\n",
       "      <td>2023</td>\n",
       "      <td>11</td>\n",
       "      <td>23132</td>\n",
       "    </tr>\n",
       "    <tr>\n",
       "      <th>35</th>\n",
       "      <td>2023</td>\n",
       "      <td>12</td>\n",
       "      <td>27136</td>\n",
       "    </tr>\n",
       "    <tr>\n",
       "      <th>36</th>\n",
       "      <td>2024</td>\n",
       "      <td>1</td>\n",
       "      <td>32112</td>\n",
       "    </tr>\n",
       "    <tr>\n",
       "      <th>37</th>\n",
       "      <td>2024</td>\n",
       "      <td>2</td>\n",
       "      <td>28115</td>\n",
       "    </tr>\n",
       "    <tr>\n",
       "      <th>38</th>\n",
       "      <td>2024</td>\n",
       "      <td>3</td>\n",
       "      <td>32907</td>\n",
       "    </tr>\n",
       "    <tr>\n",
       "      <th>39</th>\n",
       "      <td>2024</td>\n",
       "      <td>4</td>\n",
       "      <td>33029</td>\n",
       "    </tr>\n",
       "    <tr>\n",
       "      <th>40</th>\n",
       "      <td>2024</td>\n",
       "      <td>5</td>\n",
       "      <td>35513</td>\n",
       "    </tr>\n",
       "    <tr>\n",
       "      <th>41</th>\n",
       "      <td>2024</td>\n",
       "      <td>6</td>\n",
       "      <td>38458</td>\n",
       "    </tr>\n",
       "    <tr>\n",
       "      <th>42</th>\n",
       "      <td>2024</td>\n",
       "      <td>7</td>\n",
       "      <td>45798</td>\n",
       "    </tr>\n",
       "    <tr>\n",
       "      <th>43</th>\n",
       "      <td>2024</td>\n",
       "      <td>8</td>\n",
       "      <td>45828</td>\n",
       "    </tr>\n",
       "    <tr>\n",
       "      <th>44</th>\n",
       "      <td>2024</td>\n",
       "      <td>9</td>\n",
       "      <td>35099</td>\n",
       "    </tr>\n",
       "    <tr>\n",
       "      <th>45</th>\n",
       "      <td>2024</td>\n",
       "      <td>10</td>\n",
       "      <td>40104</td>\n",
       "    </tr>\n",
       "    <tr>\n",
       "      <th>46</th>\n",
       "      <td>2024</td>\n",
       "      <td>11</td>\n",
       "      <td>42186</td>\n",
       "    </tr>\n",
       "    <tr>\n",
       "      <th>47</th>\n",
       "      <td>2024</td>\n",
       "      <td>12</td>\n",
       "      <td>18627</td>\n",
       "    </tr>\n",
       "  </tbody>\n",
       "</table>\n",
       "</div>"
      ],
      "text/plain": [
       "    createdAtYear  createdAtMonth  count\n",
       "0            2021               1    400\n",
       "1            2021               2    671\n",
       "2            2021               3    597\n",
       "3            2021               4    484\n",
       "4            2021               5    344\n",
       "5            2021               6    485\n",
       "6            2021               7    462\n",
       "7            2021               8    733\n",
       "8            2021               9    869\n",
       "9            2021              10    759\n",
       "10           2021              11    714\n",
       "11           2021              12    576\n",
       "12           2022               1    480\n",
       "13           2022               2    429\n",
       "14           2022               3    457\n",
       "15           2022               4    483\n",
       "16           2022               5    724\n",
       "17           2022               6    778\n",
       "18           2022               7    573\n",
       "19           2022               8    551\n",
       "20           2022               9    395\n",
       "21           2022              10    615\n",
       "22           2022              11   1211\n",
       "23           2022              12   1008\n",
       "24           2023               1    916\n",
       "25           2023               2   1176\n",
       "26           2023               3   2686\n",
       "27           2023               4   4402\n",
       "28           2023               5   6176\n",
       "29           2023               6   7271\n",
       "30           2023               7  10663\n",
       "31           2023               8  17015\n",
       "32           2023               9  12762\n",
       "33           2023              10  21949\n",
       "34           2023              11  23132\n",
       "35           2023              12  27136\n",
       "36           2024               1  32112\n",
       "37           2024               2  28115\n",
       "38           2024               3  32907\n",
       "39           2024               4  33029\n",
       "40           2024               5  35513\n",
       "41           2024               6  38458\n",
       "42           2024               7  45798\n",
       "43           2024               8  45828\n",
       "44           2024               9  35099\n",
       "45           2024              10  40104\n",
       "46           2024              11  42186\n",
       "47           2024              12  18627"
      ]
     },
     "execution_count": 30,
     "metadata": {},
     "output_type": "execute_result"
    }
   ],
   "source": [
    "active_authors_monthly"
   ]
  },
  {
   "cell_type": "code",
   "execution_count": 31,
   "metadata": {},
   "outputs": [
    {
     "data": {
      "text/html": [
       "<div>\n",
       "<style scoped>\n",
       "    .dataframe tbody tr th:only-of-type {\n",
       "        vertical-align: middle;\n",
       "    }\n",
       "\n",
       "    .dataframe tbody tr th {\n",
       "        vertical-align: top;\n",
       "    }\n",
       "\n",
       "    .dataframe thead th {\n",
       "        text-align: right;\n",
       "    }\n",
       "</style>\n",
       "<table border=\"1\" class=\"dataframe\">\n",
       "  <thead>\n",
       "    <tr style=\"text-align: right;\">\n",
       "      <th></th>\n",
       "      <th>createdAtYear</th>\n",
       "      <th>createdAtMonth</th>\n",
       "      <th>count</th>\n",
       "    </tr>\n",
       "  </thead>\n",
       "  <tbody>\n",
       "    <tr>\n",
       "      <th>0</th>\n",
       "      <td>2021</td>\n",
       "      <td>1</td>\n",
       "      <td>400</td>\n",
       "    </tr>\n",
       "    <tr>\n",
       "      <th>1</th>\n",
       "      <td>2021</td>\n",
       "      <td>2</td>\n",
       "      <td>451</td>\n",
       "    </tr>\n",
       "    <tr>\n",
       "      <th>2</th>\n",
       "      <td>2021</td>\n",
       "      <td>3</td>\n",
       "      <td>329</td>\n",
       "    </tr>\n",
       "    <tr>\n",
       "      <th>3</th>\n",
       "      <td>2021</td>\n",
       "      <td>4</td>\n",
       "      <td>170</td>\n",
       "    </tr>\n",
       "    <tr>\n",
       "      <th>4</th>\n",
       "      <td>2021</td>\n",
       "      <td>5</td>\n",
       "      <td>98</td>\n",
       "    </tr>\n",
       "    <tr>\n",
       "      <th>5</th>\n",
       "      <td>2021</td>\n",
       "      <td>6</td>\n",
       "      <td>175</td>\n",
       "    </tr>\n",
       "    <tr>\n",
       "      <th>6</th>\n",
       "      <td>2021</td>\n",
       "      <td>7</td>\n",
       "      <td>111</td>\n",
       "    </tr>\n",
       "    <tr>\n",
       "      <th>7</th>\n",
       "      <td>2021</td>\n",
       "      <td>8</td>\n",
       "      <td>369</td>\n",
       "    </tr>\n",
       "    <tr>\n",
       "      <th>8</th>\n",
       "      <td>2021</td>\n",
       "      <td>9</td>\n",
       "      <td>428</td>\n",
       "    </tr>\n",
       "    <tr>\n",
       "      <th>9</th>\n",
       "      <td>2021</td>\n",
       "      <td>10</td>\n",
       "      <td>318</td>\n",
       "    </tr>\n",
       "    <tr>\n",
       "      <th>10</th>\n",
       "      <td>2021</td>\n",
       "      <td>11</td>\n",
       "      <td>217</td>\n",
       "    </tr>\n",
       "    <tr>\n",
       "      <th>11</th>\n",
       "      <td>2021</td>\n",
       "      <td>12</td>\n",
       "      <td>134</td>\n",
       "    </tr>\n",
       "    <tr>\n",
       "      <th>12</th>\n",
       "      <td>2022</td>\n",
       "      <td>1</td>\n",
       "      <td>90</td>\n",
       "    </tr>\n",
       "    <tr>\n",
       "      <th>13</th>\n",
       "      <td>2022</td>\n",
       "      <td>2</td>\n",
       "      <td>79</td>\n",
       "    </tr>\n",
       "    <tr>\n",
       "      <th>14</th>\n",
       "      <td>2022</td>\n",
       "      <td>3</td>\n",
       "      <td>61</td>\n",
       "    </tr>\n",
       "    <tr>\n",
       "      <th>15</th>\n",
       "      <td>2022</td>\n",
       "      <td>4</td>\n",
       "      <td>75</td>\n",
       "    </tr>\n",
       "    <tr>\n",
       "      <th>16</th>\n",
       "      <td>2022</td>\n",
       "      <td>5</td>\n",
       "      <td>297</td>\n",
       "    </tr>\n",
       "    <tr>\n",
       "      <th>17</th>\n",
       "      <td>2022</td>\n",
       "      <td>6</td>\n",
       "      <td>353</td>\n",
       "    </tr>\n",
       "    <tr>\n",
       "      <th>18</th>\n",
       "      <td>2022</td>\n",
       "      <td>7</td>\n",
       "      <td>154</td>\n",
       "    </tr>\n",
       "    <tr>\n",
       "      <th>19</th>\n",
       "      <td>2022</td>\n",
       "      <td>8</td>\n",
       "      <td>102</td>\n",
       "    </tr>\n",
       "    <tr>\n",
       "      <th>20</th>\n",
       "      <td>2022</td>\n",
       "      <td>9</td>\n",
       "      <td>76</td>\n",
       "    </tr>\n",
       "    <tr>\n",
       "      <th>21</th>\n",
       "      <td>2022</td>\n",
       "      <td>10</td>\n",
       "      <td>159</td>\n",
       "    </tr>\n",
       "    <tr>\n",
       "      <th>22</th>\n",
       "      <td>2022</td>\n",
       "      <td>11</td>\n",
       "      <td>422</td>\n",
       "    </tr>\n",
       "    <tr>\n",
       "      <th>23</th>\n",
       "      <td>2022</td>\n",
       "      <td>12</td>\n",
       "      <td>420</td>\n",
       "    </tr>\n",
       "    <tr>\n",
       "      <th>24</th>\n",
       "      <td>2023</td>\n",
       "      <td>1</td>\n",
       "      <td>416</td>\n",
       "    </tr>\n",
       "    <tr>\n",
       "      <th>25</th>\n",
       "      <td>2023</td>\n",
       "      <td>2</td>\n",
       "      <td>545</td>\n",
       "    </tr>\n",
       "    <tr>\n",
       "      <th>26</th>\n",
       "      <td>2023</td>\n",
       "      <td>3</td>\n",
       "      <td>1766</td>\n",
       "    </tr>\n",
       "    <tr>\n",
       "      <th>27</th>\n",
       "      <td>2023</td>\n",
       "      <td>4</td>\n",
       "      <td>2660</td>\n",
       "    </tr>\n",
       "    <tr>\n",
       "      <th>28</th>\n",
       "      <td>2023</td>\n",
       "      <td>5</td>\n",
       "      <td>3241</td>\n",
       "    </tr>\n",
       "    <tr>\n",
       "      <th>29</th>\n",
       "      <td>2023</td>\n",
       "      <td>6</td>\n",
       "      <td>3683</td>\n",
       "    </tr>\n",
       "    <tr>\n",
       "      <th>30</th>\n",
       "      <td>2023</td>\n",
       "      <td>7</td>\n",
       "      <td>6071</td>\n",
       "    </tr>\n",
       "    <tr>\n",
       "      <th>31</th>\n",
       "      <td>2023</td>\n",
       "      <td>8</td>\n",
       "      <td>10197</td>\n",
       "    </tr>\n",
       "    <tr>\n",
       "      <th>32</th>\n",
       "      <td>2023</td>\n",
       "      <td>9</td>\n",
       "      <td>4625</td>\n",
       "    </tr>\n",
       "    <tr>\n",
       "      <th>33</th>\n",
       "      <td>2023</td>\n",
       "      <td>10</td>\n",
       "      <td>11636</td>\n",
       "    </tr>\n",
       "    <tr>\n",
       "      <th>34</th>\n",
       "      <td>2023</td>\n",
       "      <td>11</td>\n",
       "      <td>9691</td>\n",
       "    </tr>\n",
       "    <tr>\n",
       "      <th>35</th>\n",
       "      <td>2023</td>\n",
       "      <td>12</td>\n",
       "      <td>11600</td>\n",
       "    </tr>\n",
       "    <tr>\n",
       "      <th>36</th>\n",
       "      <td>2024</td>\n",
       "      <td>1</td>\n",
       "      <td>12838</td>\n",
       "    </tr>\n",
       "    <tr>\n",
       "      <th>37</th>\n",
       "      <td>2024</td>\n",
       "      <td>2</td>\n",
       "      <td>9790</td>\n",
       "    </tr>\n",
       "    <tr>\n",
       "      <th>38</th>\n",
       "      <td>2024</td>\n",
       "      <td>3</td>\n",
       "      <td>11674</td>\n",
       "    </tr>\n",
       "    <tr>\n",
       "      <th>39</th>\n",
       "      <td>2024</td>\n",
       "      <td>4</td>\n",
       "      <td>12793</td>\n",
       "    </tr>\n",
       "    <tr>\n",
       "      <th>40</th>\n",
       "      <td>2024</td>\n",
       "      <td>5</td>\n",
       "      <td>12883</td>\n",
       "    </tr>\n",
       "    <tr>\n",
       "      <th>41</th>\n",
       "      <td>2024</td>\n",
       "      <td>6</td>\n",
       "      <td>13905</td>\n",
       "    </tr>\n",
       "    <tr>\n",
       "      <th>42</th>\n",
       "      <td>2024</td>\n",
       "      <td>7</td>\n",
       "      <td>16433</td>\n",
       "    </tr>\n",
       "    <tr>\n",
       "      <th>43</th>\n",
       "      <td>2024</td>\n",
       "      <td>8</td>\n",
       "      <td>13719</td>\n",
       "    </tr>\n",
       "    <tr>\n",
       "      <th>44</th>\n",
       "      <td>2024</td>\n",
       "      <td>9</td>\n",
       "      <td>8741</td>\n",
       "    </tr>\n",
       "    <tr>\n",
       "      <th>45</th>\n",
       "      <td>2024</td>\n",
       "      <td>10</td>\n",
       "      <td>11840</td>\n",
       "    </tr>\n",
       "    <tr>\n",
       "      <th>46</th>\n",
       "      <td>2024</td>\n",
       "      <td>11</td>\n",
       "      <td>12527</td>\n",
       "    </tr>\n",
       "    <tr>\n",
       "      <th>47</th>\n",
       "      <td>2024</td>\n",
       "      <td>12</td>\n",
       "      <td>4454</td>\n",
       "    </tr>\n",
       "  </tbody>\n",
       "</table>\n",
       "</div>"
      ],
      "text/plain": [
       "    createdAtYear  createdAtMonth  count\n",
       "0            2021               1    400\n",
       "1            2021               2    451\n",
       "2            2021               3    329\n",
       "3            2021               4    170\n",
       "4            2021               5     98\n",
       "5            2021               6    175\n",
       "6            2021               7    111\n",
       "7            2021               8    369\n",
       "8            2021               9    428\n",
       "9            2021              10    318\n",
       "10           2021              11    217\n",
       "11           2021              12    134\n",
       "12           2022               1     90\n",
       "13           2022               2     79\n",
       "14           2022               3     61\n",
       "15           2022               4     75\n",
       "16           2022               5    297\n",
       "17           2022               6    353\n",
       "18           2022               7    154\n",
       "19           2022               8    102\n",
       "20           2022               9     76\n",
       "21           2022              10    159\n",
       "22           2022              11    422\n",
       "23           2022              12    420\n",
       "24           2023               1    416\n",
       "25           2023               2    545\n",
       "26           2023               3   1766\n",
       "27           2023               4   2660\n",
       "28           2023               5   3241\n",
       "29           2023               6   3683\n",
       "30           2023               7   6071\n",
       "31           2023               8  10197\n",
       "32           2023               9   4625\n",
       "33           2023              10  11636\n",
       "34           2023              11   9691\n",
       "35           2023              12  11600\n",
       "36           2024               1  12838\n",
       "37           2024               2   9790\n",
       "38           2024               3  11674\n",
       "39           2024               4  12793\n",
       "40           2024               5  12883\n",
       "41           2024               6  13905\n",
       "42           2024               7  16433\n",
       "43           2024               8  13719\n",
       "44           2024               9   8741\n",
       "45           2024              10  11840\n",
       "46           2024              11  12527\n",
       "47           2024              12   4454"
      ]
     },
     "execution_count": 31,
     "metadata": {},
     "output_type": "execute_result"
    }
   ],
   "source": [
    "new_authors_monthly"
   ]
  },
  {
   "cell_type": "markdown",
   "metadata": {},
   "source": [
    "To check if the community is alive because of new users or not, let's see new users vs active users per month."
   ]
  },
  {
   "cell_type": "code",
   "execution_count": 5,
   "metadata": {},
   "outputs": [],
   "source": [
    "notes['createdAtYM'] = notes['createdAt'].dt.to_period('M')\n"
   ]
  },
  {
   "cell_type": "code",
   "execution_count": 6,
   "metadata": {},
   "outputs": [],
   "source": [
    "# new users per month\n",
    "new_authors_monthly = notes.groupby('noteAuthorParticipantId').first()\\\n",
    "    .reset_index()\\\n",
    "    .groupby(['createdAtYM'])['noteId'].nunique()\\\n",
    "        .reset_index()\n",
    "new_authors_monthly.rename(columns={'noteId': 'count'}, inplace=True)"
   ]
  },
  {
   "cell_type": "code",
   "execution_count": 7,
   "metadata": {},
   "outputs": [],
   "source": [
    "# active users per month\n",
    "active_authors_monthly = notes.groupby(['createdAtYM'])\\\n",
    "    .agg({'noteAuthorParticipantId': 'nunique'}).reset_index()\n",
    "active_authors_monthly.rename(columns={'noteAuthorParticipantId': 'count'}, inplace=True)"
   ]
  },
  {
   "cell_type": "code",
   "execution_count": 10,
   "metadata": {},
   "outputs": [
    {
     "name": "stderr",
     "output_type": "stream",
     "text": [
      "/tmp/ipykernel_8159/3181820702.py:12: UserWarning: set_ticklabels() should only be used with a fixed number of ticks, i.e. after set_ticks() or using a FixedLocator.\n",
      "  ax.set_xticklabels(labels)\n"
     ]
    },
    {
     "data": {
      "image/png": "[encoded data removed]",
      "text/plain": [
       "<Figure size 700x400 with 1 Axes>"
      ]
     },
     "metadata": {},
     "output_type": "display_data"
    }
   ],
   "source": [
    "fig, ax = plt.subplots(1,1, figsize=(7,4))\n",
    "sns.barplot(x=\"createdAtYM\", y=\"count\", data=active_authors_monthly,\n",
    "             color='white', edgecolor='tab:blue')\n",
    "sns.barplot(x=\"createdAtYM\", y=\"count\", data=new_authors_monthly,\n",
    "             edgecolor='tab:blue', alpha=.5)\n",
    "\n",
    "# set quartely labels\n",
    "labels = [''] * len(ax.get_xticklabels())\n",
    "for idx, element in enumerate(labels[::3]):\n",
    "    labels[idx*3] = 'Q' + str(idx%4 + 1)\n",
    "\n",
    "ax.set_xticklabels(labels)\n",
    "# add years\n",
    "for idx, year in enumerate(range(2021,2026)):\n",
    "    ax.text(idx*.23 -.02, -.13, str(year), size=11, color='#444', transform=ax.transAxes)\n",
    "ax.set_xlabel('Time')\n",
    "ax.xaxis.set_label_coords(.48, -.15)\n",
    "ax.set_ylabel('Number of Note Authors')\n",
    "ax.tick_params(axis='both', colors=\"#777777\", left=False, bottom=False)\n",
    "ax.spines[['bottom', 'left']].set_color(\"grey\")\n",
    "# ax.legend(['Unmet Demand', 'Capacity'])\n",
    "ax.spines[['right', 'top']].set_visible(False)\n",
    "#update last month\n",
    "ax.set_title(f'New authors vs. Active authors over time')\n",
    "# add keydates\n",
    "plt.show()"
   ]
  },
  {
   "cell_type": "markdown",
   "metadata": {},
   "source": [
    "Qustion: what percentage of note authors from 2021, 2022, 2023 are still authoring notes in 2024?"
   ]
  },
  {
   "cell_type": "code",
   "execution_count": 3,
   "metadata": {},
   "outputs": [],
   "source": [
    "# make a dict of the list of unique authors each year\n",
    "distinct_authors_dict = {}\n",
    "\n",
    "for year in range(2021, 2025):\n",
    "    distinct_authors_dict[year] = notes[notes['createdAtYear'] == year]['noteAuthorParticipantId'].unique()"
   ]
  },
  {
   "cell_type": "code",
   "execution_count": 32,
   "metadata": {},
   "outputs": [],
   "source": [
    "# create a dateframe for comparing persistant authors during years\n",
    "year_range = range(2021, 2025)\n",
    "index = [year for year in year_range]\n",
    "remain_active = pd.DataFrame(columns=index, index=index)\n",
    "remain_active_matrix = np.empty(len(year_range))\n",
    "for year_start in year_range:\n",
    "    for year_active in year_range:\n",
    "        if year_start <= year_active:\n",
    "            remain_active.loc[year_active, year_start] = \\\n",
    "                len(np.intersect1d(distinct_authors_dict[year_start], distinct_authors_dict[year_active])) \\\n",
    "                    / len(distinct_authors_dict[year_start])\n"
   ]
  },
  {
   "cell_type": "code",
   "execution_count": null,
   "metadata": {},
   "outputs": [
    {
     "data": {
      "text/plain": [
       "Text(0.5, 1.0, 'Fraction of authors who remained active after their first note')"
      ]
     },
     "execution_count": 41,
     "metadata": {},
     "output_type": "execute_result"
    },
    {
     "data": {
      "image/png": "[encoded data removed]",
      "text/plain": [
       "<Figure size 640x480 with 2 Axes>"
      ]
     },
     "metadata": {},
     "output_type": "display_data"
    }
   ],
   "source": [
    "# plot\n",
    "ax = plt.subplot()\n",
    "# remove the upper triangle\n",
    "mask = np.triu(np.ones_like(remain_active))\n",
    "# set the diagonal to 0; so it wouldn't be masked\n",
    "np.fill_diagonal(mask, 0)\n",
    "sns.heatmap(remain_active.astype(float), annot = True, mask=mask, cmap='Blues_r', ax=ax)\n",
    "\n",
    "ax.set_xlabel('year started')\n",
    "ax.set_ylabel('year active')\n",
    "ax.set_title('Fraction of authors who remained active after their first note')\n"
   ]
  },
  {
   "cell_type": "markdown",
   "metadata": {},
   "source": [
    "We want to know how the above heatmap look like for authors with more notes."
   ]
  },
  {
   "cell_type": "code",
   "execution_count": 7,
   "metadata": {},
   "outputs": [],
   "source": [
    "# make a dict of the list of unique authors each year\n",
    "distinct_authors_dict = {}\n",
    "# least number of notes the author have written\n",
    "k = 5\n",
    "df_k = notes[notes.groupby('noteAuthorParticipantId')['noteAuthorParticipantId'].transform('size').gt(k-1)]\n",
    "for year in range(2021, 2025):\n",
    "    distinct_authors_dict[year] = df_k[df_k['createdAtYear'] == year]['noteAuthorParticipantId'].unique()"
   ]
  },
  {
   "cell_type": "code",
   "execution_count": 8,
   "metadata": {},
   "outputs": [],
   "source": [
    "# create a dateframe for comparing persistant authors during years\n",
    "year_range = range(2021, 2025)\n",
    "index = [year for year in year_range]\n",
    "remain_active = pd.DataFrame(columns=index, index=index)\n",
    "remain_active_matrix = np.empty(len(year_range))\n",
    "for year_start in year_range:\n",
    "    for year_active in year_range:\n",
    "        if year_start <= year_active:\n",
    "            remain_active.loc[year_active, year_start] = \\\n",
    "                len(np.intersect1d(distinct_authors_dict[year_start], distinct_authors_dict[year_active])) \\\n",
    "                    / len(distinct_authors_dict[year_start])\n"
   ]
  },
  {
   "cell_type": "code",
   "execution_count": 11,
   "metadata": {},
   "outputs": [
    {
     "data": {
      "text/plain": [
       "Text(0.5, 1.0, 'Fraction of 5+ authors who remained active after their first note')"
      ]
     },
     "execution_count": 11,
     "metadata": {},
     "output_type": "execute_result"
    },
    {
     "data": {
      "image/png": "[encoded data removed]",
      "text/plain": [
       "<Figure size 640x480 with 2 Axes>"
      ]
     },
     "metadata": {},
     "output_type": "display_data"
    }
   ],
   "source": [
    "# plot\n",
    "ax = plt.subplot()\n",
    "# remove the upper triangle\n",
    "mask = np.triu(np.ones_like(remain_active))\n",
    "# set the diagonal to 0; so it wouldn't be masked\n",
    "np.fill_diagonal(mask, 0)\n",
    "sns.heatmap(remain_active.astype(float), annot = True, mask=mask, cmap='Blues_r', ax=ax)\n",
    "\n",
    "ax.set_xlabel('year started')\n",
    "ax.set_ylabel('year active')\n",
    "ax.set_title(f'Fraction of {k}+ authors who remained active after their first note')\n"
   ]
  },
  {
   "cell_type": "markdown",
   "metadata": {},
   "source": [
    "And for 10+ authors"
   ]
  },
  {
   "cell_type": "code",
   "execution_count": 21,
   "metadata": {},
   "outputs": [
    {
     "data": {
      "text/plain": [
       "Text(0.5, 1.0, 'Fraction of 10+ authors who remained active after their first note')"
      ]
     },
     "execution_count": 21,
     "metadata": {},
     "output_type": "execute_result"
    },
    {
     "data": {
      "image/png": "[encoded data removed]",
      "text/plain": [
       "<Figure size 640x480 with 2 Axes>"
      ]
     },
     "metadata": {},
     "output_type": "display_data"
    }
   ],
   "source": [
    "# make a dict of the list of unique authors each year\n",
    "distinct_authors_dict = {}\n",
    "# least number of notes the author have written\n",
    "k = 10\n",
    "df_k = notes[notes.groupby('noteAuthorParticipantId')['noteAuthorParticipantId'].transform('size').gt(k-1)]\n",
    "for year in range(2021, 2025):\n",
    "    distinct_authors_dict[year] = df_k[df_k['createdAtYear'] == year]['noteAuthorParticipantId'].unique()\n",
    "# create a dateframe for comparing persistant authors during years\n",
    "year_range = range(2021, 2025)\n",
    "index = [year for year in year_range]\n",
    "remain_active = pd.DataFrame(columns=index, index=index)\n",
    "remain_active_matrix = np.empty(len(year_range))\n",
    "for year_start in year_range:\n",
    "    for year_active in year_range:\n",
    "        if year_start <= year_active:\n",
    "            remain_active.loc[year_active, year_start] = \\\n",
    "                len(np.intersect1d(distinct_authors_dict[year_start], distinct_authors_dict[year_active])) \\\n",
    "                    / len(distinct_authors_dict[year_start])\n",
    "\n",
    "# plot\n",
    "ax = plt.subplot()\n",
    "# remove the upper triangle\n",
    "mask = np.triu(np.ones_like(remain_active))\n",
    "# set the diagonal to 0; so it wouldn't be masked\n",
    "np.fill_diagonal(mask, 0)\n",
    "sns.heatmap(remain_active.astype(float), annot = True, mask=mask, cmap='Blues_r', ax=ax)\n",
    "\n",
    "ax.set_xlabel('year started')\n",
    "ax.set_ylabel('year active')\n",
    "ax.set_title(f'Fraction of {k}+ authors who remained active after their first note')\n"
   ]
  },
  {
   "cell_type": "markdown",
   "metadata": {},
   "source": [
    "And for authors who had at least one note rated helpful"
   ]
  },
  {
   "cell_type": "code",
   "execution_count": 29,
   "metadata": {},
   "outputs": [
    {
     "data": {
      "text/plain": [
       "Text(0.5, 1.0, 'Fraction of helpful authors who remained active after their first note')"
      ]
     },
     "execution_count": 29,
     "metadata": {},
     "output_type": "execute_result"
    },
    {
     "data": {
      "image/png": "[encoded data removed]",
      "text/plain": [
       "<Figure size 640x480 with 2 Axes>"
      ]
     },
     "metadata": {},
     "output_type": "display_data"
    }
   ],
   "source": [
    "rated = pd.read_parquet('rated_notes_compact.parquet', engine='auto')\n",
    "helpful_authors = rated[rated['finalRatingStatus'] == 'CURRENTLY_RATED_HELPFUL']\\\n",
    "                    ['noteAuthorParticipantId'].unique()\n",
    "# make a dict of the list of unique authors each year\n",
    "distinct_authors_dict = {}\n",
    "# create a year column\n",
    "rated['Year'] = pd.to_datetime(rated['createdAtMillis'], unit='ms').dt.year\n",
    "for year in range(2021, 2025): \n",
    "    year_authors = rated[rated['Year'] == year]['noteAuthorParticipantId'].unique()\n",
    "    # find intersection of year authors with helpful ones. Since a helpful author could have started\n",
    "    # with unhelpful notes\n",
    "    distinct_authors_dict[year] = np.intersect1d(year_authors, helpful_authors)\n",
    "# create a dateframe for comparing persistant authors during years\n",
    "year_range = range(2021, 2025)\n",
    "index = [year for year in year_range]\n",
    "remain_active = pd.DataFrame(columns=index, index=index)\n",
    "remain_active_matrix = np.empty(len(year_range))\n",
    "for year_start in year_range:\n",
    "    for year_active in year_range:\n",
    "        if year_start <= year_active:\n",
    "            remain_active.loc[year_active, year_start] = \\\n",
    "                len(np.intersect1d(distinct_authors_dict[year_start], distinct_authors_dict[year_active])) \\\n",
    "                    / len(distinct_authors_dict[year_start])\n",
    "\n",
    "# plot\n",
    "ax = plt.subplot()\n",
    "# remove the upper triangle\n",
    "mask = np.triu(np.ones_like(remain_active))\n",
    "# set the diagonal to 0; so it wouldn't be masked\n",
    "np.fill_diagonal(mask, 0)\n",
    "sns.heatmap(remain_active.astype(float), annot = True, mask=mask, cmap='Blues_r', ax=ax)\n",
    "\n",
    "ax.set_xlabel('year started')\n",
    "ax.set_ylabel('year active')\n",
    "ax.set_title(f'Fraction of helpful authors who remained active after their first note')\n"
   ]
  },
  {
   "cell_type": "code",
   "execution_count": 28,
   "metadata": {},
   "outputs": [
    {
     "data": {
      "text/plain": [
       "Index(['noteId', 'finalRatingStatus', 'firstTag', 'secondTag',\n",
       "       'classification', 'createdAtMillis', 'numRatings', 'noteTopic',\n",
       "       'topicNoteConfident', 'noteAuthorParticipantId', 'tweetId',\n",
       "       'misleadingOther', 'misleadingFactualError',\n",
       "       'misleadingManipulatedMedia', 'misleadingOutdatedInformation',\n",
       "       'misleadingMissingImportantContext', 'misleadingUnverifiedClaimAsFact',\n",
       "       'misleadingSatire', 'notMisleadingOther',\n",
       "       'notMisleadingFactuallyCorrect',\n",
       "       'notMisleadingOutdatedButNotWhenWritten', 'notMisleadingClearlySatire',\n",
       "       'notMisleadingPersonalOpinion', 'trustworthySources', 'summary',\n",
       "       'isMediaNote', 'language'],\n",
       "      dtype='object')"
      ]
     },
     "execution_count": 28,
     "metadata": {},
     "output_type": "execute_result"
    }
   ],
   "source": [
    "rated.columns"
   ]
  },
  {
   "cell_type": "markdown",
   "metadata": {},
   "source": [
    "### notes authored per user per month or quarter. \n",
    "How long does the typical author have consecutive months > 0 on this measure?"
   ]
  },
  {
   "cell_type": "code",
   "execution_count": 5,
   "metadata": {},
   "outputs": [],
   "source": [
    "col = ['noteAuthorParticipantId']\n",
    "df_author = notes.groupby(col)\n",
    "month_diff = df_author['createdAtMonth'].diff()\n",
    "year_diff = df_author['createdAtYear'].diff()\n",
    "nonconsecutive = ~((year_diff.eq(0) & month_diff.eq(1)) | (year_diff.eq(1) & month_diff.eq(-11)))\n",
    "max_consecutive = notes.groupby([*col, nonconsecutive.cumsum()]).size().droplevel(-1).groupby(col).max().reset_index(name='counts')"
   ]
  },
  {
   "cell_type": "code",
   "execution_count": 6,
   "metadata": {},
   "outputs": [
    {
     "data": {
      "text/html": [
       "<div>\n",
       "<style scoped>\n",
       "    .dataframe tbody tr th:only-of-type {\n",
       "        vertical-align: middle;\n",
       "    }\n",
       "\n",
       "    .dataframe tbody tr th {\n",
       "        vertical-align: top;\n",
       "    }\n",
       "\n",
       "    .dataframe thead th {\n",
       "        text-align: right;\n",
       "    }\n",
       "</style>\n",
       "<table border=\"1\" class=\"dataframe\">\n",
       "  <thead>\n",
       "    <tr style=\"text-align: right;\">\n",
       "      <th></th>\n",
       "      <th>counts</th>\n",
       "    </tr>\n",
       "  </thead>\n",
       "  <tbody>\n",
       "    <tr>\n",
       "      <th>count</th>\n",
       "      <td>213216.000000</td>\n",
       "    </tr>\n",
       "    <tr>\n",
       "      <th>mean</th>\n",
       "      <td>1.557529</td>\n",
       "    </tr>\n",
       "    <tr>\n",
       "      <th>std</th>\n",
       "      <td>0.795287</td>\n",
       "    </tr>\n",
       "    <tr>\n",
       "      <th>min</th>\n",
       "      <td>1.000000</td>\n",
       "    </tr>\n",
       "    <tr>\n",
       "      <th>25%</th>\n",
       "      <td>1.000000</td>\n",
       "    </tr>\n",
       "    <tr>\n",
       "      <th>50%</th>\n",
       "      <td>1.000000</td>\n",
       "    </tr>\n",
       "    <tr>\n",
       "      <th>75%</th>\n",
       "      <td>2.000000</td>\n",
       "    </tr>\n",
       "    <tr>\n",
       "      <th>max</th>\n",
       "      <td>9.000000</td>\n",
       "    </tr>\n",
       "  </tbody>\n",
       "</table>\n",
       "</div>"
      ],
      "text/plain": [
       "              counts\n",
       "count  213216.000000\n",
       "mean        1.557529\n",
       "std         0.795287\n",
       "min         1.000000\n",
       "25%         1.000000\n",
       "50%         1.000000\n",
       "75%         2.000000\n",
       "max         9.000000"
      ]
     },
     "execution_count": 6,
     "metadata": {},
     "output_type": "execute_result"
    }
   ],
   "source": [
    "max_consecutive.describe()"
   ]
  },
  {
   "cell_type": "code",
   "execution_count": 23,
   "metadata": {},
   "outputs": [],
   "source": [
    "# let's do the same for quarters\n",
    "col = ['noteAuthorParticipantId']\n",
    "notes['quarter'] = pd.PeriodIndex(notes.createdAt, freq='Q')\n",
    "df_author = notes.groupby(col)\n",
    "\n",
    "diff = df_author['quarter'].diff().apply(lambda x: x if pd.isnull(x) else x.n)\n",
    "nonconsecutive = ~(diff.eq(1))\n",
    "max_consecutive_q = notes.groupby([*col, nonconsecutive.cumsum()]).size().droplevel(-1).groupby(col).max().reset_index(name='counts')"
   ]
  },
  {
   "cell_type": "code",
   "execution_count": 24,
   "metadata": {},
   "outputs": [
    {
     "data": {
      "text/html": [
       "<div>\n",
       "<style scoped>\n",
       "    .dataframe tbody tr th:only-of-type {\n",
       "        vertical-align: middle;\n",
       "    }\n",
       "\n",
       "    .dataframe tbody tr th {\n",
       "        vertical-align: top;\n",
       "    }\n",
       "\n",
       "    .dataframe thead th {\n",
       "        text-align: right;\n",
       "    }\n",
       "</style>\n",
       "<table border=\"1\" class=\"dataframe\">\n",
       "  <thead>\n",
       "    <tr style=\"text-align: right;\">\n",
       "      <th></th>\n",
       "      <th>counts</th>\n",
       "    </tr>\n",
       "  </thead>\n",
       "  <tbody>\n",
       "    <tr>\n",
       "      <th>count</th>\n",
       "      <td>213216.000000</td>\n",
       "    </tr>\n",
       "    <tr>\n",
       "      <th>mean</th>\n",
       "      <td>1.480138</td>\n",
       "    </tr>\n",
       "    <tr>\n",
       "      <th>std</th>\n",
       "      <td>0.657977</td>\n",
       "    </tr>\n",
       "    <tr>\n",
       "      <th>min</th>\n",
       "      <td>1.000000</td>\n",
       "    </tr>\n",
       "    <tr>\n",
       "      <th>25%</th>\n",
       "      <td>1.000000</td>\n",
       "    </tr>\n",
       "    <tr>\n",
       "      <th>50%</th>\n",
       "      <td>1.000000</td>\n",
       "    </tr>\n",
       "    <tr>\n",
       "      <th>75%</th>\n",
       "      <td>2.000000</td>\n",
       "    </tr>\n",
       "    <tr>\n",
       "      <th>max</th>\n",
       "      <td>9.000000</td>\n",
       "    </tr>\n",
       "  </tbody>\n",
       "</table>\n",
       "</div>"
      ],
      "text/plain": [
       "              counts\n",
       "count  213216.000000\n",
       "mean        1.480138\n",
       "std         0.657977\n",
       "min         1.000000\n",
       "25%         1.000000\n",
       "50%         1.000000\n",
       "75%         2.000000\n",
       "max         9.000000"
      ]
     },
     "execution_count": 24,
     "metadata": {},
     "output_type": "execute_result"
    }
   ],
   "source": [
    "max_consecutive_q.describe()"
   ]
  },
  {
   "cell_type": "code",
   "execution_count": 25,
   "metadata": {},
   "outputs": [
    {
     "data": {
      "text/plain": [
       "array([[<Axes: title={'center': 'counts'}>]], dtype=object)"
      ]
     },
     "execution_count": 25,
     "metadata": {},
     "output_type": "execute_result"
    },
    {
     "data": {
      "image/png": "[encoded data removed]",
      "text/plain": [
       "<Figure size 640x480 with 1 Axes>"
      ]
     },
     "metadata": {},
     "output_type": "display_data"
    }
   ],
   "source": [
    "max_consecutive_q.hist()"
   ]
  },
  {
   "cell_type": "markdown",
   "metadata": {},
   "source": [
    "Since we have used the date quarters, it does not show very accurate figures. E.g. Someone who has written only one note is counted in active in 1 quarter. Plus, if you write something in march and another in april, you were active for two quarters. Maybe having rolling quarters would be a better approach if we need it."
   ]
  },
  {
   "cell_type": "markdown",
   "metadata": {},
   "source": [
    "### Q4. What is distribution of authoring among participants? Can we identify superusers who author most notes? Do the questions 1 - 3, above, look different if we restrict our analyses superusers?"
   ]
  },
  {
   "cell_type": "code",
   "execution_count": 4,
   "metadata": {},
   "outputs": [
    {
     "data": {
      "image/png": "[encoded data removed]",
      "text/plain": [
       "<Figure size 640x480 with 1 Axes>"
      ]
     },
     "metadata": {},
     "output_type": "display_data"
    }
   ],
   "source": [
    "# let's see the distribution of notes per author first\n",
    "count_notes_per_author = notes.groupby('noteAuthorParticipantId')['noteId'].count().to_list()\n",
    "bins = [1, 2, 4, 7, 10, 15, 25, 40, 100, 200, 1000, 2000]\n",
    "hist, bin_edges = np.histogram(count_notes_per_author,bins) # make the histogram\n",
    "\n",
    "fig,ax = plt.subplots()\n",
    "\n",
    "# Plot the histogram heights against integers on the x axis\n",
    "ax.bar(range(len(hist)),hist,width=1) \n",
    "\n",
    "# Set the ticks to the middle of the bars\n",
    "ax.set_xticks([0.5+i for i,j in enumerate(hist)])\n",
    "\n",
    "# Set the xticklabels to a string that tells us what the bin edges were\n",
    "ax.set_xticklabels(['{}-{}'.format(bins[i],bins[i+1]) for i,j in enumerate(hist)])\n",
    "\n",
    "plt.show()"
   ]
  },
  {
   "cell_type": "markdown",
   "metadata": {},
   "source": [
    "There are some users who writes a lot! \n"
   ]
  },
  {
   "cell_type": "code",
   "execution_count": 5,
   "metadata": {},
   "outputs": [
    {
     "data": {
      "text/html": [
       "<div>\n",
       "<style scoped>\n",
       "    .dataframe tbody tr th:only-of-type {\n",
       "        vertical-align: middle;\n",
       "    }\n",
       "\n",
       "    .dataframe tbody tr th {\n",
       "        vertical-align: top;\n",
       "    }\n",
       "\n",
       "    .dataframe thead th {\n",
       "        text-align: right;\n",
       "    }\n",
       "</style>\n",
       "<table border=\"1\" class=\"dataframe\">\n",
       "  <thead>\n",
       "    <tr style=\"text-align: right;\">\n",
       "      <th></th>\n",
       "      <th>0</th>\n",
       "    </tr>\n",
       "  </thead>\n",
       "  <tbody>\n",
       "    <tr>\n",
       "      <th>count</th>\n",
       "      <td>249328.000000</td>\n",
       "    </tr>\n",
       "    <tr>\n",
       "      <th>mean</th>\n",
       "      <td>7.294524</td>\n",
       "    </tr>\n",
       "    <tr>\n",
       "      <th>std</th>\n",
       "      <td>107.484225</td>\n",
       "    </tr>\n",
       "    <tr>\n",
       "      <th>min</th>\n",
       "      <td>1.000000</td>\n",
       "    </tr>\n",
       "    <tr>\n",
       "      <th>25%</th>\n",
       "      <td>1.000000</td>\n",
       "    </tr>\n",
       "    <tr>\n",
       "      <th>50%</th>\n",
       "      <td>3.000000</td>\n",
       "    </tr>\n",
       "    <tr>\n",
       "      <th>75%</th>\n",
       "      <td>6.000000</td>\n",
       "    </tr>\n",
       "    <tr>\n",
       "      <th>max</th>\n",
       "      <td>49377.000000</td>\n",
       "    </tr>\n",
       "  </tbody>\n",
       "</table>\n",
       "</div>"
      ],
      "text/plain": [
       "                   0\n",
       "count  249328.000000\n",
       "mean        7.294524\n",
       "std       107.484225\n",
       "min         1.000000\n",
       "25%         1.000000\n",
       "50%         3.000000\n",
       "75%         6.000000\n",
       "max     49377.000000"
      ]
     },
     "execution_count": 5,
     "metadata": {},
     "output_type": "execute_result"
    }
   ],
   "source": [
    "pd.DataFrame(count_notes_per_author).describe()"
   ]
  },
  {
   "cell_type": "markdown",
   "metadata": {},
   "source": [
    "Someone has written more than 49000 notes! Could they be bots? \n",
    "Let's check some of their notes!"
   ]
  },
  {
   "cell_type": "code",
   "execution_count": 5,
   "metadata": {},
   "outputs": [],
   "source": [
    "count_notes = notes.groupby('noteAuthorParticipantId')['noteId'].count().reset_index()\n",
    "count_notes.sort_values(by='noteId', ascending=False, inplace=True)"
   ]
  },
  {
   "cell_type": "code",
   "execution_count": 4,
   "metadata": {},
   "outputs": [
    {
     "data": {
      "text/plain": [
       "'111F4A03D7F1923DCEC73DD8595474B5BFA1C4E88D3224D24348DD08B82C38D9'"
      ]
     },
     "execution_count": 4,
     "metadata": {},
     "output_type": "execute_result"
    }
   ],
   "source": [
    "count_notes.reset_index().loc[0, 'noteAuthorParticipantId']"
   ]
  },
  {
   "cell_type": "code",
   "execution_count": 5,
   "metadata": {},
   "outputs": [
    {
     "data": {
      "text/plain": [
       "1710372    ⚠️ Deceptive site ahead    Potential threats o...\n",
       "1713658    This account appears to be impersonating @Onyx...\n",
       "1718101    ⚠️ Deceptive site ahead    Potential threats o...\n",
       "1698859    This account is impersonating @MustStopMurad. ...\n",
       "1707395    ⚠️ Deceptive site ahead    Potential threats o...\n",
       "1680045    This account is impersonating @BabyDogeCoin. L...\n",
       "1685121    This account is impersonating @MustStopMurad. ...\n",
       "1672633    This account is impersonating @pacmoon_. Lette...\n",
       "1716290    ⚠️ Deceptive site ahead    Potential threats o...\n",
       "1687665    ⚠️ Deceptive site ahead    Potential threats o...\n",
       "1679395    ⚠️ Deceptive site ahead    Potential threats o...\n",
       "1712482    ⚠️ Deceptive site ahead    Potential threats o...\n",
       "1692246    This account is impersonating @NonPlayableCoin...\n",
       "1675292    ⚠️ Deceptive site ahead ⚠️    Potential threat...\n",
       "1678867    ⚠️ Deceptive site ahead    Potential threats o...\n",
       "1683715    ⚠️ Deceptive site ahead    Potential threats o...\n",
       "1713844    This account is impersonating @puffer_finance....\n",
       "1688767    ⚠️ Deceptive site ahead    Potential threats o...\n",
       "1689226    ⚠️ Deceptive site ahead    Potential threats o...\n",
       "1676160    ⚠️ Deceptive site ahead    Potential threats o...\n",
       "Name: summary, dtype: object"
      ]
     },
     "execution_count": 5,
     "metadata": {},
     "output_type": "execute_result"
    }
   ],
   "source": [
    "star_author = count_notes.reset_index().loc[0,'noteAuthorParticipantId']\n",
    "notes[notes['noteAuthorParticipantId'] == star_author]['summary'].sample(20)"
   ]
  },
  {
   "cell_type": "code",
   "execution_count": null,
   "metadata": {},
   "outputs": [
    {
     "name": "stderr",
     "output_type": "stream",
     "text": [
      "/tmp/ipykernel_4840/2548948843.py:2: SettingWithCopyWarning: \n",
      "A value is trying to be set on a copy of a slice from a DataFrame\n",
      "\n",
      "See the caveats in the documentation: https://pandas.pydata.org/pandas-docs/stable/user_guide/indexing.html#returning-a-view-versus-a-copy\n",
      "  df.rename(columns={'noteId': 'count'}, inplace=True)\n"
     ]
    }
   ],
   "source": [
    "## save Id and count notes for authors with more than 1000 notes\n",
    "# df = count_notes[count_notes['noteId'] > 1000]\n",
    "# df.rename(columns={'noteId': 'count'}, inplace=True)\n",
    "# df.to_csv('star_authors.csv')"
   ]
  },
  {
   "cell_type": "code",
   "execution_count": 6,
   "metadata": {},
   "outputs": [
    {
     "name": "stderr",
     "output_type": "stream",
     "text": [
      "/tmp/ipykernel_8147/829358889.py:7: FutureWarning: The behavior of DataFrame concatenation with empty or all-NA entries is deprecated. In a future version, this will no longer exclude empty or all-NA columns when determining the result dtypes. To retain the old behavior, exclude the relevant entries before the concat operation.\n",
      "  df = pd.concat([df, notes[notes['noteAuthorParticipantId'] == author]], axis=0, join='inner')\n"
     ]
    }
   ],
   "source": [
    "# find top five super authors\n",
    "super_authors = count_notes.reset_index().loc[0:5,'noteAuthorParticipantId'].to_list()\n",
    "\n",
    "df = pd.DataFrame(columns=['noteId', 'tweetId', 'noteAuthorParticipantId', 'summary', 'createdAt'])\n",
    "# find and save their notes in a csv\n",
    "for author in super_authors:\n",
    "    df = pd.concat([df, notes[notes['noteAuthorParticipantId'] == author]], axis=0, join='inner')\n",
    "df.to_csv('notes_by_top_5_authors.csv')"
   ]
  },
  {
   "cell_type": "code",
   "execution_count": 3,
   "metadata": {},
   "outputs": [
    {
     "data": {
      "text/plain": [
       "Index(['noteId', 'noteAuthorParticipantId', 'createdAtMillis', 'tweetId',\n",
       "       'classification', 'believable', 'harmful', 'validationDifficulty',\n",
       "       'misleadingOther', 'misleadingFactualError',\n",
       "       'misleadingManipulatedMedia', 'misleadingOutdatedInformation',\n",
       "       'misleadingMissingImportantContext', 'misleadingUnverifiedClaimAsFact',\n",
       "       'misleadingSatire', 'notMisleadingOther',\n",
       "       'notMisleadingFactuallyCorrect',\n",
       "       'notMisleadingOutdatedButNotWhenWritten', 'notMisleadingClearlySatire',\n",
       "       'notMisleadingPersonalOpinion', 'trustworthySources', 'summary',\n",
       "       'isMediaNote', 'createdAt', 'createdAtYear', 'createdAtMonth'],\n",
       "      dtype='object')"
      ]
     },
     "execution_count": 3,
     "metadata": {},
     "output_type": "execute_result"
    }
   ],
   "source": [
    "notes.columns"
   ]
  },
  {
   "cell_type": "markdown",
   "metadata": {},
   "source": [
    "Some similar notes. They may be rated helpful though. Let's check it!"
   ]
  },
  {
   "cell_type": "code",
   "execution_count": 11,
   "metadata": {},
   "outputs": [],
   "source": [
    "rated = pd.read_parquet('rated_notes_compact.parquet', engine='auto')"
   ]
  },
  {
   "cell_type": "code",
   "execution_count": 61,
   "metadata": {},
   "outputs": [
    {
     "data": {
      "text/plain": [
       "count                        1197\n",
       "unique                          1\n",
       "top       CURRENTLY_RATED_HELPFUL\n",
       "freq                         1197\n",
       "Name: finalRatingStatus, dtype: object"
      ]
     },
     "execution_count": 61,
     "metadata": {},
     "output_type": "execute_result"
    }
   ],
   "source": [
    "rated[rated['noteAuthorParticipantId'] == star_author]['finalRatingStatus'].describe()"
   ]
  },
  {
   "cell_type": "markdown",
   "metadata": {},
   "source": [
    "About half of them are rated and all of them are rated helpful! Impressive!"
   ]
  },
  {
   "cell_type": "code",
   "execution_count": 26,
   "metadata": {},
   "outputs": [],
   "source": [
    "#TODO \n",
    "# identify superusers and run analysis on them, instead of the whole authors\n",
    "# how to define a superusers?\n"
   ]
  },
  {
   "cell_type": "markdown",
   "metadata": {},
   "source": [
    "### Q. Rolling share of new vs older authors (6 months rolling window)"
   ]
  },
  {
   "cell_type": "code",
   "execution_count": 12,
   "metadata": {},
   "outputs": [],
   "source": [
    " # what fraction of notes were written by new (less than 3 months in CN) users\n",
    "\n",
    " #create a df from authors and when they joined\n",
    "authors = notes.groupby('noteAuthorParticipantId')[['createdAt', 'createdAtYear', 'createdAtMonth']]\\\n",
    "    .first().reset_index()\n",
    "# sort by date and make it the index, so the search would be easier\n",
    "authors.sort_values(by='createdAt', inplace=True)\n",
    "authors.set_index('createdAt', inplace=True)"
   ]
  },
  {
   "cell_type": "code",
   "execution_count": 13,
   "metadata": {},
   "outputs": [],
   "source": [
    "share_new_authors = dict()\n",
    "# start from Jan 2024\n",
    "df = notes[(notes.createdAt >= pd.Timestamp(2024, 1, 1)) &\n",
    "           (notes.createdAt < pd.Timestamp(2025, 1, 1))]\n",
    "df_monthly = df.groupby(['createdAtYear', 'createdAtMonth'])['noteAuthorParticipantId']\n",
    "for (year, month), notes_month in df_monthly:\n",
    "    # count notes by new authors\n",
    "    if_new = 0\n",
    "    current_month = pd.Timestamp(year, month, 1)\n",
    "    # create a list of authors joined in the past 4 months\n",
    "    authors_new = authors.loc[(current_month - pd.DateOffset(months=4)): (current_month + pd.DateOffset(months=1))]\\\n",
    "        ['noteAuthorParticipantId'].to_list()\n",
    "    for author, count in notes_month.value_counts().items():\n",
    "        if author in authors_new:\n",
    "            if_new += count\n",
    "\n",
    "    share_new_authors[(year, month)] = if_new / len(notes_month)"
   ]
  },
  {
   "cell_type": "code",
   "execution_count": 14,
   "metadata": {},
   "outputs": [],
   "source": [
    "#save share_new_authors\n",
    "with open('share_new_authors_4.pkl', 'wb') as f:\n",
    "    pickle.dump(share_new_authors, f)\n"
   ]
  },
  {
   "cell_type": "code",
   "execution_count": null,
   "metadata": {},
   "outputs": [],
   "source": [
    "# load share_new_authors\n",
    "with open('share_new_authors_4.pkl', 'rb') as f:\n",
    "    share_new_authors = pickle.load(f)"
   ]
  },
  {
   "cell_type": "code",
   "execution_count": 54,
   "metadata": {},
   "outputs": [
    {
     "data": {
      "text/plain": [
       "[]"
      ]
     },
     "execution_count": 54,
     "metadata": {},
     "output_type": "execute_result"
    },
    {
     "data": {
      "image/png": "[encoded data removed]",
      "text/plain": [
       "<Figure size 640x480 with 1 Axes>"
      ]
     },
     "metadata": {},
     "output_type": "display_data"
    }
   ],
   "source": [
    "ax = plt.subplot()\n",
    "\n",
    "sns.lineplot(x=range(len(share_new_authors)), y=share_new_authors.values())\n",
    "x_labels = [calendar.month_abbr[month] for (year, month) in share_new_authors.keys()]\n",
    "x_locs = [i for i in range(len(x_labels))]\n",
    "ax.set_xticks(x_locs)\n",
    "ax.set_xticklabels(x_labels)\n",
    "# for label in ax.xaxis.get_ticklabels()[1::2]:\n",
    "#     label.set_visible(False)\n",
    "# add years\n",
    "for idx, year in enumerate(range(2024,2025)):\n",
    "    ax.text(idx*.5 -.02, -.1, str(year), size=11, color='#444', transform=ax.transAxes)\n",
    "# ax.set_xlabel('Time')\n",
    "ax.set_ylabel('Share of new authors')\n",
    "ax.yaxis.set_label_coords(-.09, .8)\n",
    "ax.set_title(f'Proportion of Notes written by NEW authors\\n(joined in the past 4 months)',\n",
    "             loc='left',\n",
    "             x=0, y=1)\n",
    "ax.spines[['right', 'top']].set_visible(False)\n",
    "plt.plot()"
   ]
  },
  {
   "cell_type": "markdown",
   "metadata": {},
   "source": [
    "Another way of showing the above plot"
   ]
  },
  {
   "cell_type": "code",
   "execution_count": 53,
   "metadata": {},
   "outputs": [
    {
     "data": {
      "text/plain": [
       "[]"
      ]
     },
     "execution_count": 53,
     "metadata": {},
     "output_type": "execute_result"
    },
    {
     "data": {
      "image/png": "[encoded data removed]",
      "text/plain": [
       "<Figure size 640x480 with 1 Axes>"
      ]
     },
     "metadata": {},
     "output_type": "display_data"
    }
   ],
   "source": [
    "ax = plt.subplot()\n",
    "\n",
    "sns.lineplot(x=range(len(share_new_authors)), y=share_new_authors.values())\n",
    "x_labels = [calendar.month_abbr[month] for (year, month) in share_new_authors.keys()]\n",
    "x_locs = [i for i in range(len(x_labels))]\n",
    "ax.set_xticks(x_locs)\n",
    "ax.set_xticklabels(x_labels)\n",
    "ax.tick_params(axis='both', colors=\"#444444\", labelleft=False, left=False, bottom=False)\n",
    "ax.spines[['bottom']].set_color(\"grey\")\n",
    "\n",
    "# add years\n",
    "for idx, year in enumerate(range(2024,2025)):\n",
    "    ax.text(idx*.5, -.12, str(year), size=11, color='#444', transform=ax.transAxes)\n",
    "\n",
    "ax.set_title(f'Proportion of Notes written by NEW authors\\n(joined in the past 4 months)',\n",
    "             loc='left',\n",
    "             x=0, y=1.05)\n",
    "ax.spines[['right', 'top', 'left']].set_visible(False)\n",
    "\n",
    "# mark start and end proportions\n",
    "for month in [1,12]:\n",
    "    x = month-1\n",
    "    y = share_new_authors[2024, month]\n",
    "    ax.plot(x,\n",
    "            y,\n",
    "            marker='o',\n",
    "            color='tab:blue')\n",
    "    ax.text(x,\n",
    "            y+.01,\n",
    "            f\"{y*100:.0f}%\",\n",
    "            ha='center')\n",
    "plt.plot()"
   ]
  },
  {
   "cell_type": "code",
   "execution_count": 8,
   "metadata": {},
   "outputs": [],
   "source": [
    "# Redo analysis with 6 months\n",
    "share_new_authors_6 = dict()\n",
    "# start from Jan 2024\n",
    "df = notes[notes.createdAt >= pd.Timestamp(2024, 1, 1)]\n",
    "df_monthly = df.groupby(['createdAtYear', 'createdAtMonth'])['noteAuthorParticipantId']\n",
    "for (year, month), notes_month in df_monthly:\n",
    "    # count notes by new authors\n",
    "    if_new = 0\n",
    "    current_month = pd.Timestamp(year, month, 1)\n",
    "    # create a list of authors joined in the past 6 months\n",
    "    authors_new = authors.loc[(current_month - pd.DateOffset(months=6)): (current_month + pd.DateOffset(months=1))]\\\n",
    "        ['noteAuthorParticipantId'].to_list()\n",
    "    for author, count in notes_month.value_counts().items():\n",
    "        if author in authors_new:\n",
    "            if_new += count\n",
    "\n",
    "    share_new_authors_6[(year, month)] = if_new / len(notes_month)\n",
    "#save share_new_authors\n",
    "with open('share_new_authors_6.pkl', 'wb') as f:\n",
    "    pickle.dump(share_new_authors_6, f)"
   ]
  },
  {
   "cell_type": "code",
   "execution_count": 11,
   "metadata": {},
   "outputs": [
    {
     "data": {
      "text/plain": [
       "[]"
      ]
     },
     "execution_count": 11,
     "metadata": {},
     "output_type": "execute_result"
    },
    {
     "data": {
      "image/png": "[encoded data removed]",
      "text/plain": [
       "<Figure size 640x480 with 1 Axes>"
      ]
     },
     "metadata": {},
     "output_type": "display_data"
    }
   ],
   "source": [
    "# load share_new_authors\n",
    "with open('share_new_authors_6.pkl', 'rb') as f:\n",
    "    share_new_authors_6 = pickle.load(f)\n",
    "ax = plt.subplot()\n",
    "\n",
    "sns.lineplot(x=range(len(share_new_authors_6)), y=share_new_authors_6.values())\n",
    "x_labels = [calendar.month_abbr[month] for (year, month) in share_new_authors_6.keys()]\n",
    "x_locs = [i for i in range(len(x_labels))]\n",
    "ax.set_xticks(x_locs)\n",
    "ax.set_xticklabels(x_labels)\n",
    "# for label in ax.xaxis.get_ticklabels()[1::2]:\n",
    "#     label.set_visible(False)\n",
    "# add years\n",
    "for idx, year in enumerate(range(2024,2025)):\n",
    "    ax.text(idx*.5 -.02, -.1, str(year), size=11, color='#444', transform=ax.transAxes)\n",
    "# ax.set_xlabel('Time')\n",
    "ax.set_ylabel('Share of new authors')\n",
    "ax.set_title('Proportion of notes written by new authors\\n (joined in the past 6 months)')\n",
    "plt.plot()"
   ]
  },
  {
   "cell_type": "markdown",
   "metadata": {},
   "source": [
    "### Cumulative note authors vs 10+ note authors over time"
   ]
  },
  {
   "cell_type": "code",
   "execution_count": 59,
   "metadata": {},
   "outputs": [],
   "source": [
    "# cumulative number of authors\n",
    "cum_authors_monthly = notes.groupby('noteAuthorParticipantId').first()\\\n",
    "    .reset_index()\\\n",
    "    .groupby(['createdAtYear', 'createdAtMonth'])['noteId'].nunique()\\\n",
    "        .reset_index()\n",
    "cum_authors_monthly['cum_authors'] = cum_authors_monthly['noteId'].cumsum()\n",
    "cum_authors_monthly.rename(columns={'noteId': 'count'}, inplace=True)"
   ]
  },
  {
   "cell_type": "code",
   "execution_count": 60,
   "metadata": {},
   "outputs": [],
   "source": [
    "# cumulative number of authors with more than 10 notes\n",
    "df_10 = notes[notes.groupby('noteAuthorParticipantId')['noteAuthorParticipantId'].transform('size').gt(9)]\n",
    "cum_authors_monthly_10 = df_10.groupby('noteAuthorParticipantId').first()\\\n",
    "    .reset_index()\\\n",
    "    .groupby(['createdAtYear', 'createdAtMonth'])['noteId'].nunique()\\\n",
    "        .reset_index()\n",
    "cum_authors_monthly_10['cum_authors'] = cum_authors_monthly_10['noteId'].cumsum()\n",
    "cum_authors_monthly_10.rename(columns={'noteId': 'count'}, inplace=True)"
   ]
  },
  {
   "cell_type": "code",
   "execution_count": 62,
   "metadata": {},
   "outputs": [
    {
     "data": {
      "text/plain": [
       "[]"
      ]
     },
     "execution_count": 62,
     "metadata": {},
     "output_type": "execute_result"
    },
    {
     "data": {
      "image/png": "[encoded data removed]",
      "text/plain": [
       "<Figure size 640x480 with 1 Axes>"
      ]
     },
     "metadata": {},
     "output_type": "display_data"
    }
   ],
   "source": [
    "# first just show the growth of authors\n",
    "ax = sns.lineplot(x=range(len(cum_authors_monthly)), y=cum_authors_monthly['cum_authors'])\n",
    "x_labels = [calendar.month_abbr[month] for month in cum_authors_monthly['createdAtMonth']]\n",
    "x_locs = [i for i in range(len(x_labels))]\n",
    "# ax.get_xaxis().set_visible(False)\n",
    "ax.set_xticks(x_locs[::3])\n",
    "ax.set_xticklabels(x_labels[::3])\n",
    "\n",
    "# add years\n",
    "for idx, year in enumerate(range(2021,2025)):\n",
    "    ax.text(idx*.23 +.02, -.1, str(year), size=11, color='#444', transform=ax.transAxes)\n",
    "ax.set_ylabel('Number of Authors')\n",
    "ax.set_title('Cumulative Number of Authors')\n",
    "plt.plot()"
   ]
  },
  {
   "cell_type": "code",
   "execution_count": 61,
   "metadata": {},
   "outputs": [
    {
     "data": {
      "text/plain": [
       "[]"
      ]
     },
     "execution_count": 61,
     "metadata": {},
     "output_type": "execute_result"
    },
    {
     "data": {
      "image/png": "[encoded data removed]",
      "text/plain": [
       "<Figure size 640x480 with 1 Axes>"
      ]
     },
     "metadata": {},
     "output_type": "display_data"
    }
   ],
   "source": [
    "ax = sns.lineplot(x=range(len(cum_authors_monthly)), y=cum_authors_monthly['cum_authors'])\n",
    "# add authors with more than 10 notes\n",
    "sns.lineplot(x=range(len(cum_authors_monthly_10)), y=cum_authors_monthly_10['cum_authors'])\n",
    "x_labels = [calendar.month_abbr[month] for month in cum_authors_monthly['createdAtMonth']]\n",
    "x_locs = [i for i in range(len(x_labels))]\n",
    "# ax.get_xaxis().set_visible(False)\n",
    "ax.set_xticks(x_locs[::3])\n",
    "ax.set_xticklabels(x_labels[::3])\n",
    "\n",
    "# add years\n",
    "for idx, year in enumerate(range(2021,2025)):\n",
    "    ax.text(idx*.23 +.02, -.1, str(year), size=11, color='#444', transform=ax.transAxes)\n",
    "ax.text(33, 200000, f'Total Number of\\n Note Authors', color='tab:blue')\n",
    "ax.text(34, 35000, f'Number of Authors\\nWith 10+ Notes', color='#ff7f0e')\n",
    "# ax.set_xlabel('Time')\n",
    "ax.set_ylabel('Count Authors')\n",
    "# ax.set_title('Proportion of notes written by new authors\\n (joined in the past 6 months)')\n",
    "plt.plot()"
   ]
  },
  {
   "cell_type": "markdown",
   "metadata": {},
   "source": [
    "Proportion of these two lines is not obvious. Let's make it in numbers."
   ]
  },
  {
   "cell_type": "code",
   "execution_count": 6,
   "metadata": {},
   "outputs": [
    {
     "data": {
      "image/png": "[encoded data removed]",
      "text/plain": [
       "<Figure size 640x480 with 1 Axes>"
      ]
     },
     "metadata": {},
     "output_type": "display_data"
    }
   ],
   "source": [
    "proportion_10_plus = cum_authors_monthly_10['cum_authors'] / cum_authors_monthly['cum_authors']\n",
    "ax = sns.lineplot(x=range(len(cum_authors_monthly)), y=proportion_10_plus)\n",
    "x_labels = [calendar.month_abbr[month] for month in cum_authors_monthly['createdAtMonth']]\n",
    "x_locs = [i for i in range(len(x_labels))]\n",
    "# ax.get_xaxis().set_visible(False)\n",
    "ax.set_xticks(x_locs[::3])\n",
    "ax.set_xticklabels(x_labels[::3])\n",
    "\n",
    "# add years\n",
    "for idx, year in enumerate(range(2021,2025)):\n",
    "    ax.text(idx*.23 +.02, -.1, str(year), size=11, color='#444', transform=ax.transAxes)\n",
    "\n",
    "ax.set_ylabel('Proportion of 10+ Note Authors to All')\n",
    "plt.show()"
   ]
  },
  {
   "cell_type": "code",
   "execution_count": 96,
   "metadata": {},
   "outputs": [
    {
     "data": {
      "text/plain": [
       "[]"
      ]
     },
     "execution_count": 96,
     "metadata": {},
     "output_type": "execute_result"
    },
    {
     "data": {
      "image/png": "[encoded data removed]",
      "text/plain": [
       "<Figure size 640x480 with 2 Axes>"
      ]
     },
     "metadata": {},
     "output_type": "display_data"
    }
   ],
   "source": [
    "# merge two plots\n",
    "fig, (ax1, ax2) = plt.subplots(2,1)\n",
    "\n",
    "\n",
    "\n",
    "sns.lineplot(x=range(len(cum_authors_monthly)), y=cum_authors_monthly['cum_authors'], ax=ax1)\n",
    "# add authors with more than 10 notes\n",
    "sns.lineplot(x=range(len(cum_authors_monthly_10)), y=cum_authors_monthly_10['cum_authors'], ax=ax1)\n",
    "\n",
    "\n",
    "\n",
    "ax1.text(33, 200000, f'Total Number of\\n Note Authors', color='tab:blue')\n",
    "ax1.text(35, 35000, f'Number of Authors\\nWith 10+ Notes', color='#ff7f0e')\n",
    "# ax.set_xlabel('Time')\n",
    "ax1.set_ylabel('Count Authors', color='#444')\n",
    "ax1.yaxis.set_label_coords(-.14, .62)\n",
    "\n",
    "proportion_10_plus = cum_authors_monthly_10['cum_authors'] / cum_authors_monthly['cum_authors']\n",
    "sns.lineplot(x=range(len(cum_authors_monthly)), y=proportion_10_plus, ax=ax2)\n",
    "x_labels = [calendar.month_abbr[month] for month in cum_authors_monthly['createdAtMonth']]\n",
    "x_locs = [i for i in range(len(x_labels))]\n",
    "# ax.get_xaxis().set_visible(False)\n",
    "ax2.set_xticks(x_locs[::3])\n",
    "ax2.set_xticklabels(x_labels[::3])\n",
    "ax2.set_ylabel('Proportion of 10+ Authors to All', color='#444')\n",
    "ax2.yaxis.set_label_coords(-.14, .62)\n",
    "# add years\n",
    "for idx, year in enumerate(range(2021,2025)):\n",
    "    ax2.text(idx*.29 +.05, -.11, str(year), size=11, color='#444', transform=ax.transAxes)\n",
    "# beautify the plot\n",
    "ax1.spines[['top', 'right', 'bottom']].set_visible(False)\n",
    "ax1.spines[['left']].set_color('#444444')\n",
    "ax1.tick_params(axis='both', colors='#444444', labelbottom=False, bottom=False)\n",
    "ax2.spines[['top', 'right']].set_visible(False)\n",
    "ax2.spines[['left', 'bottom']].set_color('#444444')\n",
    "ax2.tick_params(axis='both', colors='#444444')\n",
    "plt.plot()"
   ]
  },
  {
   "cell_type": "code",
   "execution_count": 84,
   "metadata": {},
   "outputs": [
    {
     "data": {
      "text/plain": [
       "[]"
      ]
     },
     "execution_count": 84,
     "metadata": {},
     "output_type": "execute_result"
    },
    {
     "data": {
      "image/png": "[encoded data removed]",
      "text/plain": [
       "<Figure size 640x480 with 2 Axes>"
      ]
     },
     "metadata": {},
     "output_type": "display_data"
    }
   ],
   "source": [
    "# above plot, only for 2024\n",
    "# merge two plots\n",
    "fig, (ax1, ax2) = plt.subplots(2,1)\n",
    "\n",
    "cum_authors_monthly_24 = cum_authors_monthly[cum_authors_monthly['createdAtYear'] == 2024]\n",
    "cum_authors_monthly_10_24 = cum_authors_monthly_10[cum_authors_monthly_10['createdAtYear'] == 2024]\n",
    "\n",
    "sns.lineplot(x=range(len(cum_authors_monthly_24)), y=cum_authors_monthly_24['cum_authors'], ax=ax1)\n",
    "# add authors with more than 10 notes\n",
    "sns.lineplot(x=range(len(cum_authors_monthly_10_24)), y=cum_authors_monthly_10_24['cum_authors'], ax=ax1)\n",
    "\n",
    "\n",
    "\n",
    "ax1.text(7, 200000, f'Total Number of\\n Note Authors', color='tab:blue')\n",
    "ax1.text(8, 35000, f'Number of Authors\\nWith 10+ Notes', color='#ff7f0e')\n",
    "# ax.set_xlabel('Time')\n",
    "ax1.set_ylabel('Count Authors', color='#444')\n",
    "ax1.yaxis.set_label_coords(-.14, .62)\n",
    "\n",
    "proportion_10_plus = cum_authors_monthly_10_24['cum_authors'] / cum_authors_monthly_24['cum_authors']\n",
    "sns.lineplot(x=range(len(cum_authors_monthly_24)), y=proportion_10_plus, ax=ax2)\n",
    "x_labels = [calendar.month_abbr[month] for month in cum_authors_monthly_24['createdAtMonth']]\n",
    "x_locs = [i for i in range(len(x_labels))]\n",
    "# # ax.get_xaxis().set_visible(False)\n",
    "ax2.set_xticks(x_locs)\n",
    "ax2.set_xticklabels(x_labels)\n",
    "ax2.set_ylabel('Proportion of 10+ Authors', color='#444')\n",
    "ax2.yaxis.set_label_coords(-.14, .52)\n",
    "# add years\n",
    "# for idx, year in enumerate(range(2021,2025)):\n",
    "#     ax2.text(idx*.29 +.05, -.11, str(year), size=11, color='#444', transform=ax.transAxes)\n",
    "# beautify the plot\n",
    "ax1.spines[['top', 'right', 'bottom']].set_visible(False)\n",
    "ax1.spines[['left']].set_color('#444444')\n",
    "ax1.tick_params(axis='both', colors='#444444', labelbottom=False, bottom=False)\n",
    "ax2.spines[['top', 'right']].set_visible(False)\n",
    "ax2.spines[['left', 'bottom']].set_color('#444444')\n",
    "ax2.tick_params(axis='both', colors='#444444')\n",
    "plt.plot()"
   ]
  },
  {
   "cell_type": "markdown",
   "metadata": {},
   "source": [
    "### Calculate “lifetime” of authors: gap in time between first and most recent note\n",
    "-AND number of notes divided by lifetime"
   ]
  },
  {
   "cell_type": "code",
   "execution_count": 56,
   "metadata": {},
   "outputs": [],
   "source": [
    "# Sort the DataFrame by author and time\n",
    "df_sorted = notes.sort_values(by=['noteAuthorParticipantId', 'createdAt'])\n",
    "\n",
    "# Group by 'author' and calculate the time difference between the first and last note\n",
    "time_diff = df_sorted.groupby('noteAuthorParticipantId').agg(\n",
    "    first_note_time=('createdAt', 'first'),\n",
    "    last_note_time=('createdAt', 'last'),\n",
    "    num_notes=('noteId', 'size')  # Count the number of notes\n",
    ")\n",
    "\n",
    "# Calculate the time difference between the first and last note\n",
    "time_diff['time_diff'] = time_diff['last_note_time'] - time_diff['first_note_time']\n",
    "time_diff['time_diff'] = time_diff['time_diff'].dt.days / 30  # get lifetime in months"
   ]
  },
  {
   "cell_type": "code",
   "execution_count": 57,
   "metadata": {},
   "outputs": [
    {
     "data": {
      "text/plain": [
       "count    213216.000000\n",
       "mean          3.660944\n",
       "std           5.209719\n",
       "min           0.000000\n",
       "25%           0.000000\n",
       "50%           1.200000\n",
       "75%           5.800000\n",
       "max          47.100000\n",
       "Name: time_diff, dtype: float64"
      ]
     },
     "execution_count": 57,
     "metadata": {},
     "output_type": "execute_result"
    }
   ],
   "source": [
    "# lifetime distribution\n",
    "time_diff['time_diff'].describe()"
   ]
  },
  {
   "cell_type": "code",
   "execution_count": 59,
   "metadata": {},
   "outputs": [
    {
     "data": {
      "text/plain": [
       "count    138834.000000\n",
       "mean          5.622339\n",
       "std           5.536675\n",
       "min           0.033333\n",
       "25%           1.366667\n",
       "50%           4.100000\n",
       "75%           8.366667\n",
       "max          47.100000\n",
       "Name: time_diff, dtype: float64"
      ]
     },
     "execution_count": 59,
     "metadata": {},
     "output_type": "execute_result"
    }
   ],
   "source": [
    "# if we ignore authors with only one note:\n",
    "time_diff[time_diff['time_diff'] > 0]['time_diff'].describe()"
   ]
  },
  {
   "cell_type": "code",
   "execution_count": 62,
   "metadata": {},
   "outputs": [
    {
     "name": "stderr",
     "output_type": "stream",
     "text": [
      "/tmp/ipykernel_3408/3612877749.py:3: SettingWithCopyWarning: \n",
      "A value is trying to be set on a copy of a slice from a DataFrame.\n",
      "Try using .loc[row_indexer,col_indexer] = value instead\n",
      "\n",
      "See the caveats in the documentation: https://pandas.pydata.org/pandas-docs/stable/user_guide/indexing.html#returning-a-view-versus-a-copy\n",
      "  time_diff_2_plus['activity'] = time_diff_2_plus['num_notes'] / time_diff_2_plus['time_diff']\n"
     ]
    },
    {
     "data": {
      "text/plain": [
       "count    138834.000000\n",
       "mean          5.269257\n",
       "std          18.124019\n",
       "min           0.044543\n",
       "25%           0.745342\n",
       "50%           1.530612\n",
       "75%           3.719008\n",
       "max        3802.780749\n",
       "Name: activity, dtype: float64"
      ]
     },
     "execution_count": 62,
     "metadata": {},
     "output_type": "execute_result"
    }
   ],
   "source": [
    "# number of notes divided by lifetime \n",
    "time_diff_2_plus = time_diff[time_diff['time_diff'] > 0]\n",
    "time_diff_2_plus['activity'] = time_diff_2_plus['num_notes'] / time_diff_2_plus['time_diff']\n",
    "time_diff_2_plus['activity'].describe()"
   ]
  },
  {
   "cell_type": "markdown",
   "metadata": {},
   "source": [
    "### Active users; share of new authors\n",
    "check if they joined in the past 4 months.\n",
    "First a monthly view\n"
   ]
  },
  {
   "cell_type": "code",
   "execution_count": 7,
   "metadata": {},
   "outputs": [],
   "source": [
    " #create a df from authors and when they joined\n",
    "authors = notes.groupby('noteAuthorParticipantId')[['createdAt', 'createdAtYear', 'createdAtMonth']]\\\n",
    "    .first().reset_index()\n",
    "# sort by date and make it the index, so the search would be easier\n",
    "authors.sort_values(by='createdAt', inplace=True)\n",
    "authors.set_index('createdAt', inplace=True)"
   ]
  },
  {
   "cell_type": "code",
   "execution_count": 8,
   "metadata": {},
   "outputs": [
    {
     "ename": "KeyboardInterrupt",
     "evalue": "",
     "output_type": "error",
     "traceback": [
      "\u001b[0;31m---------------------------------------------------------------------------\u001b[0m",
      "\u001b[0;31mKeyboardInterrupt\u001b[0m                         Traceback (most recent call last)",
      "Cell \u001b[0;32mIn[8], line 14\u001b[0m\n\u001b[1;32m     11\u001b[0m authors_new \u001b[38;5;241m=\u001b[39m authors\u001b[38;5;241m.\u001b[39mloc[(current_month \u001b[38;5;241m-\u001b[39m pd\u001b[38;5;241m.\u001b[39mDateOffset(months\u001b[38;5;241m=\u001b[39m\u001b[38;5;241m4\u001b[39m)): (current_month \u001b[38;5;241m+\u001b[39m pd\u001b[38;5;241m.\u001b[39mDateOffset(months\u001b[38;5;241m=\u001b[39m\u001b[38;5;241m1\u001b[39m))]\\\n\u001b[1;32m     12\u001b[0m     [\u001b[38;5;124m'\u001b[39m\u001b[38;5;124mnoteAuthorParticipantId\u001b[39m\u001b[38;5;124m'\u001b[39m]\u001b[38;5;241m.\u001b[39mto_list()\n\u001b[1;32m     13\u001b[0m \u001b[38;5;28;01mfor\u001b[39;00m author \u001b[38;5;129;01min\u001b[39;00m authors_month\u001b[38;5;241m.\u001b[39mvalues[\u001b[38;5;241m0\u001b[39m]:\n\u001b[0;32m---> 14\u001b[0m     \u001b[38;5;28;01mif\u001b[39;00m author \u001b[38;5;129;01min\u001b[39;00m authors_new:\n\u001b[1;32m     15\u001b[0m         if_new \u001b[38;5;241m+\u001b[39m\u001b[38;5;241m=\u001b[39m \u001b[38;5;241m1\u001b[39m\n\u001b[1;32m     17\u001b[0m share_new_authors[(year, month)] \u001b[38;5;241m=\u001b[39m if_new \u001b[38;5;241m/\u001b[39m \u001b[38;5;28mlen\u001b[39m(authors_month\u001b[38;5;241m.\u001b[39mvalues[\u001b[38;5;241m0\u001b[39m])\n",
      "\u001b[0;31mKeyboardInterrupt\u001b[0m: "
     ]
    }
   ],
   "source": [
    "share_new_authors = dict()\n",
    "# start from Jan 2024\n",
    "df = notes[notes.createdAt >= pd.Timestamp(2024, 1, 1)]\n",
    "df_monthly = df.groupby(['createdAtYear', 'createdAtMonth'])\\\n",
    "    .agg({'noteAuthorParticipantId': 'unique'})\n",
    "for (year, month), authors_month in df_monthly.iterrows():\n",
    "    # count new authors\n",
    "    if_new = 0\n",
    "    current_month = pd.Timestamp(year, month, 1)\n",
    "    # create a list of authors joined in the past 4 months; including current month\n",
    "    authors_new = authors.loc[(current_month - pd.DateOffset(months=4)): (current_month + pd.DateOffset(months=1))]\\\n",
    "        ['noteAuthorParticipantId'].to_list()\n",
    "    for author in authors_month.values[0]:\n",
    "        if author in authors_new:\n",
    "            if_new += 1\n",
    "\n",
    "    share_new_authors[(year, month)] = if_new / len(authors_month.values[0])\n",
    "#save share_new_authors\n",
    "with open('share_new_authors_authors.pkl', 'wb') as f:\n",
    "    pickle.dump(share_new_authors, f)"
   ]
  },
  {
   "cell_type": "code",
   "execution_count": null,
   "metadata": {},
   "outputs": [
    {
     "data": {
      "text/plain": [
       "[]"
      ]
     },
     "execution_count": 14,
     "metadata": {},
     "output_type": "execute_result"
    },
    {
     "data": {
      "image/png": "[encoded data removed]",
      "text/plain": [
       "<Figure size 640x480 with 1 Axes>"
      ]
     },
     "metadata": {},
     "output_type": "display_data"
    }
   ],
   "source": [
    "# load share_new_authors\n",
    "with open('share_new_authors_authors.pkl', 'rb') as f:\n",
    "    share_new_authors_month = pickle.load(f)\n",
    "\n",
    "ax = plt.subplot()\n",
    "\n",
    "sns.lineplot(x=range(len(share_new_authors_month)), y=share_new_authors_month.values())\n",
    "x_labels = [calendar.month_abbr[month] for (year, month) in share_new_authors_month.keys()]\n",
    "x_locs = [i for i in range(len(x_labels))]\n",
    "ax.set_xticks(x_locs)\n",
    "ax.set_xticklabels(x_labels)\n",
    "# for label in ax.xaxis.get_ticklabels()[1::2]:\n",
    "#     label.set_visible(False)\n",
    "# add years\n",
    "for idx, year in enumerate(range(2024,2025)):\n",
    "    ax.text(idx*.5 -.02, -.1, str(year), size=11, color='#444', transform=ax.transAxes)\n",
    "# ax.set_xlabel('Time')\n",
    "ax.set_ylabel('Share of new authors')\n",
    "ax.set_title('Proportion of new authors to active authors\\n (joined in the past 4 months)')\n",
    "plt.plot()"
   ]
  },
  {
   "cell_type": "markdown",
   "metadata": {},
   "source": [
    "A daily view"
   ]
  },
  {
   "cell_type": "code",
   "execution_count": null,
   "metadata": {},
   "outputs": [
    {
     "name": "stderr",
     "output_type": "stream",
     "text": [
      "/tmp/ipykernel_2971/644001690.py:4: SettingWithCopyWarning: \n",
      "A value is trying to be set on a copy of a slice from a DataFrame.\n",
      "Try using .loc[row_indexer,col_indexer] = value instead\n",
      "\n",
      "See the caveats in the documentation: https://pandas.pydata.org/pandas-docs/stable/user_guide/indexing.html#returning-a-view-versus-a-copy\n",
      "  df['createdAtDay'] = df['createdAt'].dt.day\n"
     ]
    }
   ],
   "source": [
    "share_new_authors = dict()\n",
    "# start from Jan 2024\n",
    "df = notes[notes.createdAt >= pd.Timestamp(2024, 1, 1)]\n",
    "df['createdAtDay'] = df['createdAt'].dt.day\n",
    "df_daily = df.groupby(['createdAtYear', 'createdAtMonth','createdAtDay'])\\\n",
    "    .agg({'noteAuthorParticipantId': 'unique'})\n",
    "for (year, month, day), authors_day in df_daily.iterrows():\n",
    "    # count new authors\n",
    "    if_new = 0\n",
    "    current_date = pd.Timestamp(year, month, day)\n",
    "    # create a list of authors joined in the past 4 months; including current month\n",
    "    authors_new = authors.loc[(current_date - pd.DateOffset(months=4)): (current_date + pd.DateOffset(days=1))]\\\n",
    "        ['noteAuthorParticipantId'].to_list()\n",
    "    for author in authors_day.values[0]:\n",
    "        if author in authors_new:\n",
    "            if_new += 1\n",
    "\n",
    "    share_new_authors[(year, month, day)] = if_new / len(authors_day.values[0])\n",
    "#save share_new_authors\n",
    "with open('share_new_authors_authors_daily.pkl', 'wb') as f:\n",
    "    pickle.dump(share_new_authors, f)"
   ]
  },
  {
   "cell_type": "code",
   "execution_count": null,
   "metadata": {},
   "outputs": [
    {
     "data": {
      "text/plain": [
       "[]"
      ]
     },
     "execution_count": 19,
     "metadata": {},
     "output_type": "execute_result"
    },
    {
     "data": {
      "image/png": "[encoded data removed]",
      "text/plain": [
       "<Figure size 640x480 with 1 Axes>"
      ]
     },
     "metadata": {},
     "output_type": "display_data"
    }
   ],
   "source": [
    "# load share_new_authors\n",
    "with open('share_new_authors_authors_daily.pkl', 'rb') as f:\n",
    "    share_new_authors = pickle.load(f)\n",
    "\n",
    "ax = plt.subplot()\n",
    "\n",
    "sns.lineplot(x=range(len(share_new_authors)), y=share_new_authors.values())\n",
    "x_labels = [calendar.month_abbr[month] for month in range(13)]\n",
    "x_locs = [(i-1)*30 for i in range(len(x_labels))]\n",
    "ax.set_xticks(x_locs)\n",
    "ax.set_xticklabels(x_labels)\n",
    "# for label in ax.xaxis.get_ticklabels()[1::2]:\n",
    "#     label.set_visible(False)\n",
    "# add years\n",
    "for idx, year in enumerate(range(2024,2025)):\n",
    "    ax.text(idx*.5 -.02, -.1, str(year), size=11, color='#444', transform=ax.transAxes)\n",
    "# ax.set_xlabel('Time')\n",
    "ax.set_ylabel('Share of new authors')\n",
    "ax.set_title('Proportion of new authors to active authors\\n (joined in the past 4 months)')\n",
    "plt.plot()"
   ]
  },
  {
   "cell_type": "markdown",
   "metadata": {},
   "source": [
    "Check if you can find note scores!"
   ]
  },
  {
   "cell_type": "code",
   "execution_count": null,
   "metadata": {},
   "outputs": [],
   "source": []
  },
  {
   "cell_type": "code",
   "execution_count": 3,
   "metadata": {},
   "outputs": [],
   "source": [
    "df = pd.read_parquet('./scored_notes.parquet', engine='auto')"
   ]
  },
  {
   "cell_type": "code",
   "execution_count": 4,
   "metadata": {},
   "outputs": [
    {
     "data": {
      "text/plain": [
       "Index(['noteId', 'coreNoteIntercept', 'coreNoteFactor1', 'finalRatingStatus',\n",
       "       'firstTag', 'secondTag', 'coreActiveRules', 'activeFilterTags',\n",
       "       'classification', 'createdAtMillis', 'coreRatingStatus',\n",
       "       'metaScorerActiveRules', 'decidedBy', 'expansionNoteIntercept',\n",
       "       'expansionNoteFactor1', 'expansionRatingStatus',\n",
       "       'coverageNoteIntercept', 'coverageNoteFactor1', 'coverageRatingStatus',\n",
       "       'coreNoteInterceptMin', 'coreNoteInterceptMax',\n",
       "       'expansionNoteInterceptMin', 'expansionNoteInterceptMax',\n",
       "       'coverageNoteInterceptMin', 'coverageNoteInterceptMax',\n",
       "       'groupNoteIntercept', 'groupNoteFactor1', 'groupRatingStatus',\n",
       "       'groupNoteInterceptMax', 'groupNoteInterceptMin', 'modelingGroup',\n",
       "       'numRatings', 'timestampMillisOfCurrentStatus',\n",
       "       'expansionPlusNoteIntercept', 'expansionPlusNoteFactor1',\n",
       "       'expansionPlusRatingStatus', 'topicNoteIntercept', 'topicNoteFactor1',\n",
       "       'topicRatingStatus', 'noteTopic', 'topicNoteConfident',\n",
       "       'expansionActiveRules', 'expansionPlusActiveRules', 'groupActiveRules',\n",
       "       'topicActiveRules', 'coreNumFinalRoundRatings',\n",
       "       'expansionNumFinalRoundRatings', 'expansionPlusNumFinalRoundRatings',\n",
       "       'groupNumFinalRoundRatings', 'topicNumFinalRoundRatings',\n",
       "       'rescoringActiveRules', 'multiGroupNoteIntercept',\n",
       "       'multiGroupNoteFactor1', 'multiGroupRatingStatus', 'modelingMultiGroup',\n",
       "       'multiGroupActiveRules', 'multiGroupNumFinalRoundRatings'],\n",
       "      dtype='object')"
      ]
     },
     "execution_count": 4,
     "metadata": {},
     "output_type": "execute_result"
    }
   ],
   "source": [
    "df.columns"
   ]
  },
  {
   "cell_type": "code",
   "execution_count": 3,
   "metadata": {},
   "outputs": [
    {
     "data": {
      "text/html": [
       "<div>\n",
       "<style scoped>\n",
       "    .dataframe tbody tr th:only-of-type {\n",
       "        vertical-align: middle;\n",
       "    }\n",
       "\n",
       "    .dataframe tbody tr th {\n",
       "        vertical-align: top;\n",
       "    }\n",
       "\n",
       "    .dataframe thead th {\n",
       "        text-align: right;\n",
       "    }\n",
       "</style>\n",
       "<table border=\"1\" class=\"dataframe\">\n",
       "  <thead>\n",
       "    <tr style=\"text-align: right;\">\n",
       "      <th></th>\n",
       "      <th>decidedBy</th>\n",
       "      <th>finalRatingStatus</th>\n",
       "      <th>numRatings</th>\n",
       "    </tr>\n",
       "  </thead>\n",
       "  <tbody>\n",
       "    <tr>\n",
       "      <th>34</th>\n",
       "      <td>ScoringDriftGuard (v1.0)</td>\n",
       "      <td>CURRENTLY_RATED_HELPFUL</td>\n",
       "      <td>5</td>\n",
       "    </tr>\n",
       "    <tr>\n",
       "      <th>141</th>\n",
       "      <td>ScoringDriftGuard (v1.0)</td>\n",
       "      <td>CURRENTLY_RATED_HELPFUL</td>\n",
       "      <td>6</td>\n",
       "    </tr>\n",
       "    <tr>\n",
       "      <th>168</th>\n",
       "      <td>CoreModel (v1.1)</td>\n",
       "      <td>NEEDS_MORE_RATINGS</td>\n",
       "      <td>10</td>\n",
       "    </tr>\n",
       "    <tr>\n",
       "      <th>181</th>\n",
       "      <td>CoreModel (v1.1)</td>\n",
       "      <td>NEEDS_MORE_RATINGS</td>\n",
       "      <td>8</td>\n",
       "    </tr>\n",
       "    <tr>\n",
       "      <th>183</th>\n",
       "      <td>CoreModel (v1.1)</td>\n",
       "      <td>NEEDS_MORE_RATINGS</td>\n",
       "      <td>14</td>\n",
       "    </tr>\n",
       "    <tr>\n",
       "      <th>...</th>\n",
       "      <td>...</td>\n",
       "      <td>...</td>\n",
       "      <td>...</td>\n",
       "    </tr>\n",
       "    <tr>\n",
       "      <th>1674889</th>\n",
       "      <td>CoreModel (v1.1)</td>\n",
       "      <td>NEEDS_MORE_RATINGS</td>\n",
       "      <td>33</td>\n",
       "    </tr>\n",
       "    <tr>\n",
       "      <th>1674905</th>\n",
       "      <td>CoreModel (v1.1)</td>\n",
       "      <td>NEEDS_MORE_RATINGS</td>\n",
       "      <td>15</td>\n",
       "    </tr>\n",
       "    <tr>\n",
       "      <th>1674913</th>\n",
       "      <td>CoreModel (v1.1)</td>\n",
       "      <td>NEEDS_MORE_RATINGS</td>\n",
       "      <td>12</td>\n",
       "    </tr>\n",
       "    <tr>\n",
       "      <th>1674918</th>\n",
       "      <td>CoreModel (v1.1)</td>\n",
       "      <td>NEEDS_MORE_RATINGS</td>\n",
       "      <td>8</td>\n",
       "    </tr>\n",
       "    <tr>\n",
       "      <th>1674920</th>\n",
       "      <td>CoreModel (v1.1)</td>\n",
       "      <td>NEEDS_MORE_RATINGS</td>\n",
       "      <td>11</td>\n",
       "    </tr>\n",
       "  </tbody>\n",
       "</table>\n",
       "<p>852815 rows × 3 columns</p>\n",
       "</div>"
      ],
      "text/plain": [
       "                        decidedBy        finalRatingStatus  numRatings\n",
       "34       ScoringDriftGuard (v1.0)  CURRENTLY_RATED_HELPFUL           5\n",
       "141      ScoringDriftGuard (v1.0)  CURRENTLY_RATED_HELPFUL           6\n",
       "168              CoreModel (v1.1)       NEEDS_MORE_RATINGS          10\n",
       "181              CoreModel (v1.1)       NEEDS_MORE_RATINGS           8\n",
       "183              CoreModel (v1.1)       NEEDS_MORE_RATINGS          14\n",
       "...                           ...                      ...         ...\n",
       "1674889          CoreModel (v1.1)       NEEDS_MORE_RATINGS          33\n",
       "1674905          CoreModel (v1.1)       NEEDS_MORE_RATINGS          15\n",
       "1674913          CoreModel (v1.1)       NEEDS_MORE_RATINGS          12\n",
       "1674918          CoreModel (v1.1)       NEEDS_MORE_RATINGS           8\n",
       "1674920          CoreModel (v1.1)       NEEDS_MORE_RATINGS          11\n",
       "\n",
       "[852815 rows x 3 columns]"
      ]
     },
     "execution_count": 3,
     "metadata": {},
     "output_type": "execute_result"
    }
   ],
   "source": [
    "df[df['numRatings'] >=5].loc[:, ['decidedBy','finalRatingStatus', 'numRatings']]"
   ]
  },
  {
   "cell_type": "code",
   "execution_count": 5,
   "metadata": {},
   "outputs": [],
   "source": [
    "# sample from rated and not rated notes\n",
    "df_sample_rated = df\\\n",
    "    [(df['finalRatingStatus'] != 'NEEDS_MORE_RATINGS')]\\\n",
    "    .sample(n=100, random_state=2025)\n",
    "df_sample_not_rated = df\\\n",
    "    [(df['finalRatingStatus'] == 'NEEDS_MORE_RATINGS')\\\n",
    "     & (df['numRatings'] >=5)]\\\n",
    "    .sample(n=100, random_state=2025)\n",
    "\n",
    "df_sample = pd.concat([df_sample_rated, df_sample_not_rated])"
   ]
  },
  {
   "cell_type": "code",
   "execution_count": 6,
   "metadata": {},
   "outputs": [
    {
     "data": {
      "text/html": [
       "<div>\n",
       "<style scoped>\n",
       "    .dataframe tbody tr th:only-of-type {\n",
       "        vertical-align: middle;\n",
       "    }\n",
       "\n",
       "    .dataframe tbody tr th {\n",
       "        vertical-align: top;\n",
       "    }\n",
       "\n",
       "    .dataframe thead th {\n",
       "        text-align: right;\n",
       "    }\n",
       "</style>\n",
       "<table border=\"1\" class=\"dataframe\">\n",
       "  <thead>\n",
       "    <tr style=\"text-align: right;\">\n",
       "      <th></th>\n",
       "      <th>coreNoteIntercept</th>\n",
       "      <th>coreNoteFactor1</th>\n",
       "      <th>finalRatingStatus</th>\n",
       "      <th>coreRatingStatus</th>\n",
       "      <th>decidedBy</th>\n",
       "      <th>expansionNoteIntercept</th>\n",
       "      <th>expansionNoteFactor1</th>\n",
       "      <th>expansionRatingStatus</th>\n",
       "      <th>coverageNoteIntercept</th>\n",
       "      <th>coverageNoteFactor1</th>\n",
       "      <th>coverageRatingStatus</th>\n",
       "      <th>groupNoteIntercept</th>\n",
       "      <th>groupNoteFactor1</th>\n",
       "      <th>groupRatingStatus</th>\n",
       "      <th>expansionPlusNoteIntercept</th>\n",
       "      <th>expansionPlusNoteFactor1</th>\n",
       "      <th>expansionPlusRatingStatus</th>\n",
       "      <th>numRatings</th>\n",
       "    </tr>\n",
       "  </thead>\n",
       "  <tbody>\n",
       "    <tr>\n",
       "      <th>1321331</th>\n",
       "      <td>NaN</td>\n",
       "      <td>NaN</td>\n",
       "      <td>CURRENTLY_RATED_HELPFUL</td>\n",
       "      <td>None</td>\n",
       "      <td>ExpansionModel (v1.1)</td>\n",
       "      <td>0.443757</td>\n",
       "      <td>0.202811</td>\n",
       "      <td>CURRENTLY_RATED_HELPFUL</td>\n",
       "      <td>NaN</td>\n",
       "      <td>NaN</td>\n",
       "      <td>None</td>\n",
       "      <td>NaN</td>\n",
       "      <td>NaN</td>\n",
       "      <td>None</td>\n",
       "      <td>0.446070</td>\n",
       "      <td>0.205501</td>\n",
       "      <td>CURRENTLY_RATED_HELPFUL</td>\n",
       "      <td>13</td>\n",
       "    </tr>\n",
       "    <tr>\n",
       "      <th>902008</th>\n",
       "      <td>0.368484</td>\n",
       "      <td>-0.395131</td>\n",
       "      <td>CURRENTLY_RATED_HELPFUL</td>\n",
       "      <td>NEEDS_MORE_RATINGS</td>\n",
       "      <td>ScoringDriftGuard (v1.0)</td>\n",
       "      <td>0.364179</td>\n",
       "      <td>-0.390135</td>\n",
       "      <td>NEEDS_MORE_RATINGS</td>\n",
       "      <td>0.182059</td>\n",
       "      <td>0.410795</td>\n",
       "      <td>NEEDS_MORE_RATINGS</td>\n",
       "      <td>0.310934</td>\n",
       "      <td>-0.543632</td>\n",
       "      <td>NEEDS_MORE_RATINGS</td>\n",
       "      <td>0.367629</td>\n",
       "      <td>-0.393721</td>\n",
       "      <td>NEEDS_MORE_RATINGS</td>\n",
       "      <td>50</td>\n",
       "    </tr>\n",
       "    <tr>\n",
       "      <th>513828</th>\n",
       "      <td>0.431230</td>\n",
       "      <td>0.352343</td>\n",
       "      <td>CURRENTLY_RATED_HELPFUL</td>\n",
       "      <td>CURRENTLY_RATED_HELPFUL</td>\n",
       "      <td>CoreModel (v1.1)</td>\n",
       "      <td>0.425772</td>\n",
       "      <td>0.315994</td>\n",
       "      <td>CURRENTLY_RATED_HELPFUL</td>\n",
       "      <td>0.318437</td>\n",
       "      <td>-0.125798</td>\n",
       "      <td>CURRENTLY_RATED_HELPFUL</td>\n",
       "      <td>NaN</td>\n",
       "      <td>NaN</td>\n",
       "      <td>None</td>\n",
       "      <td>0.430852</td>\n",
       "      <td>0.324722</td>\n",
       "      <td>CURRENTLY_RATED_HELPFUL</td>\n",
       "      <td>626</td>\n",
       "    </tr>\n",
       "    <tr>\n",
       "      <th>816106</th>\n",
       "      <td>0.186433</td>\n",
       "      <td>0.549042</td>\n",
       "      <td>CURRENTLY_RATED_HELPFUL</td>\n",
       "      <td>FIRM_REJECT</td>\n",
       "      <td>ScoringDriftGuard (v1.0)</td>\n",
       "      <td>0.183236</td>\n",
       "      <td>0.544482</td>\n",
       "      <td>FIRM_REJECT</td>\n",
       "      <td>0.174732</td>\n",
       "      <td>-0.230830</td>\n",
       "      <td>NEEDS_MORE_RATINGS</td>\n",
       "      <td>0.001111</td>\n",
       "      <td>0.593719</td>\n",
       "      <td>NEEDS_MORE_RATINGS</td>\n",
       "      <td>0.184812</td>\n",
       "      <td>0.546762</td>\n",
       "      <td>NEEDS_MORE_RATINGS</td>\n",
       "      <td>10</td>\n",
       "    </tr>\n",
       "    <tr>\n",
       "      <th>290845</th>\n",
       "      <td>0.460647</td>\n",
       "      <td>-0.161905</td>\n",
       "      <td>CURRENTLY_RATED_HELPFUL</td>\n",
       "      <td>CURRENTLY_RATED_HELPFUL</td>\n",
       "      <td>CoreModel (v1.1)</td>\n",
       "      <td>0.518125</td>\n",
       "      <td>-0.126731</td>\n",
       "      <td>CURRENTLY_RATED_HELPFUL</td>\n",
       "      <td>0.488126</td>\n",
       "      <td>0.160052</td>\n",
       "      <td>CURRENTLY_RATED_HELPFUL</td>\n",
       "      <td>NaN</td>\n",
       "      <td>NaN</td>\n",
       "      <td>None</td>\n",
       "      <td>0.512706</td>\n",
       "      <td>-0.124412</td>\n",
       "      <td>CURRENTLY_RATED_HELPFUL</td>\n",
       "      <td>24</td>\n",
       "    </tr>\n",
       "    <tr>\n",
       "      <th>...</th>\n",
       "      <td>...</td>\n",
       "      <td>...</td>\n",
       "      <td>...</td>\n",
       "      <td>...</td>\n",
       "      <td>...</td>\n",
       "      <td>...</td>\n",
       "      <td>...</td>\n",
       "      <td>...</td>\n",
       "      <td>...</td>\n",
       "      <td>...</td>\n",
       "      <td>...</td>\n",
       "      <td>...</td>\n",
       "      <td>...</td>\n",
       "      <td>...</td>\n",
       "      <td>...</td>\n",
       "      <td>...</td>\n",
       "      <td>...</td>\n",
       "      <td>...</td>\n",
       "    </tr>\n",
       "    <tr>\n",
       "      <th>1305569</th>\n",
       "      <td>0.344612</td>\n",
       "      <td>0.451399</td>\n",
       "      <td>CURRENTLY_RATED_HELPFUL</td>\n",
       "      <td>NEEDS_MORE_RATINGS</td>\n",
       "      <td>ScoringDriftGuard (v1.0)</td>\n",
       "      <td>0.341030</td>\n",
       "      <td>0.449668</td>\n",
       "      <td>NEEDS_MORE_RATINGS</td>\n",
       "      <td>0.173421</td>\n",
       "      <td>-0.510252</td>\n",
       "      <td>NEEDS_MORE_RATINGS</td>\n",
       "      <td>0.014909</td>\n",
       "      <td>0.744247</td>\n",
       "      <td>NEEDS_MORE_RATINGS</td>\n",
       "      <td>0.346564</td>\n",
       "      <td>0.459112</td>\n",
       "      <td>NEEDS_MORE_RATINGS</td>\n",
       "      <td>309</td>\n",
       "    </tr>\n",
       "    <tr>\n",
       "      <th>107681</th>\n",
       "      <td>0.471922</td>\n",
       "      <td>-0.025283</td>\n",
       "      <td>CURRENTLY_RATED_HELPFUL</td>\n",
       "      <td>FIRM_REJECT</td>\n",
       "      <td>ScoringDriftGuard (v1.0)</td>\n",
       "      <td>0.478391</td>\n",
       "      <td>-0.046072</td>\n",
       "      <td>FIRM_REJECT</td>\n",
       "      <td>0.470124</td>\n",
       "      <td>0.123129</td>\n",
       "      <td>CURRENTLY_RATED_HELPFUL</td>\n",
       "      <td>NaN</td>\n",
       "      <td>NaN</td>\n",
       "      <td>None</td>\n",
       "      <td>0.484175</td>\n",
       "      <td>-0.051855</td>\n",
       "      <td>NEEDS_MORE_RATINGS</td>\n",
       "      <td>24</td>\n",
       "    </tr>\n",
       "    <tr>\n",
       "      <th>815055</th>\n",
       "      <td>0.554149</td>\n",
       "      <td>-0.139585</td>\n",
       "      <td>CURRENTLY_RATED_HELPFUL</td>\n",
       "      <td>FIRM_REJECT</td>\n",
       "      <td>ScoringDriftGuard (v1.0)</td>\n",
       "      <td>0.563915</td>\n",
       "      <td>-0.127527</td>\n",
       "      <td>FIRM_REJECT</td>\n",
       "      <td>0.404572</td>\n",
       "      <td>0.168978</td>\n",
       "      <td>CURRENTLY_RATED_HELPFUL</td>\n",
       "      <td>0.148299</td>\n",
       "      <td>-0.546363</td>\n",
       "      <td>NEEDS_MORE_RATINGS</td>\n",
       "      <td>0.562842</td>\n",
       "      <td>-0.124032</td>\n",
       "      <td>NEEDS_MORE_RATINGS</td>\n",
       "      <td>116</td>\n",
       "    </tr>\n",
       "    <tr>\n",
       "      <th>150036</th>\n",
       "      <td>0.549704</td>\n",
       "      <td>-0.077339</td>\n",
       "      <td>CURRENTLY_RATED_HELPFUL</td>\n",
       "      <td>CURRENTLY_RATED_HELPFUL</td>\n",
       "      <td>CoreModel (v1.1)</td>\n",
       "      <td>0.561324</td>\n",
       "      <td>-0.043618</td>\n",
       "      <td>CURRENTLY_RATED_HELPFUL</td>\n",
       "      <td>0.344951</td>\n",
       "      <td>0.226181</td>\n",
       "      <td>CURRENTLY_RATED_HELPFUL</td>\n",
       "      <td>NaN</td>\n",
       "      <td>NaN</td>\n",
       "      <td>None</td>\n",
       "      <td>0.567578</td>\n",
       "      <td>-0.046032</td>\n",
       "      <td>CURRENTLY_RATED_HELPFUL</td>\n",
       "      <td>108</td>\n",
       "    </tr>\n",
       "    <tr>\n",
       "      <th>1648828</th>\n",
       "      <td>0.575774</td>\n",
       "      <td>-0.070720</td>\n",
       "      <td>CURRENTLY_RATED_HELPFUL</td>\n",
       "      <td>CURRENTLY_RATED_HELPFUL</td>\n",
       "      <td>CoreModel (v1.1)</td>\n",
       "      <td>0.573672</td>\n",
       "      <td>-0.080317</td>\n",
       "      <td>CURRENTLY_RATED_HELPFUL</td>\n",
       "      <td>0.394132</td>\n",
       "      <td>0.108435</td>\n",
       "      <td>CURRENTLY_RATED_HELPFUL</td>\n",
       "      <td>NaN</td>\n",
       "      <td>NaN</td>\n",
       "      <td>None</td>\n",
       "      <td>0.581917</td>\n",
       "      <td>-0.077977</td>\n",
       "      <td>CURRENTLY_RATED_HELPFUL</td>\n",
       "      <td>103</td>\n",
       "    </tr>\n",
       "  </tbody>\n",
       "</table>\n",
       "<p>77 rows × 18 columns</p>\n",
       "</div>"
      ],
      "text/plain": [
       "         coreNoteIntercept  coreNoteFactor1        finalRatingStatus  \\\n",
       "1321331                NaN              NaN  CURRENTLY_RATED_HELPFUL   \n",
       "902008            0.368484        -0.395131  CURRENTLY_RATED_HELPFUL   \n",
       "513828            0.431230         0.352343  CURRENTLY_RATED_HELPFUL   \n",
       "816106            0.186433         0.549042  CURRENTLY_RATED_HELPFUL   \n",
       "290845            0.460647        -0.161905  CURRENTLY_RATED_HELPFUL   \n",
       "...                    ...              ...                      ...   \n",
       "1305569           0.344612         0.451399  CURRENTLY_RATED_HELPFUL   \n",
       "107681            0.471922        -0.025283  CURRENTLY_RATED_HELPFUL   \n",
       "815055            0.554149        -0.139585  CURRENTLY_RATED_HELPFUL   \n",
       "150036            0.549704        -0.077339  CURRENTLY_RATED_HELPFUL   \n",
       "1648828           0.575774        -0.070720  CURRENTLY_RATED_HELPFUL   \n",
       "\n",
       "                coreRatingStatus                 decidedBy  \\\n",
       "1321331                     None     ExpansionModel (v1.1)   \n",
       "902008        NEEDS_MORE_RATINGS  ScoringDriftGuard (v1.0)   \n",
       "513828   CURRENTLY_RATED_HELPFUL          CoreModel (v1.1)   \n",
       "816106               FIRM_REJECT  ScoringDriftGuard (v1.0)   \n",
       "290845   CURRENTLY_RATED_HELPFUL          CoreModel (v1.1)   \n",
       "...                          ...                       ...   \n",
       "1305569       NEEDS_MORE_RATINGS  ScoringDriftGuard (v1.0)   \n",
       "107681               FIRM_REJECT  ScoringDriftGuard (v1.0)   \n",
       "815055               FIRM_REJECT  ScoringDriftGuard (v1.0)   \n",
       "150036   CURRENTLY_RATED_HELPFUL          CoreModel (v1.1)   \n",
       "1648828  CURRENTLY_RATED_HELPFUL          CoreModel (v1.1)   \n",
       "\n",
       "         expansionNoteIntercept  expansionNoteFactor1  \\\n",
       "1321331                0.443757              0.202811   \n",
       "902008                 0.364179             -0.390135   \n",
       "513828                 0.425772              0.315994   \n",
       "816106                 0.183236              0.544482   \n",
       "290845                 0.518125             -0.126731   \n",
       "...                         ...                   ...   \n",
       "1305569                0.341030              0.449668   \n",
       "107681                 0.478391             -0.046072   \n",
       "815055                 0.563915             -0.127527   \n",
       "150036                 0.561324             -0.043618   \n",
       "1648828                0.573672             -0.080317   \n",
       "\n",
       "           expansionRatingStatus  coverageNoteIntercept  coverageNoteFactor1  \\\n",
       "1321331  CURRENTLY_RATED_HELPFUL                    NaN                  NaN   \n",
       "902008        NEEDS_MORE_RATINGS               0.182059             0.410795   \n",
       "513828   CURRENTLY_RATED_HELPFUL               0.318437            -0.125798   \n",
       "816106               FIRM_REJECT               0.174732            -0.230830   \n",
       "290845   CURRENTLY_RATED_HELPFUL               0.488126             0.160052   \n",
       "...                          ...                    ...                  ...   \n",
       "1305569       NEEDS_MORE_RATINGS               0.173421            -0.510252   \n",
       "107681               FIRM_REJECT               0.470124             0.123129   \n",
       "815055               FIRM_REJECT               0.404572             0.168978   \n",
       "150036   CURRENTLY_RATED_HELPFUL               0.344951             0.226181   \n",
       "1648828  CURRENTLY_RATED_HELPFUL               0.394132             0.108435   \n",
       "\n",
       "            coverageRatingStatus  groupNoteIntercept  groupNoteFactor1  \\\n",
       "1321331                     None                 NaN               NaN   \n",
       "902008        NEEDS_MORE_RATINGS            0.310934         -0.543632   \n",
       "513828   CURRENTLY_RATED_HELPFUL                 NaN               NaN   \n",
       "816106        NEEDS_MORE_RATINGS            0.001111          0.593719   \n",
       "290845   CURRENTLY_RATED_HELPFUL                 NaN               NaN   \n",
       "...                          ...                 ...               ...   \n",
       "1305569       NEEDS_MORE_RATINGS            0.014909          0.744247   \n",
       "107681   CURRENTLY_RATED_HELPFUL                 NaN               NaN   \n",
       "815055   CURRENTLY_RATED_HELPFUL            0.148299         -0.546363   \n",
       "150036   CURRENTLY_RATED_HELPFUL                 NaN               NaN   \n",
       "1648828  CURRENTLY_RATED_HELPFUL                 NaN               NaN   \n",
       "\n",
       "          groupRatingStatus  expansionPlusNoteIntercept  \\\n",
       "1321331                None                    0.446070   \n",
       "902008   NEEDS_MORE_RATINGS                    0.367629   \n",
       "513828                 None                    0.430852   \n",
       "816106   NEEDS_MORE_RATINGS                    0.184812   \n",
       "290845                 None                    0.512706   \n",
       "...                     ...                         ...   \n",
       "1305569  NEEDS_MORE_RATINGS                    0.346564   \n",
       "107681                 None                    0.484175   \n",
       "815055   NEEDS_MORE_RATINGS                    0.562842   \n",
       "150036                 None                    0.567578   \n",
       "1648828                None                    0.581917   \n",
       "\n",
       "         expansionPlusNoteFactor1 expansionPlusRatingStatus  numRatings  \n",
       "1321331                  0.205501   CURRENTLY_RATED_HELPFUL          13  \n",
       "902008                  -0.393721        NEEDS_MORE_RATINGS          50  \n",
       "513828                   0.324722   CURRENTLY_RATED_HELPFUL         626  \n",
       "816106                   0.546762        NEEDS_MORE_RATINGS          10  \n",
       "290845                  -0.124412   CURRENTLY_RATED_HELPFUL          24  \n",
       "...                           ...                       ...         ...  \n",
       "1305569                  0.459112        NEEDS_MORE_RATINGS         309  \n",
       "107681                  -0.051855        NEEDS_MORE_RATINGS          24  \n",
       "815055                  -0.124032        NEEDS_MORE_RATINGS         116  \n",
       "150036                  -0.046032   CURRENTLY_RATED_HELPFUL         108  \n",
       "1648828                 -0.077977   CURRENTLY_RATED_HELPFUL         103  \n",
       "\n",
       "[77 rows x 18 columns]"
      ]
     },
     "execution_count": 6,
     "metadata": {},
     "output_type": "execute_result"
    }
   ],
   "source": [
    "df_sample_rated[df_sample_rated['finalRatingStatus'] == 'CURRENTLY_RATED_HELPFUL']\\\n",
    "[['coreNoteIntercept', 'coreNoteFactor1', 'finalRatingStatus',\n",
    "       'coreRatingStatus','decidedBy', 'expansionNoteIntercept',\n",
    "       'expansionNoteFactor1', 'expansionRatingStatus',\n",
    "       'coverageNoteIntercept', 'coverageNoteFactor1', 'coverageRatingStatus',\n",
    "       'groupNoteIntercept', 'groupNoteFactor1', 'groupRatingStatus', 'expansionPlusNoteIntercept', 'expansionPlusNoteFactor1',\n",
    "       'expansionPlusRatingStatus',\n",
    "       'numRatings']]"
   ]
  },
  {
   "cell_type": "markdown",
   "metadata": {},
   "source": [
    "check scoring drift guard again"
   ]
  },
  {
   "cell_type": "code",
   "execution_count": 23,
   "metadata": {},
   "outputs": [
    {
     "data": {
      "text/plain": [
       "noteId                                                             1827026955767517586\n",
       "coreNoteIntercept                                                             0.344612\n",
       "coreNoteFactor1                                                               0.451399\n",
       "finalRatingStatus                                              CURRENTLY_RATED_HELPFUL\n",
       "firstTag                                                       helpfulImportantContext\n",
       "secondTag                                                                 helpfulClear\n",
       "coreActiveRules                                                      InitialNMR (v1.0)\n",
       "activeFilterTags                                                                  None\n",
       "classification                                   MISINFORMED_OR_POTENTIALLY_MISLEADING\n",
       "createdAtMillis                                                        1724432145429.0\n",
       "coreRatingStatus                                                    NEEDS_MORE_RATINGS\n",
       "metaScorerActiveRules                MetaInitialNMR (v1.0),ExpansionPlusModel (v1.1...\n",
       "decidedBy                                                     ScoringDriftGuard (v1.0)\n",
       "expansionNoteIntercept                                                         0.34103\n",
       "expansionNoteFactor1                                                          0.449668\n",
       "expansionRatingStatus                                               NEEDS_MORE_RATINGS\n",
       "coverageNoteIntercept                                                         0.173421\n",
       "coverageNoteFactor1                                                          -0.510252\n",
       "coverageRatingStatus                                                NEEDS_MORE_RATINGS\n",
       "coreNoteInterceptMin                                                          0.343426\n",
       "coreNoteInterceptMax                                                          0.394548\n",
       "expansionNoteInterceptMin                                                          NaN\n",
       "expansionNoteInterceptMax                                                          NaN\n",
       "coverageNoteInterceptMin                                                           NaN\n",
       "coverageNoteInterceptMax                                                           NaN\n",
       "groupNoteIntercept                                                            0.014909\n",
       "groupNoteFactor1                                                              0.744247\n",
       "groupRatingStatus                                                   NEEDS_MORE_RATINGS\n",
       "groupNoteInterceptMax                                                              NaN\n",
       "groupNoteInterceptMin                                                              NaN\n",
       "modelingGroup                                                                     14.0\n",
       "numRatings                                                                         309\n",
       "timestampMillisOfCurrentStatus                                    1734601946172.706055\n",
       "expansionPlusNoteIntercept                                                    0.346564\n",
       "expansionPlusNoteFactor1                                                      0.459112\n",
       "expansionPlusRatingStatus                                           NEEDS_MORE_RATINGS\n",
       "topicNoteIntercept                                                                 NaN\n",
       "topicNoteFactor1                                                                   NaN\n",
       "topicRatingStatus                                                                 None\n",
       "noteTopic                                                                         None\n",
       "topicNoteConfident                                                                None\n",
       "expansionActiveRules                                                 InitialNMR (v1.0)\n",
       "expansionPlusActiveRules                                             InitialNMR (v1.0)\n",
       "groupActiveRules                                                     InitialNMR (v1.0)\n",
       "topicActiveRules                                                                  None\n",
       "coreNumFinalRoundRatings                                                         277.0\n",
       "expansionNumFinalRoundRatings                                                    290.0\n",
       "expansionPlusNumFinalRoundRatings                                                290.0\n",
       "groupNumFinalRoundRatings                                                        132.0\n",
       "topicNumFinalRoundRatings                                                          NaN\n",
       "rescoringActiveRules                                                         ALL_NOTES\n",
       "multiGroupNoteIntercept                                                            NaN\n",
       "multiGroupNoteFactor1                                                              NaN\n",
       "multiGroupRatingStatus                                                            None\n",
       "modelingMultiGroup                                                                 NaN\n",
       "multiGroupActiveRules                                                             None\n",
       "multiGroupNumFinalRoundRatings                                                     NaN\n",
       "Name: 1305569, dtype: object"
      ]
     },
     "execution_count": 23,
     "metadata": {},
     "output_type": "execute_result"
    }
   ],
   "source": [
    "df_sample_rated.loc[1305569]"
   ]
  },
  {
   "cell_type": "code",
   "execution_count": null,
   "metadata": {},
   "outputs": [
    {
     "data": {
      "text/html": [
       "<div>\n",
       "<style scoped>\n",
       "    .dataframe tbody tr th:only-of-type {\n",
       "        vertical-align: middle;\n",
       "    }\n",
       "\n",
       "    .dataframe tbody tr th {\n",
       "        vertical-align: top;\n",
       "    }\n",
       "\n",
       "    .dataframe thead th {\n",
       "        text-align: right;\n",
       "    }\n",
       "</style>\n",
       "<table border=\"1\" class=\"dataframe\">\n",
       "  <thead>\n",
       "    <tr style=\"text-align: right;\">\n",
       "      <th></th>\n",
       "      <th>coreNoteIntercept</th>\n",
       "      <th>coreNoteFactor1</th>\n",
       "      <th>finalRatingStatus</th>\n",
       "      <th>coreRatingStatus</th>\n",
       "      <th>decidedBy</th>\n",
       "      <th>expansionNoteIntercept</th>\n",
       "      <th>expansionNoteFactor1</th>\n",
       "      <th>expansionRatingStatus</th>\n",
       "      <th>coverageNoteIntercept</th>\n",
       "      <th>coverageNoteFactor1</th>\n",
       "      <th>coverageRatingStatus</th>\n",
       "      <th>groupNoteIntercept</th>\n",
       "      <th>groupNoteFactor1</th>\n",
       "      <th>groupRatingStatus</th>\n",
       "      <th>groupNoteInterceptMax</th>\n",
       "      <th>groupNoteInterceptMin</th>\n",
       "      <th>modelingGroup</th>\n",
       "      <th>numRatings</th>\n",
       "    </tr>\n",
       "  </thead>\n",
       "  <tbody>\n",
       "    <tr>\n",
       "      <th>1321331</th>\n",
       "      <td>NaN</td>\n",
       "      <td>NaN</td>\n",
       "      <td>CURRENTLY_RATED_HELPFUL</td>\n",
       "      <td>None</td>\n",
       "      <td>ExpansionModel (v1.1)</td>\n",
       "      <td>0.443757</td>\n",
       "      <td>0.202811</td>\n",
       "      <td>CURRENTLY_RATED_HELPFUL</td>\n",
       "      <td>NaN</td>\n",
       "      <td>NaN</td>\n",
       "      <td>None</td>\n",
       "      <td>NaN</td>\n",
       "      <td>NaN</td>\n",
       "      <td>None</td>\n",
       "      <td>NaN</td>\n",
       "      <td>NaN</td>\n",
       "      <td>NaN</td>\n",
       "      <td>13</td>\n",
       "    </tr>\n",
       "    <tr>\n",
       "      <th>902008</th>\n",
       "      <td>0.368484</td>\n",
       "      <td>-0.395131</td>\n",
       "      <td>CURRENTLY_RATED_HELPFUL</td>\n",
       "      <td>NEEDS_MORE_RATINGS</td>\n",
       "      <td>ScoringDriftGuard (v1.0)</td>\n",
       "      <td>0.364179</td>\n",
       "      <td>-0.390135</td>\n",
       "      <td>NEEDS_MORE_RATINGS</td>\n",
       "      <td>0.182059</td>\n",
       "      <td>0.410795</td>\n",
       "      <td>NEEDS_MORE_RATINGS</td>\n",
       "      <td>0.310934</td>\n",
       "      <td>-0.543632</td>\n",
       "      <td>NEEDS_MORE_RATINGS</td>\n",
       "      <td>NaN</td>\n",
       "      <td>NaN</td>\n",
       "      <td>6.0</td>\n",
       "      <td>50</td>\n",
       "    </tr>\n",
       "    <tr>\n",
       "      <th>513828</th>\n",
       "      <td>0.431230</td>\n",
       "      <td>0.352343</td>\n",
       "      <td>CURRENTLY_RATED_HELPFUL</td>\n",
       "      <td>CURRENTLY_RATED_HELPFUL</td>\n",
       "      <td>CoreModel (v1.1)</td>\n",
       "      <td>0.425772</td>\n",
       "      <td>0.315994</td>\n",
       "      <td>CURRENTLY_RATED_HELPFUL</td>\n",
       "      <td>0.318437</td>\n",
       "      <td>-0.125798</td>\n",
       "      <td>CURRENTLY_RATED_HELPFUL</td>\n",
       "      <td>NaN</td>\n",
       "      <td>NaN</td>\n",
       "      <td>None</td>\n",
       "      <td>NaN</td>\n",
       "      <td>NaN</td>\n",
       "      <td>NaN</td>\n",
       "      <td>626</td>\n",
       "    </tr>\n",
       "    <tr>\n",
       "      <th>832940</th>\n",
       "      <td>-0.214541</td>\n",
       "      <td>-0.210961</td>\n",
       "      <td>CURRENTLY_RATED_NOT_HELPFUL</td>\n",
       "      <td>FIRM_REJECT</td>\n",
       "      <td>ScoringDriftGuard (v1.0)</td>\n",
       "      <td>-0.204186</td>\n",
       "      <td>-0.250878</td>\n",
       "      <td>FIRM_REJECT</td>\n",
       "      <td>-0.453942</td>\n",
       "      <td>0.600861</td>\n",
       "      <td>NEEDS_MORE_RATINGS</td>\n",
       "      <td>NaN</td>\n",
       "      <td>NaN</td>\n",
       "      <td>None</td>\n",
       "      <td>NaN</td>\n",
       "      <td>NaN</td>\n",
       "      <td>NaN</td>\n",
       "      <td>6</td>\n",
       "    </tr>\n",
       "    <tr>\n",
       "      <th>816106</th>\n",
       "      <td>0.186433</td>\n",
       "      <td>0.549042</td>\n",
       "      <td>CURRENTLY_RATED_HELPFUL</td>\n",
       "      <td>FIRM_REJECT</td>\n",
       "      <td>ScoringDriftGuard (v1.0)</td>\n",
       "      <td>0.183236</td>\n",
       "      <td>0.544482</td>\n",
       "      <td>FIRM_REJECT</td>\n",
       "      <td>0.174732</td>\n",
       "      <td>-0.230830</td>\n",
       "      <td>NEEDS_MORE_RATINGS</td>\n",
       "      <td>0.001111</td>\n",
       "      <td>0.593719</td>\n",
       "      <td>NEEDS_MORE_RATINGS</td>\n",
       "      <td>NaN</td>\n",
       "      <td>NaN</td>\n",
       "      <td>14.0</td>\n",
       "      <td>10</td>\n",
       "    </tr>\n",
       "    <tr>\n",
       "      <th>...</th>\n",
       "      <td>...</td>\n",
       "      <td>...</td>\n",
       "      <td>...</td>\n",
       "      <td>...</td>\n",
       "      <td>...</td>\n",
       "      <td>...</td>\n",
       "      <td>...</td>\n",
       "      <td>...</td>\n",
       "      <td>...</td>\n",
       "      <td>...</td>\n",
       "      <td>...</td>\n",
       "      <td>...</td>\n",
       "      <td>...</td>\n",
       "      <td>...</td>\n",
       "      <td>...</td>\n",
       "      <td>...</td>\n",
       "      <td>...</td>\n",
       "      <td>...</td>\n",
       "    </tr>\n",
       "    <tr>\n",
       "      <th>1584125</th>\n",
       "      <td>NaN</td>\n",
       "      <td>NaN</td>\n",
       "      <td>NEEDS_MORE_RATINGS</td>\n",
       "      <td>NEEDS_MORE_RATINGS</td>\n",
       "      <td>CoreModel (v1.1)</td>\n",
       "      <td>0.408756</td>\n",
       "      <td>-0.082016</td>\n",
       "      <td>CURRENTLY_RATED_HELPFUL</td>\n",
       "      <td>NaN</td>\n",
       "      <td>NaN</td>\n",
       "      <td>None</td>\n",
       "      <td>NaN</td>\n",
       "      <td>NaN</td>\n",
       "      <td>None</td>\n",
       "      <td>NaN</td>\n",
       "      <td>NaN</td>\n",
       "      <td>NaN</td>\n",
       "      <td>6</td>\n",
       "    </tr>\n",
       "    <tr>\n",
       "      <th>205405</th>\n",
       "      <td>0.331449</td>\n",
       "      <td>-0.016088</td>\n",
       "      <td>NEEDS_MORE_RATINGS</td>\n",
       "      <td>FIRM_REJECT</td>\n",
       "      <td>CoreModel (v1.1)</td>\n",
       "      <td>0.307252</td>\n",
       "      <td>-0.064598</td>\n",
       "      <td>FIRM_REJECT</td>\n",
       "      <td>0.000096</td>\n",
       "      <td>0.210958</td>\n",
       "      <td>NEEDS_MORE_RATINGS</td>\n",
       "      <td>0.228290</td>\n",
       "      <td>-0.049754</td>\n",
       "      <td>CURRENTLY_RATED_HELPFUL</td>\n",
       "      <td>NaN</td>\n",
       "      <td>NaN</td>\n",
       "      <td>14.0</td>\n",
       "      <td>71</td>\n",
       "    </tr>\n",
       "    <tr>\n",
       "      <th>1095209</th>\n",
       "      <td>0.077417</td>\n",
       "      <td>-0.839710</td>\n",
       "      <td>NEEDS_MORE_RATINGS</td>\n",
       "      <td>FIRM_REJECT</td>\n",
       "      <td>CoreModel (v1.1)</td>\n",
       "      <td>0.063088</td>\n",
       "      <td>-0.840747</td>\n",
       "      <td>FIRM_REJECT</td>\n",
       "      <td>-0.243690</td>\n",
       "      <td>0.699560</td>\n",
       "      <td>NEEDS_MORE_RATINGS</td>\n",
       "      <td>0.130991</td>\n",
       "      <td>-0.817084</td>\n",
       "      <td>NEEDS_MORE_RATINGS</td>\n",
       "      <td>NaN</td>\n",
       "      <td>NaN</td>\n",
       "      <td>3.0</td>\n",
       "      <td>62</td>\n",
       "    </tr>\n",
       "    <tr>\n",
       "      <th>75097</th>\n",
       "      <td>0.067604</td>\n",
       "      <td>0.632537</td>\n",
       "      <td>NEEDS_MORE_RATINGS</td>\n",
       "      <td>FIRM_REJECT</td>\n",
       "      <td>CoreModel (v1.1)</td>\n",
       "      <td>0.048763</td>\n",
       "      <td>0.622989</td>\n",
       "      <td>FIRM_REJECT</td>\n",
       "      <td>-0.057299</td>\n",
       "      <td>-0.762147</td>\n",
       "      <td>NEEDS_MORE_RATINGS</td>\n",
       "      <td>NaN</td>\n",
       "      <td>NaN</td>\n",
       "      <td>None</td>\n",
       "      <td>NaN</td>\n",
       "      <td>NaN</td>\n",
       "      <td>NaN</td>\n",
       "      <td>11</td>\n",
       "    </tr>\n",
       "    <tr>\n",
       "      <th>118670</th>\n",
       "      <td>0.038691</td>\n",
       "      <td>-0.128895</td>\n",
       "      <td>NEEDS_MORE_RATINGS</td>\n",
       "      <td>FIRM_REJECT</td>\n",
       "      <td>CoreModel (v1.1)</td>\n",
       "      <td>0.038617</td>\n",
       "      <td>-0.122712</td>\n",
       "      <td>FIRM_REJECT</td>\n",
       "      <td>-0.088847</td>\n",
       "      <td>0.332348</td>\n",
       "      <td>NEEDS_MORE_RATINGS</td>\n",
       "      <td>-0.026452</td>\n",
       "      <td>-0.228790</td>\n",
       "      <td>NEEDS_MORE_RATINGS</td>\n",
       "      <td>NaN</td>\n",
       "      <td>NaN</td>\n",
       "      <td>9.0</td>\n",
       "      <td>6</td>\n",
       "    </tr>\n",
       "  </tbody>\n",
       "</table>\n",
       "<p>200 rows × 18 columns</p>\n",
       "</div>"
      ],
      "text/plain": [
       "         coreNoteIntercept  coreNoteFactor1            finalRatingStatus  \\\n",
       "1321331                NaN              NaN      CURRENTLY_RATED_HELPFUL   \n",
       "902008            0.368484        -0.395131      CURRENTLY_RATED_HELPFUL   \n",
       "513828            0.431230         0.352343      CURRENTLY_RATED_HELPFUL   \n",
       "832940           -0.214541        -0.210961  CURRENTLY_RATED_NOT_HELPFUL   \n",
       "816106            0.186433         0.549042      CURRENTLY_RATED_HELPFUL   \n",
       "...                    ...              ...                          ...   \n",
       "1584125                NaN              NaN           NEEDS_MORE_RATINGS   \n",
       "205405            0.331449        -0.016088           NEEDS_MORE_RATINGS   \n",
       "1095209           0.077417        -0.839710           NEEDS_MORE_RATINGS   \n",
       "75097             0.067604         0.632537           NEEDS_MORE_RATINGS   \n",
       "118670            0.038691        -0.128895           NEEDS_MORE_RATINGS   \n",
       "\n",
       "                coreRatingStatus                 decidedBy  \\\n",
       "1321331                     None     ExpansionModel (v1.1)   \n",
       "902008        NEEDS_MORE_RATINGS  ScoringDriftGuard (v1.0)   \n",
       "513828   CURRENTLY_RATED_HELPFUL          CoreModel (v1.1)   \n",
       "832940               FIRM_REJECT  ScoringDriftGuard (v1.0)   \n",
       "816106               FIRM_REJECT  ScoringDriftGuard (v1.0)   \n",
       "...                          ...                       ...   \n",
       "1584125       NEEDS_MORE_RATINGS          CoreModel (v1.1)   \n",
       "205405               FIRM_REJECT          CoreModel (v1.1)   \n",
       "1095209              FIRM_REJECT          CoreModel (v1.1)   \n",
       "75097                FIRM_REJECT          CoreModel (v1.1)   \n",
       "118670               FIRM_REJECT          CoreModel (v1.1)   \n",
       "\n",
       "         expansionNoteIntercept  expansionNoteFactor1  \\\n",
       "1321331                0.443757              0.202811   \n",
       "902008                 0.364179             -0.390135   \n",
       "513828                 0.425772              0.315994   \n",
       "832940                -0.204186             -0.250878   \n",
       "816106                 0.183236              0.544482   \n",
       "...                         ...                   ...   \n",
       "1584125                0.408756             -0.082016   \n",
       "205405                 0.307252             -0.064598   \n",
       "1095209                0.063088             -0.840747   \n",
       "75097                  0.048763              0.622989   \n",
       "118670                 0.038617             -0.122712   \n",
       "\n",
       "           expansionRatingStatus  coverageNoteIntercept  coverageNoteFactor1  \\\n",
       "1321331  CURRENTLY_RATED_HELPFUL                    NaN                  NaN   \n",
       "902008        NEEDS_MORE_RATINGS               0.182059             0.410795   \n",
       "513828   CURRENTLY_RATED_HELPFUL               0.318437            -0.125798   \n",
       "832940               FIRM_REJECT              -0.453942             0.600861   \n",
       "816106               FIRM_REJECT               0.174732            -0.230830   \n",
       "...                          ...                    ...                  ...   \n",
       "1584125  CURRENTLY_RATED_HELPFUL                    NaN                  NaN   \n",
       "205405               FIRM_REJECT               0.000096             0.210958   \n",
       "1095209              FIRM_REJECT              -0.243690             0.699560   \n",
       "75097                FIRM_REJECT              -0.057299            -0.762147   \n",
       "118670               FIRM_REJECT              -0.088847             0.332348   \n",
       "\n",
       "            coverageRatingStatus  groupNoteIntercept  groupNoteFactor1  \\\n",
       "1321331                     None                 NaN               NaN   \n",
       "902008        NEEDS_MORE_RATINGS            0.310934         -0.543632   \n",
       "513828   CURRENTLY_RATED_HELPFUL                 NaN               NaN   \n",
       "832940        NEEDS_MORE_RATINGS                 NaN               NaN   \n",
       "816106        NEEDS_MORE_RATINGS            0.001111          0.593719   \n",
       "...                          ...                 ...               ...   \n",
       "1584125                     None                 NaN               NaN   \n",
       "205405        NEEDS_MORE_RATINGS            0.228290         -0.049754   \n",
       "1095209       NEEDS_MORE_RATINGS            0.130991         -0.817084   \n",
       "75097         NEEDS_MORE_RATINGS                 NaN               NaN   \n",
       "118670        NEEDS_MORE_RATINGS           -0.026452         -0.228790   \n",
       "\n",
       "               groupRatingStatus  groupNoteInterceptMax  \\\n",
       "1321331                     None                    NaN   \n",
       "902008        NEEDS_MORE_RATINGS                    NaN   \n",
       "513828                      None                    NaN   \n",
       "832940                      None                    NaN   \n",
       "816106        NEEDS_MORE_RATINGS                    NaN   \n",
       "...                          ...                    ...   \n",
       "1584125                     None                    NaN   \n",
       "205405   CURRENTLY_RATED_HELPFUL                    NaN   \n",
       "1095209       NEEDS_MORE_RATINGS                    NaN   \n",
       "75097                       None                    NaN   \n",
       "118670        NEEDS_MORE_RATINGS                    NaN   \n",
       "\n",
       "         groupNoteInterceptMin  modelingGroup  numRatings  \n",
       "1321331                    NaN            NaN          13  \n",
       "902008                     NaN            6.0          50  \n",
       "513828                     NaN            NaN         626  \n",
       "832940                     NaN            NaN           6  \n",
       "816106                     NaN           14.0          10  \n",
       "...                        ...            ...         ...  \n",
       "1584125                    NaN            NaN           6  \n",
       "205405                     NaN           14.0          71  \n",
       "1095209                    NaN            3.0          62  \n",
       "75097                      NaN            NaN          11  \n",
       "118670                     NaN            9.0           6  \n",
       "\n",
       "[200 rows x 18 columns]"
      ]
     },
     "execution_count": 19,
     "metadata": {},
     "output_type": "execute_result"
    }
   ],
   "source": [
    "# drop unwanted columns\n",
    "df_sample = df_sample[['coreNoteIntercept', 'coreNoteFactor1', 'finalRatingStatus',\n",
    "       'coreRatingStatus','decidedBy', 'expansionNoteIntercept',\n",
    "       'expansionNoteFactor1', 'expansionRatingStatus',\n",
    "       'coverageNoteIntercept', 'coverageNoteFactor1', 'coverageRatingStatus',\n",
    "       'groupNoteIntercept', 'groupNoteFactor1', 'groupRatingStatus',\n",
    "       'modelingGroup',\n",
    "       'numRatings']]\n",
    "df_sample"
   ]
  },
  {
   "cell_type": "code",
   "execution_count": 14,
   "metadata": {},
   "outputs": [
    {
     "data": {
      "text/html": [
       "<div>\n",
       "<style scoped>\n",
       "    .dataframe tbody tr th:only-of-type {\n",
       "        vertical-align: middle;\n",
       "    }\n",
       "\n",
       "    .dataframe tbody tr th {\n",
       "        vertical-align: top;\n",
       "    }\n",
       "\n",
       "    .dataframe thead th {\n",
       "        text-align: right;\n",
       "    }\n",
       "</style>\n",
       "<table border=\"1\" class=\"dataframe\">\n",
       "  <thead>\n",
       "    <tr style=\"text-align: right;\">\n",
       "      <th></th>\n",
       "      <th>noteId</th>\n",
       "      <th>coreNoteIntercept</th>\n",
       "      <th>coreNoteFactor1</th>\n",
       "      <th>finalRatingStatus</th>\n",
       "      <th>firstTag</th>\n",
       "      <th>secondTag</th>\n",
       "      <th>coreActiveRules</th>\n",
       "      <th>activeFilterTags</th>\n",
       "      <th>classification</th>\n",
       "      <th>createdAtMillis</th>\n",
       "      <th>...</th>\n",
       "      <th>expansionPlusNumFinalRoundRatings</th>\n",
       "      <th>groupNumFinalRoundRatings</th>\n",
       "      <th>topicNumFinalRoundRatings</th>\n",
       "      <th>rescoringActiveRules</th>\n",
       "      <th>multiGroupNoteIntercept</th>\n",
       "      <th>multiGroupNoteFactor1</th>\n",
       "      <th>multiGroupRatingStatus</th>\n",
       "      <th>modelingMultiGroup</th>\n",
       "      <th>multiGroupActiveRules</th>\n",
       "      <th>multiGroupNumFinalRoundRatings</th>\n",
       "    </tr>\n",
       "  </thead>\n",
       "  <tbody>\n",
       "    <tr>\n",
       "      <th>1356917</th>\n",
       "      <td>1833102736348369354</td>\n",
       "      <td>NaN</td>\n",
       "      <td>NaN</td>\n",
       "      <td>CURRENTLY_RATED_HELPFUL</td>\n",
       "      <td>helpfulGoodSources</td>\n",
       "      <td>helpfulClear</td>\n",
       "      <td>None</td>\n",
       "      <td>None</td>\n",
       "      <td>MISINFORMED_OR_POTENTIALLY_MISLEADING</td>\n",
       "      <td>1.725881e+12</td>\n",
       "      <td>...</td>\n",
       "      <td>13.0</td>\n",
       "      <td>12.0</td>\n",
       "      <td>NaN</td>\n",
       "      <td>ALL_NOTES</td>\n",
       "      <td>0.226598</td>\n",
       "      <td>0.528370</td>\n",
       "      <td>NEEDS_MORE_RATINGS</td>\n",
       "      <td>1.0</td>\n",
       "      <td>InitialNMR (v1.0)</td>\n",
       "      <td>12.0</td>\n",
       "    </tr>\n",
       "    <tr>\n",
       "      <th>300066</th>\n",
       "      <td>1712583143788560460</td>\n",
       "      <td>NaN</td>\n",
       "      <td>NaN</td>\n",
       "      <td>CURRENTLY_RATED_HELPFUL</td>\n",
       "      <td>helpfulGoodSources</td>\n",
       "      <td>helpfulClear</td>\n",
       "      <td>None</td>\n",
       "      <td>None</td>\n",
       "      <td>MISINFORMED_OR_POTENTIALLY_MISLEADING</td>\n",
       "      <td>1.697147e+12</td>\n",
       "      <td>...</td>\n",
       "      <td>30.0</td>\n",
       "      <td>24.0</td>\n",
       "      <td>NaN</td>\n",
       "      <td>ALL_NOTES</td>\n",
       "      <td>0.470051</td>\n",
       "      <td>-0.176647</td>\n",
       "      <td>CURRENTLY_RATED_HELPFUL</td>\n",
       "      <td>1.0</td>\n",
       "      <td>InitialNMR (v1.0),GeneralCRH (v1.0)</td>\n",
       "      <td>25.0</td>\n",
       "    </tr>\n",
       "    <tr>\n",
       "      <th>459742</th>\n",
       "      <td>1735777237159317950</td>\n",
       "      <td>NaN</td>\n",
       "      <td>NaN</td>\n",
       "      <td>NEEDS_MORE_RATINGS</td>\n",
       "      <td>None</td>\n",
       "      <td>None</td>\n",
       "      <td>None</td>\n",
       "      <td>None</td>\n",
       "      <td>MISINFORMED_OR_POTENTIALLY_MISLEADING</td>\n",
       "      <td>1.702677e+12</td>\n",
       "      <td>...</td>\n",
       "      <td>25.0</td>\n",
       "      <td>23.0</td>\n",
       "      <td>NaN</td>\n",
       "      <td>ALL_NOTES</td>\n",
       "      <td>0.219462</td>\n",
       "      <td>0.606440</td>\n",
       "      <td>NEEDS_MORE_RATINGS</td>\n",
       "      <td>1.0</td>\n",
       "      <td>InitialNMR (v1.0)</td>\n",
       "      <td>24.0</td>\n",
       "    </tr>\n",
       "    <tr>\n",
       "      <th>1352513</th>\n",
       "      <td>1832517150784848110</td>\n",
       "      <td>NaN</td>\n",
       "      <td>NaN</td>\n",
       "      <td>NEEDS_MORE_RATINGS</td>\n",
       "      <td>None</td>\n",
       "      <td>None</td>\n",
       "      <td>None</td>\n",
       "      <td>None</td>\n",
       "      <td>MISINFORMED_OR_POTENTIALLY_MISLEADING</td>\n",
       "      <td>1.725741e+12</td>\n",
       "      <td>...</td>\n",
       "      <td>6.0</td>\n",
       "      <td>6.0</td>\n",
       "      <td>NaN</td>\n",
       "      <td>ALL_NOTES</td>\n",
       "      <td>0.139823</td>\n",
       "      <td>-0.441599</td>\n",
       "      <td>NEEDS_MORE_RATINGS</td>\n",
       "      <td>1.0</td>\n",
       "      <td>InitialNMR (v1.0),FilterLowDiligence (v1.0)</td>\n",
       "      <td>6.0</td>\n",
       "    </tr>\n",
       "    <tr>\n",
       "      <th>501882</th>\n",
       "      <td>1741153647436657087</td>\n",
       "      <td>NaN</td>\n",
       "      <td>NaN</td>\n",
       "      <td>NEEDS_MORE_RATINGS</td>\n",
       "      <td>None</td>\n",
       "      <td>None</td>\n",
       "      <td>None</td>\n",
       "      <td>None</td>\n",
       "      <td>MISINFORMED_OR_POTENTIALLY_MISLEADING</td>\n",
       "      <td>1.703958e+12</td>\n",
       "      <td>...</td>\n",
       "      <td>14.0</td>\n",
       "      <td>NaN</td>\n",
       "      <td>NaN</td>\n",
       "      <td>ALL_NOTES</td>\n",
       "      <td>0.151716</td>\n",
       "      <td>-0.724121</td>\n",
       "      <td>NEEDS_MORE_RATINGS</td>\n",
       "      <td>1.0</td>\n",
       "      <td>InitialNMR (v1.0)</td>\n",
       "      <td>12.0</td>\n",
       "    </tr>\n",
       "    <tr>\n",
       "      <th>1537239</th>\n",
       "      <td>1853067239852826841</td>\n",
       "      <td>NaN</td>\n",
       "      <td>NaN</td>\n",
       "      <td>NEEDS_MORE_RATINGS</td>\n",
       "      <td>None</td>\n",
       "      <td>None</td>\n",
       "      <td>None</td>\n",
       "      <td>None</td>\n",
       "      <td>MISINFORMED_OR_POTENTIALLY_MISLEADING</td>\n",
       "      <td>1.730641e+12</td>\n",
       "      <td>...</td>\n",
       "      <td>25.0</td>\n",
       "      <td>NaN</td>\n",
       "      <td>15.0</td>\n",
       "      <td>ALL_NOTES</td>\n",
       "      <td>-0.057151</td>\n",
       "      <td>-0.461219</td>\n",
       "      <td>NEEDS_MORE_RATINGS</td>\n",
       "      <td>1.0</td>\n",
       "      <td>InitialNMR (v1.0),FilterLowDiligence (v1.0)</td>\n",
       "      <td>22.0</td>\n",
       "    </tr>\n",
       "    <tr>\n",
       "      <th>400265</th>\n",
       "      <td>1728115119823937646</td>\n",
       "      <td>NaN</td>\n",
       "      <td>NaN</td>\n",
       "      <td>NEEDS_MORE_RATINGS</td>\n",
       "      <td>None</td>\n",
       "      <td>None</td>\n",
       "      <td>None</td>\n",
       "      <td>None</td>\n",
       "      <td>None</td>\n",
       "      <td>1.700850e+12</td>\n",
       "      <td>...</td>\n",
       "      <td>24.0</td>\n",
       "      <td>NaN</td>\n",
       "      <td>NaN</td>\n",
       "      <td>ALL_NOTES</td>\n",
       "      <td>0.229809</td>\n",
       "      <td>0.499899</td>\n",
       "      <td>NEEDS_MORE_RATINGS</td>\n",
       "      <td>1.0</td>\n",
       "      <td>InitialNMR (v1.0)</td>\n",
       "      <td>21.0</td>\n",
       "    </tr>\n",
       "  </tbody>\n",
       "</table>\n",
       "<p>7 rows × 57 columns</p>\n",
       "</div>"
      ],
      "text/plain": [
       "                      noteId  coreNoteIntercept  coreNoteFactor1  \\\n",
       "1356917  1833102736348369354                NaN              NaN   \n",
       "300066   1712583143788560460                NaN              NaN   \n",
       "459742   1735777237159317950                NaN              NaN   \n",
       "1352513  1832517150784848110                NaN              NaN   \n",
       "501882   1741153647436657087                NaN              NaN   \n",
       "1537239  1853067239852826841                NaN              NaN   \n",
       "400265   1728115119823937646                NaN              NaN   \n",
       "\n",
       "               finalRatingStatus            firstTag     secondTag  \\\n",
       "1356917  CURRENTLY_RATED_HELPFUL  helpfulGoodSources  helpfulClear   \n",
       "300066   CURRENTLY_RATED_HELPFUL  helpfulGoodSources  helpfulClear   \n",
       "459742        NEEDS_MORE_RATINGS                None          None   \n",
       "1352513       NEEDS_MORE_RATINGS                None          None   \n",
       "501882        NEEDS_MORE_RATINGS                None          None   \n",
       "1537239       NEEDS_MORE_RATINGS                None          None   \n",
       "400265        NEEDS_MORE_RATINGS                None          None   \n",
       "\n",
       "        coreActiveRules activeFilterTags  \\\n",
       "1356917            None             None   \n",
       "300066             None             None   \n",
       "459742             None             None   \n",
       "1352513            None             None   \n",
       "501882             None             None   \n",
       "1537239            None             None   \n",
       "400265             None             None   \n",
       "\n",
       "                                classification  createdAtMillis  ...  \\\n",
       "1356917  MISINFORMED_OR_POTENTIALLY_MISLEADING     1.725881e+12  ...   \n",
       "300066   MISINFORMED_OR_POTENTIALLY_MISLEADING     1.697147e+12  ...   \n",
       "459742   MISINFORMED_OR_POTENTIALLY_MISLEADING     1.702677e+12  ...   \n",
       "1352513  MISINFORMED_OR_POTENTIALLY_MISLEADING     1.725741e+12  ...   \n",
       "501882   MISINFORMED_OR_POTENTIALLY_MISLEADING     1.703958e+12  ...   \n",
       "1537239  MISINFORMED_OR_POTENTIALLY_MISLEADING     1.730641e+12  ...   \n",
       "400265                                    None     1.700850e+12  ...   \n",
       "\n",
       "        expansionPlusNumFinalRoundRatings groupNumFinalRoundRatings  \\\n",
       "1356917                              13.0                      12.0   \n",
       "300066                               30.0                      24.0   \n",
       "459742                               25.0                      23.0   \n",
       "1352513                               6.0                       6.0   \n",
       "501882                               14.0                       NaN   \n",
       "1537239                              25.0                       NaN   \n",
       "400265                               24.0                       NaN   \n",
       "\n",
       "        topicNumFinalRoundRatings  rescoringActiveRules  \\\n",
       "1356917                       NaN             ALL_NOTES   \n",
       "300066                        NaN             ALL_NOTES   \n",
       "459742                        NaN             ALL_NOTES   \n",
       "1352513                       NaN             ALL_NOTES   \n",
       "501882                        NaN             ALL_NOTES   \n",
       "1537239                      15.0             ALL_NOTES   \n",
       "400265                        NaN             ALL_NOTES   \n",
       "\n",
       "         multiGroupNoteIntercept multiGroupNoteFactor1  \\\n",
       "1356917                 0.226598              0.528370   \n",
       "300066                  0.470051             -0.176647   \n",
       "459742                  0.219462              0.606440   \n",
       "1352513                 0.139823             -0.441599   \n",
       "501882                  0.151716             -0.724121   \n",
       "1537239                -0.057151             -0.461219   \n",
       "400265                  0.229809              0.499899   \n",
       "\n",
       "          multiGroupRatingStatus  modelingMultiGroup  \\\n",
       "1356917       NEEDS_MORE_RATINGS                 1.0   \n",
       "300066   CURRENTLY_RATED_HELPFUL                 1.0   \n",
       "459742        NEEDS_MORE_RATINGS                 1.0   \n",
       "1352513       NEEDS_MORE_RATINGS                 1.0   \n",
       "501882        NEEDS_MORE_RATINGS                 1.0   \n",
       "1537239       NEEDS_MORE_RATINGS                 1.0   \n",
       "400265        NEEDS_MORE_RATINGS                 1.0   \n",
       "\n",
       "                               multiGroupActiveRules  \\\n",
       "1356917                            InitialNMR (v1.0)   \n",
       "300066           InitialNMR (v1.0),GeneralCRH (v1.0)   \n",
       "459742                             InitialNMR (v1.0)   \n",
       "1352513  InitialNMR (v1.0),FilterLowDiligence (v1.0)   \n",
       "501882                             InitialNMR (v1.0)   \n",
       "1537239  InitialNMR (v1.0),FilterLowDiligence (v1.0)   \n",
       "400265                             InitialNMR (v1.0)   \n",
       "\n",
       "         multiGroupNumFinalRoundRatings  \n",
       "1356917                            12.0  \n",
       "300066                             25.0  \n",
       "459742                             24.0  \n",
       "1352513                             6.0  \n",
       "501882                             12.0  \n",
       "1537239                            22.0  \n",
       "400265                             21.0  \n",
       "\n",
       "[7 rows x 57 columns]"
      ]
     },
     "execution_count": 14,
     "metadata": {},
     "output_type": "execute_result"
    }
   ],
   "source": [
    "df_sample[df_sample['multiGroupNumFinalRoundRatings'].notnull()]"
   ]
  },
  {
   "cell_type": "markdown",
   "metadata": {},
   "source": [
    "### Top X% of authors wrote Y% of notes in 2024\n",
    "\n",
    "I just limited the data to 2024. So if someone had written loads of notes in other years, but only 1 in 2024, just 1 was counted."
   ]
  },
  {
   "cell_type": "code",
   "execution_count": 85,
   "metadata": {},
   "outputs": [
    {
     "data": {
      "text/plain": [
       "Index(['noteId', 'noteAuthorParticipantId', 'createdAtMillis', 'tweetId',\n",
       "       'classification', 'believable', 'harmful', 'validationDifficulty',\n",
       "       'misleadingOther', 'misleadingFactualError',\n",
       "       'misleadingManipulatedMedia', 'misleadingOutdatedInformation',\n",
       "       'misleadingMissingImportantContext', 'misleadingUnverifiedClaimAsFact',\n",
       "       'misleadingSatire', 'notMisleadingOther',\n",
       "       'notMisleadingFactuallyCorrect',\n",
       "       'notMisleadingOutdatedButNotWhenWritten', 'notMisleadingClearlySatire',\n",
       "       'notMisleadingPersonalOpinion', 'trustworthySources', 'summary',\n",
       "       'isMediaNote', 'createdAt', 'createdAtYear', 'createdAtMonth'],\n",
       "      dtype='object')"
      ]
     },
     "execution_count": 85,
     "metadata": {},
     "output_type": "execute_result"
    }
   ],
   "source": [
    "notes.columns"
   ]
  },
  {
   "cell_type": "code",
   "execution_count": 4,
   "metadata": {},
   "outputs": [],
   "source": [
    "notes_24 = notes[(notes.createdAt >= pd.Timestamp(2024, 1, 1)) &\n",
    "                 (notes.createdAt < pd.Timestamp(2025, 1, 1))]\n",
    "df = notes_24.groupby('noteAuthorParticipantId')['noteId']\\\n",
    "    .count().sort_values(ascending=False).reset_index()\n",
    "df.rename(columns={'noteId': 'note_count'}, inplace=True)"
   ]
  },
  {
   "cell_type": "markdown",
   "metadata": {},
   "source": [
    "You can fill X to find Y"
   ]
  },
  {
   "cell_type": "code",
   "execution_count": 125,
   "metadata": {},
   "outputs": [
    {
     "name": "stdout",
     "output_type": "stream",
     "text": [
      "Top 1% authors wrote 27% of notes\n"
     ]
    }
   ],
   "source": [
    "# what percentage of authors you want to look at\n",
    "X = 1\n",
    "print(f\"Top {X}% authors wrote\\\n",
    " {df.loc[:round(len(df)*X/100)]['note_count'].sum() / len(notes_24) *100:.0f}% of notes\")\n"
   ]
  },
  {
   "cell_type": "code",
   "execution_count": 7,
   "metadata": {},
   "outputs": [
    {
     "data": {
      "text/plain": [
       "Text(0, 0.5, 'Proportion of Total Notes')"
      ]
     },
     "execution_count": 7,
     "metadata": {},
     "output_type": "execute_result"
    },
    {
     "data": {
      "image/png": "[encoded data removed]",
      "text/plain": [
       "<Figure size 640x480 with 1 Axes>"
      ]
     },
     "metadata": {},
     "output_type": "display_data"
    }
   ],
   "source": [
    "# make a plot of cumulative percentages\n",
    "contributions = dict()\n",
    "for author_percent in range(1,101):\n",
    "    contributions[author_percent] = df.loc[:round(len(df)*author_percent/100)]['note_count'].sum()\\\n",
    "          / len(notes_24)\n",
    "\n",
    "ax = sns.lineplot(x=range(1,101), y=contributions.values())\n",
    "ax.set_title('Cumulative Contribution of most Active Authors in 2024')\n",
    "ax.spines[['right', 'top']].set_visible(False)\n",
    "ax.set_xlabel('Percentage of Authors')\n",
    "ax.set_ylabel('Proportion of Total Notes')"
   ]
  },
  {
   "cell_type": "markdown",
   "metadata": {},
   "source": [
    "### Q. What percentage of authors who have at least one note in the first half of 2024, have written a note on the second half? How were they in terms of helpfullness?"
   ]
  },
  {
   "cell_type": "code",
   "execution_count": 3,
   "metadata": {},
   "outputs": [],
   "source": [
    "rated = pd.read_parquet('rated_notes_compact.parquet', engine='auto')\n",
    "rated_2024 = rated[(rated.createdAt >= pd.Timestamp(2024, 1, 1)) &\n",
    "                    (rated.createdAt < pd.Timestamp(2025, 1, 1))]"
   ]
  },
  {
   "cell_type": "code",
   "execution_count": 4,
   "metadata": {},
   "outputs": [
    {
     "data": {
      "text/plain": [
       "Index(['noteId', 'finalRatingStatus', 'createdAtMillis', 'createdAt',\n",
       "       'createdAtYear', 'createdAtMonth', 'numRatings',\n",
       "       'noteAuthorParticipantId', 'tweetId', 'firstNonNMRStatus',\n",
       "       'currentStatus', 'mostRecentNonNMRStatus', 'lockedStatus',\n",
       "       'coreNoteIntercept', 'coreNoteFactor1', 'coreRatingStatus', 'decidedBy',\n",
       "       'expansionNoteIntercept', 'expansionNoteFactor1',\n",
       "       'expansionRatingStatus', 'coverageNoteIntercept', 'coverageNoteFactor1',\n",
       "       'coverageRatingStatus', 'coreNoteInterceptMin', 'coreNoteInterceptMax',\n",
       "       'expansionNoteInterceptMin', 'expansionNoteInterceptMax',\n",
       "       'coverageNoteInterceptMin', 'coverageNoteInterceptMax',\n",
       "       'groupNoteIntercept', 'groupNoteFactor1', 'groupRatingStatus',\n",
       "       'groupNoteInterceptMax', 'groupNoteInterceptMin', 'modelingGroup',\n",
       "       'summary', 'isMediaNote'],\n",
       "      dtype='object')"
      ]
     },
     "execution_count": 4,
     "metadata": {},
     "output_type": "execute_result"
    }
   ],
   "source": [
    "rated.columns"
   ]
  },
  {
   "cell_type": "code",
   "execution_count": 38,
   "metadata": {},
   "outputs": [],
   "source": [
    "first_half = rated_2024[rated_2024.createdAt <= pd.Timestamp(2024, 6, 30)]\n",
    "second_half = rated_2024[rated_2024.createdAt > pd.Timestamp(2024, 6, 30)]\n",
    "first_half_authors = first_half.groupby(['noteAuthorParticipantId', 'finalRatingStatus'])['noteId']\\\n",
    "    .count().reset_index()\n",
    "second_half_authors = second_half.groupby(['noteAuthorParticipantId'])['noteId']\\\n",
    "    .count().reset_index()"
   ]
  },
  {
   "cell_type": "code",
   "execution_count": 34,
   "metadata": {},
   "outputs": [],
   "source": [
    "first_half_authors_1_helpful = first_half_authors\\\n",
    "    [first_half_authors['finalRatingStatus'] == 'CURRENTLY_RATED_HELPFUL']\\\n",
    "    ['noteAuthorParticipantId'].unique()\n",
    "\n",
    "first_half_authors_no_helpful = [author for author in first_half_authors['noteAuthorParticipantId'].unique()\\\n",
    "                                 if author not in first_half_authors_1_helpful]"
   ]
  },
  {
   "cell_type": "code",
   "execution_count": 52,
   "metadata": {},
   "outputs": [],
   "source": [
    "first_half_authors_1_helpful_wrote_again = list(set(first_half_authors_1_helpful) & \n",
    "                                                set(second_half_authors['noteAuthorParticipantId']))\n",
    "first_half_authors_not_helpful_wrote_again = list(set(first_half_authors_no_helpful) & \n",
    "                                                set(second_half_authors['noteAuthorParticipantId']))"
   ]
  },
  {
   "cell_type": "code",
   "execution_count": 63,
   "metadata": {},
   "outputs": [
    {
     "data": {
      "text/plain": [
       "'68% of authors who have written at list 1 helfpul note in the first half of 2024, wrote again in the second half of 2024. Whereas 49% of authors who had no helfpul note, wrote in the 2nd half of 2024.'"
      ]
     },
     "execution_count": 63,
     "metadata": {},
     "output_type": "execute_result"
    }
   ],
   "source": [
    "f'{len(first_half_authors_1_helpful_wrote_again) / len(first_half_authors_1_helpful)*100:.0f}%\\\n",
    " of authors who have written at list 1 helfpul note in the first half of 2024, wrote again in the\\\n",
    " second half of 2024. Whereas \\\n",
    "{len(first_half_authors_not_helpful_wrote_again) / len(first_half_authors_no_helpful)*100:.0f}% \\\n",
    "of authors who had no helfpul note, wrote in the 2nd half of 2024.'"
   ]
  },
  {
   "cell_type": "code",
   "execution_count": 11,
   "metadata": {},
   "outputs": [
    {
     "data": {
      "text/plain": [
       "decidedBy                        finalRatingStatus          \n",
       "CoreModel (v1.1)                 NEEDS_MORE_RATINGS             741100\n",
       "ExpansionPlusModel (v1.1)        NEEDS_MORE_RATINGS             101560\n",
       "ExpansionModel (v1.1)            NEEDS_MORE_RATINGS              78089\n",
       "CoreModel (v1.1)                 CURRENTLY_RATED_HELPFUL         59725\n",
       "MultiGroupModel01 (v1.0)         NEEDS_MORE_RATINGS              30434\n",
       "CoreModel (v1.1)                 CURRENTLY_RATED_NOT_HELPFUL     24303\n",
       "ScoringDriftGuard (v1.0)         CURRENTLY_RATED_HELPFUL         17740\n",
       "                                 CURRENTLY_RATED_NOT_HELPFUL      8507\n",
       "ExpansionModel (v1.1)            CURRENTLY_RATED_HELPFUL          8407\n",
       "ScoringDriftGuard (v1.0)         NEEDS_MORE_RATINGS               6957\n",
       "NmrDueToMinStableCrhTime (v1.0)  NEEDS_MORE_RATINGS               6821\n",
       "MultiGroupModel01 (v1.0)         CURRENTLY_RATED_HELPFUL          1943\n",
       "ExpansionModel (v1.1)            CURRENTLY_RATED_NOT_HELPFUL      1574\n",
       "GroupModel03 (v1.1)              CURRENTLY_RATED_HELPFUL          1148\n",
       "MultiGroupModel01 (v1.0)         CURRENTLY_RATED_NOT_HELPFUL       890\n",
       "TopicModel01 (v1.0)              NEEDS_MORE_RATINGS                719\n",
       "GroupModel01 (v1.1)              CURRENTLY_RATED_HELPFUL           562\n",
       "TopicModel02 (v1.0)              NEEDS_MORE_RATINGS                562\n",
       "ExpansionPlusModel (v1.1)        CURRENTLY_RATED_HELPFUL           552\n",
       "GroupModel09 (v1.1)              CURRENTLY_RATED_HELPFUL           540\n",
       "GroupModel06 (v1.1)              CURRENTLY_RATED_HELPFUL           502\n",
       "GroupModel13 (v1.1)              CURRENTLY_RATED_HELPFUL           352\n",
       "GroupModel02 (v1.1)              CURRENTLY_RATED_HELPFUL           172\n",
       "GroupModel14 (v1.1)              CURRENTLY_RATED_HELPFUL           133\n",
       "InsufficientExplanation (v1.0)   NEEDS_MORE_RATINGS                102\n",
       "GroupModel11 (v1.1)              CURRENTLY_RATED_HELPFUL            92\n",
       "GroupModel10 (v1.1)              CURRENTLY_RATED_HELPFUL            57\n",
       "ExpansionPlusModel (v1.1)        CURRENTLY_RATED_NOT_HELPFUL        51\n",
       "TopicModel03 (v1.0)              NEEDS_MORE_RATINGS                 40\n",
       "GroupModel04 (v1.1)              CURRENTLY_RATED_HELPFUL            17\n",
       "GroupModel07 (v1.1)              CURRENTLY_RATED_HELPFUL            13\n",
       "GroupModel05 (v1.1)              CURRENTLY_RATED_HELPFUL             8\n",
       "GroupModel12 (v1.1)              CURRENTLY_RATED_HELPFUL             5\n",
       "GroupModel08 (v1.1)              CURRENTLY_RATED_HELPFUL             3\n",
       "Name: count, dtype: int64"
      ]
     },
     "execution_count": 11,
     "metadata": {},
     "output_type": "execute_result"
    }
   ],
   "source": [
    "rated_2024[['decidedBy', 'finalRatingStatus']].value_counts()"
   ]
  },
  {
   "cell_type": "markdown",
   "metadata": {},
   "source": []
  },
  {
   "cell_type": "code",
   "execution_count": 12,
   "metadata": {},
   "outputs": [
    {
     "data": {
      "text/plain": [
       "1093680"
      ]
     },
     "execution_count": 12,
     "metadata": {},
     "output_type": "execute_result"
    }
   ],
   "source": [
    "len(rated_2024)"
   ]
  },
  {
   "cell_type": "code",
   "execution_count": null,
   "metadata": {},
   "outputs": [],
   "source": []
  }
 ],
 "metadata": {
  "kernelspec": {
   "display_name": ".env",
   "language": "python",
   "name": "python3"
  },
  "language_info": {
   "codemirror_mode": {
    "name": "ipython",
    "version": 3
   },
   "file_extension": ".py",
   "mimetype": "text/x-python",
   "name": "python",
   "nbconvert_exporter": "python",
   "pygments_lexer": "ipython3",
   "version": "3.10.12"
  }
 },
 "nbformat": 4,
 "nbformat_minor": 2
}
