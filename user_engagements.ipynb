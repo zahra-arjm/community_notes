{
 "cells": [
  {
   "cell_type": "code",
   "execution_count": 15,
   "metadata": {},
   "outputs": [],
   "source": [
    "import pandas as pd\n",
    "import numpy as np\n",
    "import matplotlib.pyplot as plt\n",
    "import seaborn as sns\n",
    "from datetime import datetime\n",
    "import pickle\n",
    "import calendar"
   ]
  },
  {
   "cell_type": "code",
   "execution_count": 2,
   "metadata": {},
   "outputs": [],
   "source": [
    "# import note\n",
    "notes = pd.read_parquet('notes.parquet', engine='auto')"
   ]
  },
  {
   "cell_type": "code",
   "execution_count": 3,
   "metadata": {},
   "outputs": [
    {
     "name": "stdout",
     "output_type": "stream",
     "text": [
      "Number of unique note authors: 213216\n",
      "The first note we have was created at January 28, 2021 and the last one at December 12, 2024.\n"
     ]
    }
   ],
   "source": [
    "users_no = len(notes['noteAuthorParticipantId'].unique())\n",
    "print(f\"Number of unique note authors: {users_no}\")\n",
    "\n",
    "first_note_date = \\\n",
    "    datetime.fromtimestamp(notes['createdAtMillis'].min()/1000).\\\n",
    "    strftime(\"%B %d, %Y\")\n",
    "last_note_date = \\\n",
    "    datetime.fromtimestamp(notes['createdAtMillis'].max()/1000).\\\n",
    "    strftime(\"%B %d, %Y\")\n",
    "print(f\"The first note we have was created at {first_note_date} \\\n",
    "and the last one at {last_note_date}.\")"
   ]
  },
  {
   "cell_type": "code",
   "execution_count": null,
   "metadata": {},
   "outputs": [
    {
     "data": {
      "text/plain": [
       "createdAtYear  createdAtMonth\n",
       "2021           1                   1035\n",
       "               2                   2037\n",
       "               3                   1698\n",
       "               4                   1271\n",
       "               5                   1232\n",
       "               6                   1303\n",
       "               7                   1224\n",
       "               8                   1819\n",
       "               9                   2101\n",
       "               10                  1948\n",
       "               11                  1593\n",
       "               12                  1312\n",
       "2022           1                   1155\n",
       "               2                   1022\n",
       "               3                   1173\n",
       "               4                   1132\n",
       "               5                   1968\n",
       "               6                   1884\n",
       "               7                   1212\n",
       "               8                   1142\n",
       "               9                    910\n",
       "               10                  1469\n",
       "               11                  3964\n",
       "               12                  3685\n",
       "2023           1                   3975\n",
       "               2                   5722\n",
       "               3                  10612\n",
       "               4                  15181\n",
       "               5                  21536\n",
       "               6                  22087\n",
       "               7                  28419\n",
       "               8                  48052\n",
       "               9                  31942\n",
       "               10                 64248\n",
       "               11                 63492\n",
       "               12                 77019\n",
       "2024           1                  94664\n",
       "               2                  70398\n",
       "               3                  85094\n",
       "               4                  81510\n",
       "               5                  89299\n",
       "               6                  98252\n",
       "               7                 112065\n",
       "               8                 108480\n",
       "               9                  85732\n",
       "               10                 99822\n",
       "               11                 98302\n",
       "               12                 35940\n",
       "Name: noteId, dtype: int64"
      ]
     },
     "execution_count": 5,
     "metadata": {},
     "output_type": "execute_result"
    }
   ],
   "source": [
    "# notes per month and year\n",
    "notes.groupby(['createdAtYear', 'createdAtMonth'])['noteId'].count()"
   ]
  },
  {
   "cell_type": "code",
   "execution_count": 6,
   "metadata": {},
   "outputs": [
    {
     "data": {
      "text/plain": [
       "createdAtYear\n",
       "2021      18573\n",
       "2022      20716\n",
       "2023     392285\n",
       "2024    1059558\n",
       "Name: noteId, dtype: int64"
      ]
     },
     "execution_count": 6,
     "metadata": {},
     "output_type": "execute_result"
    }
   ],
   "source": [
    "# notes per year\n",
    "notes.groupby(['createdAtYear'])['noteId'].count()"
   ]
  },
  {
   "cell_type": "code",
   "execution_count": 11,
   "metadata": {},
   "outputs": [
    {
     "data": {
      "text/html": [
       "<div>\n",
       "<style scoped>\n",
       "    .dataframe tbody tr th:only-of-type {\n",
       "        vertical-align: middle;\n",
       "    }\n",
       "\n",
       "    .dataframe tbody tr th {\n",
       "        vertical-align: top;\n",
       "    }\n",
       "\n",
       "    .dataframe thead th {\n",
       "        text-align: right;\n",
       "    }\n",
       "</style>\n",
       "<table border=\"1\" class=\"dataframe\">\n",
       "  <thead>\n",
       "    <tr style=\"text-align: right;\">\n",
       "      <th></th>\n",
       "      <th>createdAtYear</th>\n",
       "      <th>noteAuthorParticipantId</th>\n",
       "    </tr>\n",
       "  </thead>\n",
       "  <tbody>\n",
       "    <tr>\n",
       "      <th>0</th>\n",
       "      <td>2021</td>\n",
       "      <td>3200</td>\n",
       "    </tr>\n",
       "    <tr>\n",
       "      <th>1</th>\n",
       "      <td>2022</td>\n",
       "      <td>3809</td>\n",
       "    </tr>\n",
       "    <tr>\n",
       "      <th>2</th>\n",
       "      <td>2023</td>\n",
       "      <td>67827</td>\n",
       "    </tr>\n",
       "    <tr>\n",
       "      <th>3</th>\n",
       "      <td>2024</td>\n",
       "      <td>182577</td>\n",
       "    </tr>\n",
       "  </tbody>\n",
       "</table>\n",
       "</div>"
      ],
      "text/plain": [
       "   createdAtYear  noteAuthorParticipantId\n",
       "0           2021                     3200\n",
       "1           2022                     3809\n",
       "2           2023                    67827\n",
       "3           2024                   182577"
      ]
     },
     "execution_count": 11,
     "metadata": {},
     "output_type": "execute_result"
    }
   ],
   "source": [
    "# active authors per year\n",
    "notes.groupby(['createdAtYear']).agg({'noteAuthorParticipantId': 'nunique'}).reset_index()\n"
   ]
  },
  {
   "cell_type": "code",
   "execution_count": 29,
   "metadata": {},
   "outputs": [],
   "source": [
    "# new users per month\n",
    "new_authors_monthly = notes.groupby('noteAuthorParticipantId').first()\\\n",
    "    .reset_index()\\\n",
    "    .groupby(['createdAtYear', 'createdAtMonth'])['noteId'].nunique()\\\n",
    "        .reset_index()\n",
    "new_authors_monthly.rename(columns={'noteId': 'count'}, inplace=True)"
   ]
  },
  {
   "cell_type": "code",
   "execution_count": 27,
   "metadata": {},
   "outputs": [],
   "source": [
    "# active users per month\n",
    "active_authors_monthly = notes.groupby(['createdAtYear', 'createdAtMonth'])\\\n",
    "    .agg({'noteAuthorParticipantId': 'nunique'}).reset_index()\n",
    "active_authors_monthly.rename(columns={'noteAuthorParticipantId': 'count'}, inplace=True)"
   ]
  },
  {
   "cell_type": "code",
   "execution_count": 30,
   "metadata": {},
   "outputs": [
    {
     "data": {
      "text/html": [
       "<div>\n",
       "<style scoped>\n",
       "    .dataframe tbody tr th:only-of-type {\n",
       "        vertical-align: middle;\n",
       "    }\n",
       "\n",
       "    .dataframe tbody tr th {\n",
       "        vertical-align: top;\n",
       "    }\n",
       "\n",
       "    .dataframe thead th {\n",
       "        text-align: right;\n",
       "    }\n",
       "</style>\n",
       "<table border=\"1\" class=\"dataframe\">\n",
       "  <thead>\n",
       "    <tr style=\"text-align: right;\">\n",
       "      <th></th>\n",
       "      <th>createdAtYear</th>\n",
       "      <th>createdAtMonth</th>\n",
       "      <th>count</th>\n",
       "    </tr>\n",
       "  </thead>\n",
       "  <tbody>\n",
       "    <tr>\n",
       "      <th>0</th>\n",
       "      <td>2021</td>\n",
       "      <td>1</td>\n",
       "      <td>400</td>\n",
       "    </tr>\n",
       "    <tr>\n",
       "      <th>1</th>\n",
       "      <td>2021</td>\n",
       "      <td>2</td>\n",
       "      <td>671</td>\n",
       "    </tr>\n",
       "    <tr>\n",
       "      <th>2</th>\n",
       "      <td>2021</td>\n",
       "      <td>3</td>\n",
       "      <td>597</td>\n",
       "    </tr>\n",
       "    <tr>\n",
       "      <th>3</th>\n",
       "      <td>2021</td>\n",
       "      <td>4</td>\n",
       "      <td>484</td>\n",
       "    </tr>\n",
       "    <tr>\n",
       "      <th>4</th>\n",
       "      <td>2021</td>\n",
       "      <td>5</td>\n",
       "      <td>344</td>\n",
       "    </tr>\n",
       "    <tr>\n",
       "      <th>5</th>\n",
       "      <td>2021</td>\n",
       "      <td>6</td>\n",
       "      <td>485</td>\n",
       "    </tr>\n",
       "    <tr>\n",
       "      <th>6</th>\n",
       "      <td>2021</td>\n",
       "      <td>7</td>\n",
       "      <td>462</td>\n",
       "    </tr>\n",
       "    <tr>\n",
       "      <th>7</th>\n",
       "      <td>2021</td>\n",
       "      <td>8</td>\n",
       "      <td>733</td>\n",
       "    </tr>\n",
       "    <tr>\n",
       "      <th>8</th>\n",
       "      <td>2021</td>\n",
       "      <td>9</td>\n",
       "      <td>869</td>\n",
       "    </tr>\n",
       "    <tr>\n",
       "      <th>9</th>\n",
       "      <td>2021</td>\n",
       "      <td>10</td>\n",
       "      <td>759</td>\n",
       "    </tr>\n",
       "    <tr>\n",
       "      <th>10</th>\n",
       "      <td>2021</td>\n",
       "      <td>11</td>\n",
       "      <td>714</td>\n",
       "    </tr>\n",
       "    <tr>\n",
       "      <th>11</th>\n",
       "      <td>2021</td>\n",
       "      <td>12</td>\n",
       "      <td>576</td>\n",
       "    </tr>\n",
       "    <tr>\n",
       "      <th>12</th>\n",
       "      <td>2022</td>\n",
       "      <td>1</td>\n",
       "      <td>480</td>\n",
       "    </tr>\n",
       "    <tr>\n",
       "      <th>13</th>\n",
       "      <td>2022</td>\n",
       "      <td>2</td>\n",
       "      <td>429</td>\n",
       "    </tr>\n",
       "    <tr>\n",
       "      <th>14</th>\n",
       "      <td>2022</td>\n",
       "      <td>3</td>\n",
       "      <td>457</td>\n",
       "    </tr>\n",
       "    <tr>\n",
       "      <th>15</th>\n",
       "      <td>2022</td>\n",
       "      <td>4</td>\n",
       "      <td>483</td>\n",
       "    </tr>\n",
       "    <tr>\n",
       "      <th>16</th>\n",
       "      <td>2022</td>\n",
       "      <td>5</td>\n",
       "      <td>724</td>\n",
       "    </tr>\n",
       "    <tr>\n",
       "      <th>17</th>\n",
       "      <td>2022</td>\n",
       "      <td>6</td>\n",
       "      <td>778</td>\n",
       "    </tr>\n",
       "    <tr>\n",
       "      <th>18</th>\n",
       "      <td>2022</td>\n",
       "      <td>7</td>\n",
       "      <td>573</td>\n",
       "    </tr>\n",
       "    <tr>\n",
       "      <th>19</th>\n",
       "      <td>2022</td>\n",
       "      <td>8</td>\n",
       "      <td>551</td>\n",
       "    </tr>\n",
       "    <tr>\n",
       "      <th>20</th>\n",
       "      <td>2022</td>\n",
       "      <td>9</td>\n",
       "      <td>395</td>\n",
       "    </tr>\n",
       "    <tr>\n",
       "      <th>21</th>\n",
       "      <td>2022</td>\n",
       "      <td>10</td>\n",
       "      <td>615</td>\n",
       "    </tr>\n",
       "    <tr>\n",
       "      <th>22</th>\n",
       "      <td>2022</td>\n",
       "      <td>11</td>\n",
       "      <td>1211</td>\n",
       "    </tr>\n",
       "    <tr>\n",
       "      <th>23</th>\n",
       "      <td>2022</td>\n",
       "      <td>12</td>\n",
       "      <td>1008</td>\n",
       "    </tr>\n",
       "    <tr>\n",
       "      <th>24</th>\n",
       "      <td>2023</td>\n",
       "      <td>1</td>\n",
       "      <td>916</td>\n",
       "    </tr>\n",
       "    <tr>\n",
       "      <th>25</th>\n",
       "      <td>2023</td>\n",
       "      <td>2</td>\n",
       "      <td>1176</td>\n",
       "    </tr>\n",
       "    <tr>\n",
       "      <th>26</th>\n",
       "      <td>2023</td>\n",
       "      <td>3</td>\n",
       "      <td>2686</td>\n",
       "    </tr>\n",
       "    <tr>\n",
       "      <th>27</th>\n",
       "      <td>2023</td>\n",
       "      <td>4</td>\n",
       "      <td>4402</td>\n",
       "    </tr>\n",
       "    <tr>\n",
       "      <th>28</th>\n",
       "      <td>2023</td>\n",
       "      <td>5</td>\n",
       "      <td>6176</td>\n",
       "    </tr>\n",
       "    <tr>\n",
       "      <th>29</th>\n",
       "      <td>2023</td>\n",
       "      <td>6</td>\n",
       "      <td>7271</td>\n",
       "    </tr>\n",
       "    <tr>\n",
       "      <th>30</th>\n",
       "      <td>2023</td>\n",
       "      <td>7</td>\n",
       "      <td>10663</td>\n",
       "    </tr>\n",
       "    <tr>\n",
       "      <th>31</th>\n",
       "      <td>2023</td>\n",
       "      <td>8</td>\n",
       "      <td>17015</td>\n",
       "    </tr>\n",
       "    <tr>\n",
       "      <th>32</th>\n",
       "      <td>2023</td>\n",
       "      <td>9</td>\n",
       "      <td>12762</td>\n",
       "    </tr>\n",
       "    <tr>\n",
       "      <th>33</th>\n",
       "      <td>2023</td>\n",
       "      <td>10</td>\n",
       "      <td>21949</td>\n",
       "    </tr>\n",
       "    <tr>\n",
       "      <th>34</th>\n",
       "      <td>2023</td>\n",
       "      <td>11</td>\n",
       "      <td>23132</td>\n",
       "    </tr>\n",
       "    <tr>\n",
       "      <th>35</th>\n",
       "      <td>2023</td>\n",
       "      <td>12</td>\n",
       "      <td>27136</td>\n",
       "    </tr>\n",
       "    <tr>\n",
       "      <th>36</th>\n",
       "      <td>2024</td>\n",
       "      <td>1</td>\n",
       "      <td>32112</td>\n",
       "    </tr>\n",
       "    <tr>\n",
       "      <th>37</th>\n",
       "      <td>2024</td>\n",
       "      <td>2</td>\n",
       "      <td>28115</td>\n",
       "    </tr>\n",
       "    <tr>\n",
       "      <th>38</th>\n",
       "      <td>2024</td>\n",
       "      <td>3</td>\n",
       "      <td>32907</td>\n",
       "    </tr>\n",
       "    <tr>\n",
       "      <th>39</th>\n",
       "      <td>2024</td>\n",
       "      <td>4</td>\n",
       "      <td>33029</td>\n",
       "    </tr>\n",
       "    <tr>\n",
       "      <th>40</th>\n",
       "      <td>2024</td>\n",
       "      <td>5</td>\n",
       "      <td>35513</td>\n",
       "    </tr>\n",
       "    <tr>\n",
       "      <th>41</th>\n",
       "      <td>2024</td>\n",
       "      <td>6</td>\n",
       "      <td>38458</td>\n",
       "    </tr>\n",
       "    <tr>\n",
       "      <th>42</th>\n",
       "      <td>2024</td>\n",
       "      <td>7</td>\n",
       "      <td>45798</td>\n",
       "    </tr>\n",
       "    <tr>\n",
       "      <th>43</th>\n",
       "      <td>2024</td>\n",
       "      <td>8</td>\n",
       "      <td>45828</td>\n",
       "    </tr>\n",
       "    <tr>\n",
       "      <th>44</th>\n",
       "      <td>2024</td>\n",
       "      <td>9</td>\n",
       "      <td>35099</td>\n",
       "    </tr>\n",
       "    <tr>\n",
       "      <th>45</th>\n",
       "      <td>2024</td>\n",
       "      <td>10</td>\n",
       "      <td>40104</td>\n",
       "    </tr>\n",
       "    <tr>\n",
       "      <th>46</th>\n",
       "      <td>2024</td>\n",
       "      <td>11</td>\n",
       "      <td>42186</td>\n",
       "    </tr>\n",
       "    <tr>\n",
       "      <th>47</th>\n",
       "      <td>2024</td>\n",
       "      <td>12</td>\n",
       "      <td>18627</td>\n",
       "    </tr>\n",
       "  </tbody>\n",
       "</table>\n",
       "</div>"
      ],
      "text/plain": [
       "    createdAtYear  createdAtMonth  count\n",
       "0            2021               1    400\n",
       "1            2021               2    671\n",
       "2            2021               3    597\n",
       "3            2021               4    484\n",
       "4            2021               5    344\n",
       "5            2021               6    485\n",
       "6            2021               7    462\n",
       "7            2021               8    733\n",
       "8            2021               9    869\n",
       "9            2021              10    759\n",
       "10           2021              11    714\n",
       "11           2021              12    576\n",
       "12           2022               1    480\n",
       "13           2022               2    429\n",
       "14           2022               3    457\n",
       "15           2022               4    483\n",
       "16           2022               5    724\n",
       "17           2022               6    778\n",
       "18           2022               7    573\n",
       "19           2022               8    551\n",
       "20           2022               9    395\n",
       "21           2022              10    615\n",
       "22           2022              11   1211\n",
       "23           2022              12   1008\n",
       "24           2023               1    916\n",
       "25           2023               2   1176\n",
       "26           2023               3   2686\n",
       "27           2023               4   4402\n",
       "28           2023               5   6176\n",
       "29           2023               6   7271\n",
       "30           2023               7  10663\n",
       "31           2023               8  17015\n",
       "32           2023               9  12762\n",
       "33           2023              10  21949\n",
       "34           2023              11  23132\n",
       "35           2023              12  27136\n",
       "36           2024               1  32112\n",
       "37           2024               2  28115\n",
       "38           2024               3  32907\n",
       "39           2024               4  33029\n",
       "40           2024               5  35513\n",
       "41           2024               6  38458\n",
       "42           2024               7  45798\n",
       "43           2024               8  45828\n",
       "44           2024               9  35099\n",
       "45           2024              10  40104\n",
       "46           2024              11  42186\n",
       "47           2024              12  18627"
      ]
     },
     "execution_count": 30,
     "metadata": {},
     "output_type": "execute_result"
    }
   ],
   "source": [
    "active_authors_monthly"
   ]
  },
  {
   "cell_type": "code",
   "execution_count": 31,
   "metadata": {},
   "outputs": [
    {
     "data": {
      "text/html": [
       "<div>\n",
       "<style scoped>\n",
       "    .dataframe tbody tr th:only-of-type {\n",
       "        vertical-align: middle;\n",
       "    }\n",
       "\n",
       "    .dataframe tbody tr th {\n",
       "        vertical-align: top;\n",
       "    }\n",
       "\n",
       "    .dataframe thead th {\n",
       "        text-align: right;\n",
       "    }\n",
       "</style>\n",
       "<table border=\"1\" class=\"dataframe\">\n",
       "  <thead>\n",
       "    <tr style=\"text-align: right;\">\n",
       "      <th></th>\n",
       "      <th>createdAtYear</th>\n",
       "      <th>createdAtMonth</th>\n",
       "      <th>count</th>\n",
       "    </tr>\n",
       "  </thead>\n",
       "  <tbody>\n",
       "    <tr>\n",
       "      <th>0</th>\n",
       "      <td>2021</td>\n",
       "      <td>1</td>\n",
       "      <td>400</td>\n",
       "    </tr>\n",
       "    <tr>\n",
       "      <th>1</th>\n",
       "      <td>2021</td>\n",
       "      <td>2</td>\n",
       "      <td>451</td>\n",
       "    </tr>\n",
       "    <tr>\n",
       "      <th>2</th>\n",
       "      <td>2021</td>\n",
       "      <td>3</td>\n",
       "      <td>329</td>\n",
       "    </tr>\n",
       "    <tr>\n",
       "      <th>3</th>\n",
       "      <td>2021</td>\n",
       "      <td>4</td>\n",
       "      <td>170</td>\n",
       "    </tr>\n",
       "    <tr>\n",
       "      <th>4</th>\n",
       "      <td>2021</td>\n",
       "      <td>5</td>\n",
       "      <td>98</td>\n",
       "    </tr>\n",
       "    <tr>\n",
       "      <th>5</th>\n",
       "      <td>2021</td>\n",
       "      <td>6</td>\n",
       "      <td>175</td>\n",
       "    </tr>\n",
       "    <tr>\n",
       "      <th>6</th>\n",
       "      <td>2021</td>\n",
       "      <td>7</td>\n",
       "      <td>111</td>\n",
       "    </tr>\n",
       "    <tr>\n",
       "      <th>7</th>\n",
       "      <td>2021</td>\n",
       "      <td>8</td>\n",
       "      <td>369</td>\n",
       "    </tr>\n",
       "    <tr>\n",
       "      <th>8</th>\n",
       "      <td>2021</td>\n",
       "      <td>9</td>\n",
       "      <td>428</td>\n",
       "    </tr>\n",
       "    <tr>\n",
       "      <th>9</th>\n",
       "      <td>2021</td>\n",
       "      <td>10</td>\n",
       "      <td>318</td>\n",
       "    </tr>\n",
       "    <tr>\n",
       "      <th>10</th>\n",
       "      <td>2021</td>\n",
       "      <td>11</td>\n",
       "      <td>217</td>\n",
       "    </tr>\n",
       "    <tr>\n",
       "      <th>11</th>\n",
       "      <td>2021</td>\n",
       "      <td>12</td>\n",
       "      <td>134</td>\n",
       "    </tr>\n",
       "    <tr>\n",
       "      <th>12</th>\n",
       "      <td>2022</td>\n",
       "      <td>1</td>\n",
       "      <td>90</td>\n",
       "    </tr>\n",
       "    <tr>\n",
       "      <th>13</th>\n",
       "      <td>2022</td>\n",
       "      <td>2</td>\n",
       "      <td>79</td>\n",
       "    </tr>\n",
       "    <tr>\n",
       "      <th>14</th>\n",
       "      <td>2022</td>\n",
       "      <td>3</td>\n",
       "      <td>61</td>\n",
       "    </tr>\n",
       "    <tr>\n",
       "      <th>15</th>\n",
       "      <td>2022</td>\n",
       "      <td>4</td>\n",
       "      <td>75</td>\n",
       "    </tr>\n",
       "    <tr>\n",
       "      <th>16</th>\n",
       "      <td>2022</td>\n",
       "      <td>5</td>\n",
       "      <td>297</td>\n",
       "    </tr>\n",
       "    <tr>\n",
       "      <th>17</th>\n",
       "      <td>2022</td>\n",
       "      <td>6</td>\n",
       "      <td>353</td>\n",
       "    </tr>\n",
       "    <tr>\n",
       "      <th>18</th>\n",
       "      <td>2022</td>\n",
       "      <td>7</td>\n",
       "      <td>154</td>\n",
       "    </tr>\n",
       "    <tr>\n",
       "      <th>19</th>\n",
       "      <td>2022</td>\n",
       "      <td>8</td>\n",
       "      <td>102</td>\n",
       "    </tr>\n",
       "    <tr>\n",
       "      <th>20</th>\n",
       "      <td>2022</td>\n",
       "      <td>9</td>\n",
       "      <td>76</td>\n",
       "    </tr>\n",
       "    <tr>\n",
       "      <th>21</th>\n",
       "      <td>2022</td>\n",
       "      <td>10</td>\n",
       "      <td>159</td>\n",
       "    </tr>\n",
       "    <tr>\n",
       "      <th>22</th>\n",
       "      <td>2022</td>\n",
       "      <td>11</td>\n",
       "      <td>422</td>\n",
       "    </tr>\n",
       "    <tr>\n",
       "      <th>23</th>\n",
       "      <td>2022</td>\n",
       "      <td>12</td>\n",
       "      <td>420</td>\n",
       "    </tr>\n",
       "    <tr>\n",
       "      <th>24</th>\n",
       "      <td>2023</td>\n",
       "      <td>1</td>\n",
       "      <td>416</td>\n",
       "    </tr>\n",
       "    <tr>\n",
       "      <th>25</th>\n",
       "      <td>2023</td>\n",
       "      <td>2</td>\n",
       "      <td>545</td>\n",
       "    </tr>\n",
       "    <tr>\n",
       "      <th>26</th>\n",
       "      <td>2023</td>\n",
       "      <td>3</td>\n",
       "      <td>1766</td>\n",
       "    </tr>\n",
       "    <tr>\n",
       "      <th>27</th>\n",
       "      <td>2023</td>\n",
       "      <td>4</td>\n",
       "      <td>2660</td>\n",
       "    </tr>\n",
       "    <tr>\n",
       "      <th>28</th>\n",
       "      <td>2023</td>\n",
       "      <td>5</td>\n",
       "      <td>3241</td>\n",
       "    </tr>\n",
       "    <tr>\n",
       "      <th>29</th>\n",
       "      <td>2023</td>\n",
       "      <td>6</td>\n",
       "      <td>3683</td>\n",
       "    </tr>\n",
       "    <tr>\n",
       "      <th>30</th>\n",
       "      <td>2023</td>\n",
       "      <td>7</td>\n",
       "      <td>6071</td>\n",
       "    </tr>\n",
       "    <tr>\n",
       "      <th>31</th>\n",
       "      <td>2023</td>\n",
       "      <td>8</td>\n",
       "      <td>10197</td>\n",
       "    </tr>\n",
       "    <tr>\n",
       "      <th>32</th>\n",
       "      <td>2023</td>\n",
       "      <td>9</td>\n",
       "      <td>4625</td>\n",
       "    </tr>\n",
       "    <tr>\n",
       "      <th>33</th>\n",
       "      <td>2023</td>\n",
       "      <td>10</td>\n",
       "      <td>11636</td>\n",
       "    </tr>\n",
       "    <tr>\n",
       "      <th>34</th>\n",
       "      <td>2023</td>\n",
       "      <td>11</td>\n",
       "      <td>9691</td>\n",
       "    </tr>\n",
       "    <tr>\n",
       "      <th>35</th>\n",
       "      <td>2023</td>\n",
       "      <td>12</td>\n",
       "      <td>11600</td>\n",
       "    </tr>\n",
       "    <tr>\n",
       "      <th>36</th>\n",
       "      <td>2024</td>\n",
       "      <td>1</td>\n",
       "      <td>12838</td>\n",
       "    </tr>\n",
       "    <tr>\n",
       "      <th>37</th>\n",
       "      <td>2024</td>\n",
       "      <td>2</td>\n",
       "      <td>9790</td>\n",
       "    </tr>\n",
       "    <tr>\n",
       "      <th>38</th>\n",
       "      <td>2024</td>\n",
       "      <td>3</td>\n",
       "      <td>11674</td>\n",
       "    </tr>\n",
       "    <tr>\n",
       "      <th>39</th>\n",
       "      <td>2024</td>\n",
       "      <td>4</td>\n",
       "      <td>12793</td>\n",
       "    </tr>\n",
       "    <tr>\n",
       "      <th>40</th>\n",
       "      <td>2024</td>\n",
       "      <td>5</td>\n",
       "      <td>12883</td>\n",
       "    </tr>\n",
       "    <tr>\n",
       "      <th>41</th>\n",
       "      <td>2024</td>\n",
       "      <td>6</td>\n",
       "      <td>13905</td>\n",
       "    </tr>\n",
       "    <tr>\n",
       "      <th>42</th>\n",
       "      <td>2024</td>\n",
       "      <td>7</td>\n",
       "      <td>16433</td>\n",
       "    </tr>\n",
       "    <tr>\n",
       "      <th>43</th>\n",
       "      <td>2024</td>\n",
       "      <td>8</td>\n",
       "      <td>13719</td>\n",
       "    </tr>\n",
       "    <tr>\n",
       "      <th>44</th>\n",
       "      <td>2024</td>\n",
       "      <td>9</td>\n",
       "      <td>8741</td>\n",
       "    </tr>\n",
       "    <tr>\n",
       "      <th>45</th>\n",
       "      <td>2024</td>\n",
       "      <td>10</td>\n",
       "      <td>11840</td>\n",
       "    </tr>\n",
       "    <tr>\n",
       "      <th>46</th>\n",
       "      <td>2024</td>\n",
       "      <td>11</td>\n",
       "      <td>12527</td>\n",
       "    </tr>\n",
       "    <tr>\n",
       "      <th>47</th>\n",
       "      <td>2024</td>\n",
       "      <td>12</td>\n",
       "      <td>4454</td>\n",
       "    </tr>\n",
       "  </tbody>\n",
       "</table>\n",
       "</div>"
      ],
      "text/plain": [
       "    createdAtYear  createdAtMonth  count\n",
       "0            2021               1    400\n",
       "1            2021               2    451\n",
       "2            2021               3    329\n",
       "3            2021               4    170\n",
       "4            2021               5     98\n",
       "5            2021               6    175\n",
       "6            2021               7    111\n",
       "7            2021               8    369\n",
       "8            2021               9    428\n",
       "9            2021              10    318\n",
       "10           2021              11    217\n",
       "11           2021              12    134\n",
       "12           2022               1     90\n",
       "13           2022               2     79\n",
       "14           2022               3     61\n",
       "15           2022               4     75\n",
       "16           2022               5    297\n",
       "17           2022               6    353\n",
       "18           2022               7    154\n",
       "19           2022               8    102\n",
       "20           2022               9     76\n",
       "21           2022              10    159\n",
       "22           2022              11    422\n",
       "23           2022              12    420\n",
       "24           2023               1    416\n",
       "25           2023               2    545\n",
       "26           2023               3   1766\n",
       "27           2023               4   2660\n",
       "28           2023               5   3241\n",
       "29           2023               6   3683\n",
       "30           2023               7   6071\n",
       "31           2023               8  10197\n",
       "32           2023               9   4625\n",
       "33           2023              10  11636\n",
       "34           2023              11   9691\n",
       "35           2023              12  11600\n",
       "36           2024               1  12838\n",
       "37           2024               2   9790\n",
       "38           2024               3  11674\n",
       "39           2024               4  12793\n",
       "40           2024               5  12883\n",
       "41           2024               6  13905\n",
       "42           2024               7  16433\n",
       "43           2024               8  13719\n",
       "44           2024               9   8741\n",
       "45           2024              10  11840\n",
       "46           2024              11  12527\n",
       "47           2024              12   4454"
      ]
     },
     "execution_count": 31,
     "metadata": {},
     "output_type": "execute_result"
    }
   ],
   "source": [
    "new_authors_monthly"
   ]
  },
  {
   "cell_type": "markdown",
   "metadata": {},
   "source": [
    "To check if the community is alive because of new users or not, let's see new users vs active users per month."
   ]
  },
  {
   "cell_type": "code",
   "execution_count": 44,
   "metadata": {},
   "outputs": [],
   "source": [
    "notes['createdAtYM'] = notes['createdAt'].dt.to_period('M')\n"
   ]
  },
  {
   "cell_type": "code",
   "execution_count": 46,
   "metadata": {},
   "outputs": [],
   "source": [
    "# new users per month\n",
    "new_authors_monthly = notes.groupby('noteAuthorParticipantId').first()\\\n",
    "    .reset_index()\\\n",
    "    .groupby(['createdAtYM'])['noteId'].nunique()\\\n",
    "        .reset_index()\n",
    "new_authors_monthly.rename(columns={'noteId': 'count'}, inplace=True)"
   ]
  },
  {
   "cell_type": "code",
   "execution_count": 45,
   "metadata": {},
   "outputs": [],
   "source": [
    "# active users per month\n",
    "active_authors_monthly = notes.groupby(['createdAtYM'])\\\n",
    "    .agg({'noteAuthorParticipantId': 'nunique'}).reset_index()\n",
    "active_authors_monthly.rename(columns={'noteAuthorParticipantId': 'count'}, inplace=True)"
   ]
  },
  {
   "cell_type": "code",
   "execution_count": null,
   "metadata": {},
   "outputs": [
    {
     "name": "stderr",
     "output_type": "stream",
     "text": [
      "/tmp/ipykernel_19113/2497700907.py:14: UserWarning: set_ticklabels() should only be used with a fixed number of ticks, i.e. after set_ticks() or using a FixedLocator.\n",
      "  ax.set_xticklabels(labels)\n"
     ]
    },
    {
     "data": {
      "image/png": "[encoded data removed]",
      "text/plain": [
       "<Figure size 700x400 with 1 Axes>"
      ]
     },
     "metadata": {},
     "output_type": "display_data"
    }
   ],
   "source": [
    "fig, ax = plt.subplots(1,1, figsize=(7,4))\n",
    "sns.barplot(x=\"createdAtYM\", y=\"count\", data=active_authors_monthly,\n",
    "             color='white', edgecolor='tab:blue')\n",
    "sns.barplot(x=\"createdAtYM\", y=\"count\", data=new_authors_monthly,\n",
    "             edgecolor='tab:blue', alpha=.5)\n",
    "\n",
    "# set quartely labels\n",
    "labels = [''] * len(ax.get_xticklabels())\n",
    "for idx, element in enumerate(labels[::3]):\n",
    "    labels[idx*3] = 'Q' + str(idx%4 + 1)\n",
    "\n",
    "ax.set_xticklabels(labels)\n",
    "# add years\n",
    "for idx, year in enumerate(range(2021,2025)):\n",
    "    ax.text(idx*.25 -.02, -.13, str(year), size=11, color='#444', transform=ax.transAxes)\n",
    "ax.set_xlabel('Time')\n",
    "ax.xaxis.set_label_coords(.48, -.15)\n",
    "ax.set_ylabel('Number of Note Authors')\n",
    "ax.tick_params(axis='both', colors=\"#777777\", left=False, bottom=False)\n",
    "ax.spines[['bottom', 'left']].set_color(\"grey\")\n",
    "# ax.legend(['Unmet Demand', 'Capacity'])\n",
    "ax.spines[['right', 'top']].set_visible(False)\n",
    "#update last month\n",
    "ax.set_title(f'New authors vs. Active authors over time')\n",
    "# add keydates\n",
    "plt.show()"
   ]
  },
  {
   "cell_type": "markdown",
   "metadata": {},
   "source": [
    "Qustion: what percentage of note authors from 2021, 2022, 2023 are still authoring notes in 2024?"
   ]
  },
  {
   "cell_type": "code",
   "execution_count": 3,
   "metadata": {},
   "outputs": [],
   "source": [
    "# make a dict of the list of unique authors each year\n",
    "distinct_authors_dict = {}\n",
    "\n",
    "for year in range(2021, 2025):\n",
    "    distinct_authors_dict[year] = notes[notes['createdAtYear'] == year]['noteAuthorParticipantId'].unique()"
   ]
  },
  {
   "cell_type": "code",
   "execution_count": 32,
   "metadata": {},
   "outputs": [],
   "source": [
    "# create a dateframe for comparing persistant authors during years\n",
    "year_range = range(2021, 2025)\n",
    "index = [year for year in year_range]\n",
    "remain_active = pd.DataFrame(columns=index, index=index)\n",
    "remain_active_matrix = np.empty(len(year_range))\n",
    "for year_start in year_range:\n",
    "    for year_active in year_range:\n",
    "        if year_start <= year_active:\n",
    "            remain_active.loc[year_active, year_start] = \\\n",
    "                len(np.intersect1d(distinct_authors_dict[year_start], distinct_authors_dict[year_active])) \\\n",
    "                    / len(distinct_authors_dict[year_start])\n"
   ]
  },
  {
   "cell_type": "code",
   "execution_count": null,
   "metadata": {},
   "outputs": [
    {
     "data": {
      "text/plain": [
       "Text(0.5, 1.0, 'Fraction of authors who remained active after their first note')"
      ]
     },
     "execution_count": 41,
     "metadata": {},
     "output_type": "execute_result"
    },
    {
     "data": {
      "image/png": "[encoded data removed]",
      "text/plain": [
       "<Figure size 640x480 with 2 Axes>"
      ]
     },
     "metadata": {},
     "output_type": "display_data"
    }
   ],
   "source": [
    "# plot\n",
    "ax = plt.subplot()\n",
    "# remove the upper triangle\n",
    "mask = np.triu(np.ones_like(remain_active))\n",
    "# set the diagonal to 0; so it wouldn't be masked\n",
    "np.fill_diagonal(mask, 0)\n",
    "sns.heatmap(remain_active.astype(float), annot = True, mask=mask, cmap='Blues_r', ax=ax)\n",
    "\n",
    "ax.set_xlabel('year started')\n",
    "ax.set_ylabel('year active')\n",
    "ax.set_title('Fraction of authors who remained active after their first note')\n"
   ]
  },
  {
   "cell_type": "markdown",
   "metadata": {},
   "source": [
    "### notes authored per user per month or quarter. \n",
    "How long does the typical author have consecutive months > 0 on this measure?"
   ]
  },
  {
   "cell_type": "code",
   "execution_count": 5,
   "metadata": {},
   "outputs": [],
   "source": [
    "col = ['noteAuthorParticipantId']\n",
    "df_author = notes.groupby(col)\n",
    "month_diff = df_author['createdAtMonth'].diff()\n",
    "year_diff = df_author['createdAtYear'].diff()\n",
    "nonconsecutive = ~((year_diff.eq(0) & month_diff.eq(1)) | (year_diff.eq(1) & month_diff.eq(-11)))\n",
    "max_consecutive = notes.groupby([*col, nonconsecutive.cumsum()]).size().droplevel(-1).groupby(col).max().reset_index(name='counts')"
   ]
  },
  {
   "cell_type": "code",
   "execution_count": 6,
   "metadata": {},
   "outputs": [
    {
     "data": {
      "text/html": [
       "<div>\n",
       "<style scoped>\n",
       "    .dataframe tbody tr th:only-of-type {\n",
       "        vertical-align: middle;\n",
       "    }\n",
       "\n",
       "    .dataframe tbody tr th {\n",
       "        vertical-align: top;\n",
       "    }\n",
       "\n",
       "    .dataframe thead th {\n",
       "        text-align: right;\n",
       "    }\n",
       "</style>\n",
       "<table border=\"1\" class=\"dataframe\">\n",
       "  <thead>\n",
       "    <tr style=\"text-align: right;\">\n",
       "      <th></th>\n",
       "      <th>counts</th>\n",
       "    </tr>\n",
       "  </thead>\n",
       "  <tbody>\n",
       "    <tr>\n",
       "      <th>count</th>\n",
       "      <td>213216.000000</td>\n",
       "    </tr>\n",
       "    <tr>\n",
       "      <th>mean</th>\n",
       "      <td>1.557529</td>\n",
       "    </tr>\n",
       "    <tr>\n",
       "      <th>std</th>\n",
       "      <td>0.795287</td>\n",
       "    </tr>\n",
       "    <tr>\n",
       "      <th>min</th>\n",
       "      <td>1.000000</td>\n",
       "    </tr>\n",
       "    <tr>\n",
       "      <th>25%</th>\n",
       "      <td>1.000000</td>\n",
       "    </tr>\n",
       "    <tr>\n",
       "      <th>50%</th>\n",
       "      <td>1.000000</td>\n",
       "    </tr>\n",
       "    <tr>\n",
       "      <th>75%</th>\n",
       "      <td>2.000000</td>\n",
       "    </tr>\n",
       "    <tr>\n",
       "      <th>max</th>\n",
       "      <td>9.000000</td>\n",
       "    </tr>\n",
       "  </tbody>\n",
       "</table>\n",
       "</div>"
      ],
      "text/plain": [
       "              counts\n",
       "count  213216.000000\n",
       "mean        1.557529\n",
       "std         0.795287\n",
       "min         1.000000\n",
       "25%         1.000000\n",
       "50%         1.000000\n",
       "75%         2.000000\n",
       "max         9.000000"
      ]
     },
     "execution_count": 6,
     "metadata": {},
     "output_type": "execute_result"
    }
   ],
   "source": [
    "max_consecutive.describe()"
   ]
  },
  {
   "cell_type": "code",
   "execution_count": 23,
   "metadata": {},
   "outputs": [],
   "source": [
    "# let's do the same for quarters\n",
    "col = ['noteAuthorParticipantId']\n",
    "notes['quarter'] = pd.PeriodIndex(notes.createdAt, freq='Q')\n",
    "df_author = notes.groupby(col)\n",
    "\n",
    "diff = df_author['quarter'].diff().apply(lambda x: x if pd.isnull(x) else x.n)\n",
    "nonconsecutive = ~(diff.eq(1))\n",
    "max_consecutive_q = notes.groupby([*col, nonconsecutive.cumsum()]).size().droplevel(-1).groupby(col).max().reset_index(name='counts')"
   ]
  },
  {
   "cell_type": "code",
   "execution_count": 24,
   "metadata": {},
   "outputs": [
    {
     "data": {
      "text/html": [
       "<div>\n",
       "<style scoped>\n",
       "    .dataframe tbody tr th:only-of-type {\n",
       "        vertical-align: middle;\n",
       "    }\n",
       "\n",
       "    .dataframe tbody tr th {\n",
       "        vertical-align: top;\n",
       "    }\n",
       "\n",
       "    .dataframe thead th {\n",
       "        text-align: right;\n",
       "    }\n",
       "</style>\n",
       "<table border=\"1\" class=\"dataframe\">\n",
       "  <thead>\n",
       "    <tr style=\"text-align: right;\">\n",
       "      <th></th>\n",
       "      <th>counts</th>\n",
       "    </tr>\n",
       "  </thead>\n",
       "  <tbody>\n",
       "    <tr>\n",
       "      <th>count</th>\n",
       "      <td>213216.000000</td>\n",
       "    </tr>\n",
       "    <tr>\n",
       "      <th>mean</th>\n",
       "      <td>1.480138</td>\n",
       "    </tr>\n",
       "    <tr>\n",
       "      <th>std</th>\n",
       "      <td>0.657977</td>\n",
       "    </tr>\n",
       "    <tr>\n",
       "      <th>min</th>\n",
       "      <td>1.000000</td>\n",
       "    </tr>\n",
       "    <tr>\n",
       "      <th>25%</th>\n",
       "      <td>1.000000</td>\n",
       "    </tr>\n",
       "    <tr>\n",
       "      <th>50%</th>\n",
       "      <td>1.000000</td>\n",
       "    </tr>\n",
       "    <tr>\n",
       "      <th>75%</th>\n",
       "      <td>2.000000</td>\n",
       "    </tr>\n",
       "    <tr>\n",
       "      <th>max</th>\n",
       "      <td>9.000000</td>\n",
       "    </tr>\n",
       "  </tbody>\n",
       "</table>\n",
       "</div>"
      ],
      "text/plain": [
       "              counts\n",
       "count  213216.000000\n",
       "mean        1.480138\n",
       "std         0.657977\n",
       "min         1.000000\n",
       "25%         1.000000\n",
       "50%         1.000000\n",
       "75%         2.000000\n",
       "max         9.000000"
      ]
     },
     "execution_count": 24,
     "metadata": {},
     "output_type": "execute_result"
    }
   ],
   "source": [
    "max_consecutive_q.describe()"
   ]
  },
  {
   "cell_type": "code",
   "execution_count": 25,
   "metadata": {},
   "outputs": [
    {
     "data": {
      "text/plain": [
       "array([[<Axes: title={'center': 'counts'}>]], dtype=object)"
      ]
     },
     "execution_count": 25,
     "metadata": {},
     "output_type": "execute_result"
    },
    {
     "data": {
      "image/png": "[encoded data removed]",
      "text/plain": [
       "<Figure size 640x480 with 1 Axes>"
      ]
     },
     "metadata": {},
     "output_type": "display_data"
    }
   ],
   "source": [
    "max_consecutive_q.hist()"
   ]
  },
  {
   "cell_type": "markdown",
   "metadata": {},
   "source": [
    "Since we have used the date quarters, it does not show very accurate figures. E.g. Someone who has written only one note is counted in active in 1 quarter. Plus, if you write something in march and another in april, you were active for two quarters. Maybe having rolling quarters would be a better approach if we need it."
   ]
  },
  {
   "cell_type": "markdown",
   "metadata": {},
   "source": [
    "### Q4. What is distribution of authoring among participants? Can we identify superusers who author most notes? Do the questions 1 - 3, above, look different if we restrict our analyses superusers?"
   ]
  },
  {
   "cell_type": "code",
   "execution_count": 26,
   "metadata": {},
   "outputs": [
    {
     "data": {
      "image/png": "[encoded data removed]",
      "text/plain": [
       "<Figure size 640x480 with 1 Axes>"
      ]
     },
     "metadata": {},
     "output_type": "display_data"
    }
   ],
   "source": [
    "# let's see the distribution of notes per author first\n",
    "count_notes_per_author = notes.groupby('noteAuthorParticipantId')['noteId'].count().to_list()\n",
    "bins = [1, 2, 4, 7, 10, 15, 25, 40, 100, 200, 1000, 2000]\n",
    "hist, bin_edges = np.histogram(count_notes_per_author,bins) # make the histogram\n",
    "\n",
    "fig,ax = plt.subplots()\n",
    "\n",
    "# Plot the histogram heights against integers on the x axis\n",
    "ax.bar(range(len(hist)),hist,width=1) \n",
    "\n",
    "# Set the ticks to the middle of the bars\n",
    "ax.set_xticks([0.5+i for i,j in enumerate(hist)])\n",
    "\n",
    "# Set the xticklabels to a string that tells us what the bin edges were\n",
    "ax.set_xticklabels(['{}-{}'.format(bins[i],bins[i+1]) for i,j in enumerate(hist)])\n",
    "\n",
    "plt.show()"
   ]
  },
  {
   "cell_type": "markdown",
   "metadata": {},
   "source": [
    "There are some users who writes a lot! \n"
   ]
  },
  {
   "cell_type": "code",
   "execution_count": 28,
   "metadata": {},
   "outputs": [
    {
     "data": {
      "text/html": [
       "<div>\n",
       "<style scoped>\n",
       "    .dataframe tbody tr th:only-of-type {\n",
       "        vertical-align: middle;\n",
       "    }\n",
       "\n",
       "    .dataframe tbody tr th {\n",
       "        vertical-align: top;\n",
       "    }\n",
       "\n",
       "    .dataframe thead th {\n",
       "        text-align: right;\n",
       "    }\n",
       "</style>\n",
       "<table border=\"1\" class=\"dataframe\">\n",
       "  <thead>\n",
       "    <tr style=\"text-align: right;\">\n",
       "      <th></th>\n",
       "      <th>0</th>\n",
       "    </tr>\n",
       "  </thead>\n",
       "  <tbody>\n",
       "    <tr>\n",
       "      <th>count</th>\n",
       "      <td>213216.000000</td>\n",
       "    </tr>\n",
       "    <tr>\n",
       "      <th>mean</th>\n",
       "      <td>6.993528</td>\n",
       "    </tr>\n",
       "    <tr>\n",
       "      <th>std</th>\n",
       "      <td>65.324266</td>\n",
       "    </tr>\n",
       "    <tr>\n",
       "      <th>min</th>\n",
       "      <td>1.000000</td>\n",
       "    </tr>\n",
       "    <tr>\n",
       "      <th>25%</th>\n",
       "      <td>1.000000</td>\n",
       "    </tr>\n",
       "    <tr>\n",
       "      <th>50%</th>\n",
       "      <td>3.000000</td>\n",
       "    </tr>\n",
       "    <tr>\n",
       "      <th>75%</th>\n",
       "      <td>6.000000</td>\n",
       "    </tr>\n",
       "    <tr>\n",
       "      <th>max</th>\n",
       "      <td>23704.000000</td>\n",
       "    </tr>\n",
       "  </tbody>\n",
       "</table>\n",
       "</div>"
      ],
      "text/plain": [
       "                   0\n",
       "count  213216.000000\n",
       "mean        6.993528\n",
       "std        65.324266\n",
       "min         1.000000\n",
       "25%         1.000000\n",
       "50%         3.000000\n",
       "75%         6.000000\n",
       "max     23704.000000"
      ]
     },
     "execution_count": 28,
     "metadata": {},
     "output_type": "execute_result"
    }
   ],
   "source": [
    "pd.DataFrame(count_notes_per_author).describe()"
   ]
  },
  {
   "cell_type": "markdown",
   "metadata": {},
   "source": [
    "Someone has written 23000 notes! Could they be bots? \n",
    "Let's check some of their notes!"
   ]
  },
  {
   "cell_type": "code",
   "execution_count": 55,
   "metadata": {},
   "outputs": [
    {
     "data": {
      "text/plain": [
       "1404036    ⚠️ Deceptive site ahead    Potential threats o...\n",
       "1401096    ⚠️ Deceptive site ahead ⚠️    Potential threat...\n",
       "1419733    ⚠️ Deceptive site ahead    Potential threats o...\n",
       "1410741    This account is impersonating @AndreCronjeTech...\n",
       "1407908    ⚠️ Deceptive site ahead    Potential threats o...\n",
       "1403647    ⚠️ Deceptive site ahead    Potential threats o...\n",
       "1413981    ⚠️ Deceptive site ahead    Potential threats o...\n",
       "1419588    ⚠️ Deceptive site ahead    Potential threats o...\n",
       "1415722    ⚠️ Deceptive site ahead    Potential threats o...\n",
       "1401937    This account is impersonating @justinsuntron. ...\n",
       "1400353    ⚠️ Important Notice ⚠️    The link airdrop[.]o...\n",
       "1413865    ⚠️ Deceptive site ahead    Potential threats o...\n",
       "1419950    ⚠️ Deceptive site ahead    Potential threats o...\n",
       "1406863    ⚠️ Deceptive site ahead    Potential threats o...\n",
       "1417326    ⚠️ Deceptive site ahead    Potential threats o...\n",
       "1401849    ⚠️ Deceptive site ahead ⚠️    Potential threat...\n",
       "1410066    ⚠️ Deceptive site ahead    Potential threats o...\n",
       "1420121    ⚠️ Deceptive site ahead    Potential threats o...\n",
       "1399912    ⚠️ Important Notice ⚠️    The link fourmeme[.]...\n",
       "1403615    This account is impersonating @AethirCloud. Le...\n",
       "Name: summary, dtype: object"
      ]
     },
     "execution_count": 55,
     "metadata": {},
     "output_type": "execute_result"
    }
   ],
   "source": [
    "count_notes = notes.groupby('noteAuthorParticipantId')['noteId'].count().reset_index()\n",
    "star_author = count_notes[count_notes['noteId'] == 23704]['noteAuthorParticipantId'].to_list()[0]\n",
    "notes[notes['noteAuthorParticipantId'] == star_author]['summary'].sample(20)"
   ]
  },
  {
   "cell_type": "markdown",
   "metadata": {},
   "source": [
    "Some similar notes. They may be rated helpful though. Let's check it!"
   ]
  },
  {
   "cell_type": "code",
   "execution_count": 56,
   "metadata": {},
   "outputs": [],
   "source": [
    "rated = pd.read_parquet('rated_notes_compact.parquet', engine='auto')"
   ]
  },
  {
   "cell_type": "code",
   "execution_count": 61,
   "metadata": {},
   "outputs": [
    {
     "data": {
      "text/plain": [
       "count                        1197\n",
       "unique                          1\n",
       "top       CURRENTLY_RATED_HELPFUL\n",
       "freq                         1197\n",
       "Name: finalRatingStatus, dtype: object"
      ]
     },
     "execution_count": 61,
     "metadata": {},
     "output_type": "execute_result"
    }
   ],
   "source": [
    "rated[rated['noteAuthorParticipantId'] == star_author]['finalRatingStatus'].describe()"
   ]
  },
  {
   "cell_type": "markdown",
   "metadata": {},
   "source": [
    "About half of them are rated and all of them are rated helpful! Impressive!"
   ]
  },
  {
   "cell_type": "code",
   "execution_count": 26,
   "metadata": {},
   "outputs": [],
   "source": [
    "#TODO \n",
    "# identify superusers and run analysis on them, instead of the whole authors\n",
    "# how to define a superusers?\n"
   ]
  },
  {
   "cell_type": "markdown",
   "metadata": {},
   "source": [
    "### Q. Rolling share of new vs older authors (6 months rolling window)"
   ]
  },
  {
   "cell_type": "code",
   "execution_count": 8,
   "metadata": {},
   "outputs": [],
   "source": [
    " # what fraction of notes were written by new (less than 3 months in CN) users\n",
    "\n",
    " #create a df from authors and when they joined\n",
    "authors = notes.groupby('noteAuthorParticipantId')[['createdAt', 'createdAtYear', 'createdAtMonth']]\\\n",
    "    .first().reset_index()\n",
    "# sort by date and make it the index, so the search would be easier\n",
    "authors.sort_values(by='createdAt', inplace=True)\n",
    "authors.set_index('createdAt', inplace=True)"
   ]
  },
  {
   "cell_type": "code",
   "execution_count": 5,
   "metadata": {},
   "outputs": [],
   "source": [
    "share_new_authors = dict()\n",
    "# start from Jan 2023\n",
    "df = notes[notes.createdAt >= pd.Timestamp(2023, 1, 1)]\n",
    "df_monthly = df.groupby(['createdAtYear', 'createdAtMonth'])['noteAuthorParticipantId']\n",
    "for (year, month), notes_month in df_monthly:\n",
    "    # count notes by new authors\n",
    "    if_new = 0\n",
    "    current_month = pd.Timestamp(year, month, 1)\n",
    "    # create a list of authors joined in the past 3 months\n",
    "    authors_new = authors.loc[(current_month - pd.DateOffset(months=3)): current_month]\\\n",
    "        ['noteAuthorParticipantId'].to_list()\n",
    "    for author, count in notes_month.value_counts().items():\n",
    "        if author in authors_new:\n",
    "            if_new += count\n",
    "\n",
    "    share_new_authors[(year, month)] = if_new / len(notes_month)"
   ]
  },
  {
   "cell_type": "code",
   "execution_count": null,
   "metadata": {},
   "outputs": [],
   "source": [
    "#save share_new_authors\n",
    "with open('share_new_authors_3.pkl', 'wb') as f:\n",
    "    pickle.dump(share_new_authors, f)\n"
   ]
  },
  {
   "cell_type": "code",
   "execution_count": 3,
   "metadata": {},
   "outputs": [],
   "source": [
    "# load share_new_authors\n",
    "with open('share_new_authors_3.pkl', 'rb') as f:\n",
    "    share_new_authors = pickle.load(f)"
   ]
  },
  {
   "cell_type": "code",
   "execution_count": 36,
   "metadata": {},
   "outputs": [
    {
     "data": {
      "text/plain": [
       "[]"
      ]
     },
     "execution_count": 36,
     "metadata": {},
     "output_type": "execute_result"
    },
    {
     "data": {
      "image/png": "[encoded data removed]",
      "text/plain": [
       "<Figure size 640x480 with 1 Axes>"
      ]
     },
     "metadata": {},
     "output_type": "display_data"
    }
   ],
   "source": [
    "ax = plt.subplot()\n",
    "\n",
    "sns.lineplot(x=range(len(share_new_authors)), y=share_new_authors.values())\n",
    "x_labels = [calendar.month_abbr[month] for (year, month) in share_new_authors.keys()]\n",
    "x_locs = [i for i in range(len(x_labels))]\n",
    "ax.set_xticks(x_locs)\n",
    "ax.set_xticklabels(x_labels)\n",
    "for label in ax.xaxis.get_ticklabels()[1::2]:\n",
    "    label.set_visible(False)\n",
    "# add years\n",
    "for idx, year in enumerate(range(2023,2025)):\n",
    "    ax.text(idx*.5 -.02, -.1, str(year), size=11, color='#444', transform=ax.transAxes)\n",
    "# ax.set_xlabel('Time')\n",
    "ax.set_ylabel('Share of new authors')\n",
    "ax.set_title('Proportion of notes written by new authors\\n (joined in the past 3 months)')\n",
    "plt.plot()"
   ]
  },
  {
   "cell_type": "code",
   "execution_count": null,
   "metadata": {},
   "outputs": [],
   "source": [
    "# Redo analysis with 6 months\n",
    "share_new_authors_6 = dict()\n",
    "# start from Jan 2023\n",
    "df = notes[notes.createdAt >= pd.Timestamp(2023, 1, 1)]\n",
    "df_monthly = df.groupby(['createdAtYear', 'createdAtMonth'])['noteAuthorParticipantId']\n",
    "for (year, month), notes_month in df_monthly:\n",
    "    # count notes by new authors\n",
    "    if_new = 0\n",
    "    current_month = pd.Timestamp(year, month, 1)\n",
    "    # create a list of authors joined in the past 6 months\n",
    "    authors_new = authors.loc[(current_month - pd.DateOffset(months=6)): current_month]\\\n",
    "        ['noteAuthorParticipantId'].to_list()\n",
    "    for author, count in notes_month.value_counts().items():\n",
    "        if author in authors_new:\n",
    "            if_new += count\n",
    "\n",
    "    share_new_authors_6[(year, month)] = if_new / len(notes_month)\n",
    "#save share_new_authors\n",
    "with open('share_new_authors_6.pkl', 'wb') as f:\n",
    "    pickle.dump(share_new_authors_6, f)"
   ]
  },
  {
   "cell_type": "code",
   "execution_count": null,
   "metadata": {},
   "outputs": [
    {
     "data": {
      "text/plain": [
       "[]"
      ]
     },
     "execution_count": 37,
     "metadata": {},
     "output_type": "execute_result"
    },
    {
     "data": {
      "image/png": "[encoded data removed]",
      "text/plain": [
       "<Figure size 640x480 with 1 Axes>"
      ]
     },
     "metadata": {},
     "output_type": "display_data"
    }
   ],
   "source": [
    "# load share_new_authors\n",
    "with open('share_new_authors_6.pkl', 'rb') as f:\n",
    "    share_new_authors_6 = pickle.load(f)\n",
    "ax = plt.subplot()\n",
    "\n",
    "sns.lineplot(x=range(len(share_new_authors_6)), y=share_new_authors_6.values())\n",
    "x_labels = [calendar.month_abbr[month] for (year, month) in share_new_authors_6.keys()]\n",
    "x_locs = [i for i in range(len(x_labels))]\n",
    "ax.set_xticks(x_locs)\n",
    "ax.set_xticklabels(x_labels)\n",
    "for label in ax.xaxis.get_ticklabels()[1::2]:\n",
    "    label.set_visible(False)\n",
    "# add years\n",
    "for idx, year in enumerate(range(2023,2025)):\n",
    "    ax.text(idx*.5 -.02, -.1, str(year), size=11, color='#444', transform=ax.transAxes)\n",
    "# ax.set_xlabel('Time')\n",
    "ax.set_ylabel('Share of new authors')\n",
    "ax.set_title('Proportion of notes written by new authors\\n (joined in the past 6 months)')\n",
    "plt.plot()"
   ]
  },
  {
   "cell_type": "markdown",
   "metadata": {},
   "source": [
    "### Cumulative note authors vs 10+ note authors over time"
   ]
  },
  {
   "cell_type": "code",
   "execution_count": 45,
   "metadata": {},
   "outputs": [],
   "source": [
    "# cumulative number of authors\n",
    "cum_authors_monthly = notes.groupby('noteAuthorParticipantId').first()\\\n",
    "    .reset_index()\\\n",
    "    .groupby(['createdAtYear', 'createdAtMonth'])['noteId'].nunique()\\\n",
    "        .reset_index()\n",
    "cum_authors_monthly['cum_authors'] = cum_authors_monthly['noteId'].cumsum()\n",
    "cum_authors_monthly.rename(columns={'noteId': 'count'}, inplace=True)"
   ]
  },
  {
   "cell_type": "code",
   "execution_count": 98,
   "metadata": {},
   "outputs": [],
   "source": [
    "# cumulative number of authors with more than 10 notes\n",
    "df_10 = notes[notes.groupby('noteAuthorParticipantId')['noteAuthorParticipantId'].transform('size').gt(9)]\n",
    "cum_authors_monthly_10 = df_10.groupby('noteAuthorParticipantId').first()\\\n",
    "    .reset_index()\\\n",
    "    .groupby(['createdAtYear', 'createdAtMonth'])['noteId'].nunique()\\\n",
    "        .reset_index()\n",
    "cum_authors_monthly_10['cum_authors'] = cum_authors_monthly_10['noteId'].cumsum()\n",
    "cum_authors_monthly_10.rename(columns={'noteId': 'count'}, inplace=True)"
   ]
  },
  {
   "cell_type": "code",
   "execution_count": 100,
   "metadata": {},
   "outputs": [
    {
     "data": {
      "text/plain": [
       "[]"
      ]
     },
     "execution_count": 100,
     "metadata": {},
     "output_type": "execute_result"
    },
    {
     "data": {
      "image/png": "[encoded data removed]",
      "text/plain": [
       "<Figure size 640x480 with 1 Axes>"
      ]
     },
     "metadata": {},
     "output_type": "display_data"
    }
   ],
   "source": [
    "ax = sns.lineplot(x=range(len(cum_authors_monthly)), y=cum_authors_monthly['cum_authors'])\n",
    "# add authors with more than 10 notes\n",
    "sns.lineplot(x=range(len(cum_authors_monthly_10)), y=cum_authors_monthly_10['cum_authors'])\n",
    "x_labels = [calendar.month_abbr[month] for month in cum_authors_monthly['createdAtMonth']]\n",
    "x_locs = [i for i in range(len(x_labels))]\n",
    "# ax.get_xaxis().set_visible(False)\n",
    "ax.set_xticks(x_locs[::3])\n",
    "ax.set_xticklabels(x_labels[::3])\n",
    "\n",
    "# add years\n",
    "for idx, year in enumerate(range(2021,2025)):\n",
    "    ax.text(idx*.23 +.02, -.1, str(year), size=11, color='#444', transform=ax.transAxes)\n",
    "ax.text(33, 200000, f'Total Number of\\n Note Authors', color='tab:blue')\n",
    "ax.text(34, 35000, f'Number of Authors\\nWith 10+ Notes', color='#ff7f0e')\n",
    "# ax.set_xlabel('Time')\n",
    "ax.set_ylabel('Count Authors')\n",
    "# ax.set_title('Proportion of notes written by new authors\\n (joined in the past 6 months)')\n",
    "plt.plot()"
   ]
  },
  {
   "cell_type": "markdown",
   "metadata": {},
   "source": [
    "Proportion of these two lines is not obvious. Let's make it in numbers."
   ]
  },
  {
   "cell_type": "code",
   "execution_count": 105,
   "metadata": {},
   "outputs": [
    {
     "data": {
      "image/png": "[encoded data removed]",
      "text/plain": [
       "<Figure size 640x480 with 1 Axes>"
      ]
     },
     "metadata": {},
     "output_type": "display_data"
    }
   ],
   "source": [
    "proportion_10_plus = cum_authors_monthly_10['cum_authors'] / cum_authors_monthly['cum_authors']\n",
    "ax = sns.lineplot(x=range(len(cum_authors_monthly)), y=proportion_10_plus)\n",
    "x_labels = [calendar.month_abbr[month] for month in cum_authors_monthly['createdAtMonth']]\n",
    "x_locs = [i for i in range(len(x_labels))]\n",
    "# ax.get_xaxis().set_visible(False)\n",
    "ax.set_xticks(x_locs[::3])\n",
    "ax.set_xticklabels(x_labels[::3])\n",
    "\n",
    "# add years\n",
    "for idx, year in enumerate(range(2021,2025)):\n",
    "    ax.text(idx*.23 +.02, -.1, str(year), size=11, color='#444', transform=ax.transAxes)\n",
    "\n",
    "ax.set_ylabel('Proportion of 10+ Note Authors to All')\n",
    "plt.show()"
   ]
  }
 ],
 "metadata": {
  "kernelspec": {
   "display_name": ".env",
   "language": "python",
   "name": "python3"
  },
  "language_info": {
   "codemirror_mode": {
    "name": "ipython",
    "version": 3
   },
   "file_extension": ".py",
   "mimetype": "text/x-python",
   "name": "python",
   "nbconvert_exporter": "python",
   "pygments_lexer": "ipython3",
   "version": "3.10.12"
  }
 },
 "nbformat": 4,
 "nbformat_minor": 2
}
