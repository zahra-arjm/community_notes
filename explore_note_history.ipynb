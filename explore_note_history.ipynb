{
 "cells": [
  {
   "cell_type": "code",
   "execution_count": 1,
   "id": "5d820b3b",
   "metadata": {},
   "outputs": [],
   "source": [
    "import pandas as pd"
   ]
  },
  {
   "cell_type": "code",
   "execution_count": null,
   "id": "01cd1ea4",
   "metadata": {},
   "outputs": [
    {
     "name": "stderr",
     "output_type": "stream",
     "text": [
      "/tmp/ipykernel_4360/1352657661.py:2: DtypeWarning: Columns (10,19) have mixed types. Specify dtype option on import or set low_memory=False.\n",
      "  note_history = pd.read_csv(n, sep='\\t')\n"
     ]
    }
   ],
   "source": [
    "with open('./noteStatusHistory-00000.tsv', 'r') as n:\n",
    "    note_history = pd.read_csv(n, sep='\\t')\n",
    "\n"
   ]
  },
  {
   "cell_type": "code",
   "execution_count": 6,
   "id": "bfbba1ae",
   "metadata": {},
   "outputs": [],
   "source": [
    "# limit data to the end of 2024\n",
    "# create a column with datetime format\n",
    "note_history['createdAt'] = pd.to_datetime(note_history['createdAtMillis'], unit='ms')\n",
    "note_history = note_history[note_history.createdAt < pd.Timestamp(2025, 1, 1)]"
   ]
  },
  {
   "cell_type": "code",
   "execution_count": 3,
   "id": "778da664",
   "metadata": {},
   "outputs": [
    {
     "data": {
      "text/html": [
       "<div>\n",
       "<style scoped>\n",
       "    .dataframe tbody tr th:only-of-type {\n",
       "        vertical-align: middle;\n",
       "    }\n",
       "\n",
       "    .dataframe tbody tr th {\n",
       "        vertical-align: top;\n",
       "    }\n",
       "\n",
       "    .dataframe thead th {\n",
       "        text-align: right;\n",
       "    }\n",
       "</style>\n",
       "<table border=\"1\" class=\"dataframe\">\n",
       "  <thead>\n",
       "    <tr style=\"text-align: right;\">\n",
       "      <th></th>\n",
       "      <th>noteId</th>\n",
       "      <th>noteAuthorParticipantId</th>\n",
       "      <th>createdAtMillis</th>\n",
       "      <th>timestampMillisOfFirstNonNMRStatus</th>\n",
       "      <th>firstNonNMRStatus</th>\n",
       "      <th>timestampMillisOfCurrentStatus</th>\n",
       "      <th>currentStatus</th>\n",
       "      <th>timestampMillisOfLatestNonNMRStatus</th>\n",
       "      <th>mostRecentNonNMRStatus</th>\n",
       "      <th>timestampMillisOfStatusLock</th>\n",
       "      <th>...</th>\n",
       "      <th>currentExpansionStatus</th>\n",
       "      <th>currentGroupStatus</th>\n",
       "      <th>currentDecidedBy</th>\n",
       "      <th>currentModelingGroup</th>\n",
       "      <th>timestampMillisOfMostRecentStatusChange</th>\n",
       "      <th>timestampMillisOfNmrDueToMinStableCrhTime</th>\n",
       "      <th>currentMultiGroupStatus</th>\n",
       "      <th>currentModelingMultiGroup</th>\n",
       "      <th>timestampMinuteOfFinalScoringOutput</th>\n",
       "      <th>timestampMillisOfFirstNmrDueToMinStableCrhTime</th>\n",
       "    </tr>\n",
       "  </thead>\n",
       "  <tbody>\n",
       "    <tr>\n",
       "      <th>0</th>\n",
       "      <td>1352796878438424576</td>\n",
       "      <td>B021517F4F8F9F372DCD70BB8F8A21A80C12D7EFDE8B2F...</td>\n",
       "      <td>1611366884227</td>\n",
       "      <td>NaN</td>\n",
       "      <td>NaN</td>\n",
       "      <td>1721920068424</td>\n",
       "      <td>NEEDS_MORE_RATINGS</td>\n",
       "      <td>NaN</td>\n",
       "      <td>NaN</td>\n",
       "      <td>1.674003e+12</td>\n",
       "      <td>...</td>\n",
       "      <td>NEEDS_MORE_RATINGS</td>\n",
       "      <td>NEEDS_MORE_RATINGS</td>\n",
       "      <td>CoreModel (v1.1)</td>\n",
       "      <td>13.0</td>\n",
       "      <td>-1</td>\n",
       "      <td>NaN</td>\n",
       "      <td>NaN</td>\n",
       "      <td>NaN</td>\n",
       "      <td>29075279</td>\n",
       "      <td>NaN</td>\n",
       "    </tr>\n",
       "    <tr>\n",
       "      <th>1</th>\n",
       "      <td>1353415873227177985</td>\n",
       "      <td>D4C9EDB464DF2D4A6D8F68CA8D1F86226B50EB9D3B0F33...</td>\n",
       "      <td>1611514464087</td>\n",
       "      <td>NaN</td>\n",
       "      <td>NaN</td>\n",
       "      <td>1721920068424</td>\n",
       "      <td>NEEDS_MORE_RATINGS</td>\n",
       "      <td>NaN</td>\n",
       "      <td>NaN</td>\n",
       "      <td>1.674003e+12</td>\n",
       "      <td>...</td>\n",
       "      <td>NEEDS_MORE_RATINGS</td>\n",
       "      <td>NEEDS_MORE_RATINGS</td>\n",
       "      <td>CoreModel (v1.1)</td>\n",
       "      <td>13.0</td>\n",
       "      <td>-1</td>\n",
       "      <td>NaN</td>\n",
       "      <td>NaN</td>\n",
       "      <td>NaN</td>\n",
       "      <td>29075279</td>\n",
       "      <td>NaN</td>\n",
       "    </tr>\n",
       "    <tr>\n",
       "      <th>2</th>\n",
       "      <td>1354586938863443971</td>\n",
       "      <td>C0AF45F4C4B2240E7AB31456957E5D770FF7AFA13627C7...</td>\n",
       "      <td>1611793667892</td>\n",
       "      <td>NaN</td>\n",
       "      <td>NaN</td>\n",
       "      <td>1721920068424</td>\n",
       "      <td>NEEDS_MORE_RATINGS</td>\n",
       "      <td>NaN</td>\n",
       "      <td>NaN</td>\n",
       "      <td>1.674003e+12</td>\n",
       "      <td>...</td>\n",
       "      <td>NEEDS_MORE_RATINGS</td>\n",
       "      <td>NEEDS_MORE_RATINGS</td>\n",
       "      <td>CoreModel (v1.1)</td>\n",
       "      <td>6.0</td>\n",
       "      <td>-1</td>\n",
       "      <td>NaN</td>\n",
       "      <td>NaN</td>\n",
       "      <td>NaN</td>\n",
       "      <td>29075279</td>\n",
       "      <td>NaN</td>\n",
       "    </tr>\n",
       "    <tr>\n",
       "      <th>3</th>\n",
       "      <td>1354588003075764229</td>\n",
       "      <td>9C480F7B2E882F19F9FBF75BD13FEA53031875AC42FDF6...</td>\n",
       "      <td>1611793921619</td>\n",
       "      <td>NaN</td>\n",
       "      <td>NaN</td>\n",
       "      <td>1721920068424</td>\n",
       "      <td>NEEDS_MORE_RATINGS</td>\n",
       "      <td>NaN</td>\n",
       "      <td>NaN</td>\n",
       "      <td>1.674003e+12</td>\n",
       "      <td>...</td>\n",
       "      <td>NaN</td>\n",
       "      <td>NaN</td>\n",
       "      <td>ExpansionPlusModel (v1.1)</td>\n",
       "      <td>NaN</td>\n",
       "      <td>-1</td>\n",
       "      <td>NaN</td>\n",
       "      <td>NaN</td>\n",
       "      <td>NaN</td>\n",
       "      <td>29075279</td>\n",
       "      <td>NaN</td>\n",
       "    </tr>\n",
       "    <tr>\n",
       "      <th>4</th>\n",
       "      <td>1354588172659920899</td>\n",
       "      <td>931B6CFE7C2FDF3653B0A63DC20DF3C51F8AA3BEB9D613...</td>\n",
       "      <td>1611793962051</td>\n",
       "      <td>NaN</td>\n",
       "      <td>NaN</td>\n",
       "      <td>1721920068424</td>\n",
       "      <td>NEEDS_MORE_RATINGS</td>\n",
       "      <td>NaN</td>\n",
       "      <td>NaN</td>\n",
       "      <td>1.674003e+12</td>\n",
       "      <td>...</td>\n",
       "      <td>NaN</td>\n",
       "      <td>NaN</td>\n",
       "      <td>ExpansionPlusModel (v1.1)</td>\n",
       "      <td>NaN</td>\n",
       "      <td>-1</td>\n",
       "      <td>NaN</td>\n",
       "      <td>NaN</td>\n",
       "      <td>NaN</td>\n",
       "      <td>29075279</td>\n",
       "      <td>NaN</td>\n",
       "    </tr>\n",
       "  </tbody>\n",
       "</table>\n",
       "<p>5 rows × 23 columns</p>\n",
       "</div>"
      ],
      "text/plain": [
       "                noteId                            noteAuthorParticipantId  \\\n",
       "0  1352796878438424576  B021517F4F8F9F372DCD70BB8F8A21A80C12D7EFDE8B2F...   \n",
       "1  1353415873227177985  D4C9EDB464DF2D4A6D8F68CA8D1F86226B50EB9D3B0F33...   \n",
       "2  1354586938863443971  C0AF45F4C4B2240E7AB31456957E5D770FF7AFA13627C7...   \n",
       "3  1354588003075764229  9C480F7B2E882F19F9FBF75BD13FEA53031875AC42FDF6...   \n",
       "4  1354588172659920899  931B6CFE7C2FDF3653B0A63DC20DF3C51F8AA3BEB9D613...   \n",
       "\n",
       "   createdAtMillis  timestampMillisOfFirstNonNMRStatus firstNonNMRStatus  \\\n",
       "0    1611366884227                                 NaN               NaN   \n",
       "1    1611514464087                                 NaN               NaN   \n",
       "2    1611793667892                                 NaN               NaN   \n",
       "3    1611793921619                                 NaN               NaN   \n",
       "4    1611793962051                                 NaN               NaN   \n",
       "\n",
       "   timestampMillisOfCurrentStatus       currentStatus  \\\n",
       "0                   1721920068424  NEEDS_MORE_RATINGS   \n",
       "1                   1721920068424  NEEDS_MORE_RATINGS   \n",
       "2                   1721920068424  NEEDS_MORE_RATINGS   \n",
       "3                   1721920068424  NEEDS_MORE_RATINGS   \n",
       "4                   1721920068424  NEEDS_MORE_RATINGS   \n",
       "\n",
       "   timestampMillisOfLatestNonNMRStatus mostRecentNonNMRStatus  \\\n",
       "0                                  NaN                    NaN   \n",
       "1                                  NaN                    NaN   \n",
       "2                                  NaN                    NaN   \n",
       "3                                  NaN                    NaN   \n",
       "4                                  NaN                    NaN   \n",
       "\n",
       "   timestampMillisOfStatusLock  ... currentExpansionStatus  \\\n",
       "0                 1.674003e+12  ...     NEEDS_MORE_RATINGS   \n",
       "1                 1.674003e+12  ...     NEEDS_MORE_RATINGS   \n",
       "2                 1.674003e+12  ...     NEEDS_MORE_RATINGS   \n",
       "3                 1.674003e+12  ...                    NaN   \n",
       "4                 1.674003e+12  ...                    NaN   \n",
       "\n",
       "   currentGroupStatus           currentDecidedBy currentModelingGroup  \\\n",
       "0  NEEDS_MORE_RATINGS           CoreModel (v1.1)                 13.0   \n",
       "1  NEEDS_MORE_RATINGS           CoreModel (v1.1)                 13.0   \n",
       "2  NEEDS_MORE_RATINGS           CoreModel (v1.1)                  6.0   \n",
       "3                 NaN  ExpansionPlusModel (v1.1)                  NaN   \n",
       "4                 NaN  ExpansionPlusModel (v1.1)                  NaN   \n",
       "\n",
       "  timestampMillisOfMostRecentStatusChange  \\\n",
       "0                                      -1   \n",
       "1                                      -1   \n",
       "2                                      -1   \n",
       "3                                      -1   \n",
       "4                                      -1   \n",
       "\n",
       "  timestampMillisOfNmrDueToMinStableCrhTime  currentMultiGroupStatus  \\\n",
       "0                                       NaN                      NaN   \n",
       "1                                       NaN                      NaN   \n",
       "2                                       NaN                      NaN   \n",
       "3                                       NaN                      NaN   \n",
       "4                                       NaN                      NaN   \n",
       "\n",
       "   currentModelingMultiGroup  timestampMinuteOfFinalScoringOutput  \\\n",
       "0                        NaN                             29075279   \n",
       "1                        NaN                             29075279   \n",
       "2                        NaN                             29075279   \n",
       "3                        NaN                             29075279   \n",
       "4                        NaN                             29075279   \n",
       "\n",
       "  timestampMillisOfFirstNmrDueToMinStableCrhTime  \n",
       "0                                            NaN  \n",
       "1                                            NaN  \n",
       "2                                            NaN  \n",
       "3                                            NaN  \n",
       "4                                            NaN  \n",
       "\n",
       "[5 rows x 23 columns]"
      ]
     },
     "execution_count": 3,
     "metadata": {},
     "output_type": "execute_result"
    }
   ],
   "source": [
    "note_history.head()"
   ]
  },
  {
   "cell_type": "code",
   "execution_count": 4,
   "id": "5097a574",
   "metadata": {},
   "outputs": [
    {
     "data": {
      "text/plain": [
       "Index(['noteId', 'noteAuthorParticipantId', 'createdAtMillis',\n",
       "       'timestampMillisOfFirstNonNMRStatus', 'firstNonNMRStatus',\n",
       "       'timestampMillisOfCurrentStatus', 'currentStatus',\n",
       "       'timestampMillisOfLatestNonNMRStatus', 'mostRecentNonNMRStatus',\n",
       "       'timestampMillisOfStatusLock', 'lockedStatus',\n",
       "       'timestampMillisOfRetroLock', 'currentCoreStatus',\n",
       "       'currentExpansionStatus', 'currentGroupStatus', 'currentDecidedBy',\n",
       "       'currentModelingGroup', 'timestampMillisOfMostRecentStatusChange',\n",
       "       'timestampMillisOfNmrDueToMinStableCrhTime', 'currentMultiGroupStatus',\n",
       "       'currentModelingMultiGroup', 'timestampMinuteOfFinalScoringOutput',\n",
       "       'timestampMillisOfFirstNmrDueToMinStableCrhTime'],\n",
       "      dtype='object')"
      ]
     },
     "execution_count": 4,
     "metadata": {},
     "output_type": "execute_result"
    }
   ],
   "source": [
    "note_history.columns"
   ]
  },
  {
   "cell_type": "code",
   "execution_count": 7,
   "id": "47ddda21",
   "metadata": {},
   "outputs": [
    {
     "data": {
      "text/plain": [
       "1681885"
      ]
     },
     "execution_count": 7,
     "metadata": {},
     "output_type": "execute_result"
    }
   ],
   "source": [
    "len(note_history)"
   ]
  },
  {
   "cell_type": "code",
   "execution_count": 8,
   "id": "5824907e",
   "metadata": {},
   "outputs": [
    {
     "data": {
      "text/plain": [
       "1681885"
      ]
     },
     "execution_count": 8,
     "metadata": {},
     "output_type": "execute_result"
    }
   ],
   "source": [
    "len(note_history['noteId'].unique())"
   ]
  },
  {
   "cell_type": "markdown",
   "id": "72f1e820",
   "metadata": {},
   "source": [
    "It seems like each note has appeared once."
   ]
  },
  {
   "cell_type": "code",
   "execution_count": 16,
   "id": "7a62f068",
   "metadata": {},
   "outputs": [],
   "source": [
    "# cannot operate until we get the updated scored data\n",
    "\n",
    "# # add number of ratings from notes to the note history data\n",
    "# # import note\n",
    "# notes = pd.read_parquet('notes.parquet', engine='auto')\n",
    "\n",
    "# note_history  = pd.merge(note_history, notes[['noteId', ]], how='left', on='noteId')"
   ]
  },
  {
   "cell_type": "markdown",
   "id": "87f19e86",
   "metadata": {},
   "source": [
    "Let's check what proportion of notes has changed status after being NMR (Needs more rating)"
   ]
  },
  {
   "cell_type": "code",
   "execution_count": 9,
   "id": "09e8d6c7",
   "metadata": {},
   "outputs": [
    {
     "data": {
      "text/plain": [
       "np.float64(0.3497397265568098)"
      ]
     },
     "execution_count": 9,
     "metadata": {},
     "output_type": "execute_result"
    }
   ],
   "source": [
    "(note_history['timestampMillisOfMostRecentStatusChange'] != -1).sum() / len(note_history)"
   ]
  },
  {
   "cell_type": "markdown",
   "id": "ce2bf6bb",
   "metadata": {},
   "source": [
    "Wow! 45% have changed status. What percentage are currently not NMR?"
   ]
  },
  {
   "cell_type": "code",
   "execution_count": 10,
   "id": "47d25ab0",
   "metadata": {},
   "outputs": [
    {
     "data": {
      "text/plain": [
       "np.float64(0.1780716279650511)"
      ]
     },
     "execution_count": 10,
     "metadata": {},
     "output_type": "execute_result"
    }
   ],
   "source": [
    "(note_history['mostRecentNonNMRStatus'].notna()).sum() / len(note_history)"
   ]
  },
  {
   "cell_type": "markdown",
   "id": "30294fec",
   "metadata": {},
   "source": [
    "At the moment only 18% have a status of not NMR (\"helpful\" or \"not helpful\") "
   ]
  },
  {
   "cell_type": "markdown",
   "id": "567b48b7",
   "metadata": {},
   "source": [
    "Check what proportion of notes have never changed status after receiving helpful/not helpful labels:"
   ]
  },
  {
   "cell_type": "code",
   "execution_count": 11,
   "id": "c603648b",
   "metadata": {},
   "outputs": [
    {
     "data": {
      "text/plain": [
       "np.float64(0.03000740240860701)"
      ]
     },
     "execution_count": 11,
     "metadata": {},
     "output_type": "execute_result"
    }
   ],
   "source": [
    "(note_history['timestampMillisOfMostRecentStatusChange'] == note_history['timestampMillisOfFirstNonNMRStatus']).sum()\\\n",
    " / len(note_history)"
   ]
  },
  {
   "cell_type": "code",
   "execution_count": null,
   "id": "07a5fdb7",
   "metadata": {},
   "outputs": [],
   "source": [
    "(note_history['timestampMillisOfMostRecentStatusChange'] == note_history['timestampMillisOfFirstNonNMRStatus']).sum()\\\n",
    " / len(note_history[note_history['mostRecentNonNMRStatus'].notna()])"
   ]
  },
  {
   "cell_type": "markdown",
   "id": "6790291d",
   "metadata": {},
   "source": [
    "About 4% haven't changed status. The figure changes to 21% of the notes which had a non NMR status at some point."
   ]
  },
  {
   "cell_type": "code",
   "execution_count": 29,
   "id": "140d3f9a",
   "metadata": {},
   "outputs": [
    {
     "data": {
      "text/html": [
       "<div>\n",
       "<style scoped>\n",
       "    .dataframe tbody tr th:only-of-type {\n",
       "        vertical-align: middle;\n",
       "    }\n",
       "\n",
       "    .dataframe tbody tr th {\n",
       "        vertical-align: top;\n",
       "    }\n",
       "\n",
       "    .dataframe thead th {\n",
       "        text-align: right;\n",
       "    }\n",
       "</style>\n",
       "<table border=\"1\" class=\"dataframe\">\n",
       "  <thead>\n",
       "    <tr style=\"text-align: right;\">\n",
       "      <th></th>\n",
       "      <th>mostRecentNonNMRStatus</th>\n",
       "      <th>timestampMillisOfCurrentStatus</th>\n",
       "      <th>timestampMillisOfFirstNonNMRStatus</th>\n",
       "      <th>timestampMillisOfMostRecentStatusChange</th>\n",
       "    </tr>\n",
       "  </thead>\n",
       "  <tbody>\n",
       "    <tr>\n",
       "      <th>227429</th>\n",
       "      <td>CURRENTLY_RATED_HELPFUL</td>\n",
       "      <td>1721920068424</td>\n",
       "      <td>1.693207e+12</td>\n",
       "      <td>-1</td>\n",
       "    </tr>\n",
       "    <tr>\n",
       "      <th>506311</th>\n",
       "      <td>CURRENTLY_RATED_NOT_HELPFUL</td>\n",
       "      <td>1721920068424</td>\n",
       "      <td>1.704140e+12</td>\n",
       "      <td>-1</td>\n",
       "    </tr>\n",
       "    <tr>\n",
       "      <th>1691234</th>\n",
       "      <td>CURRENTLY_RATED_HELPFUL</td>\n",
       "      <td>1737133638589</td>\n",
       "      <td>1.735925e+12</td>\n",
       "      <td>1735925169620</td>\n",
       "    </tr>\n",
       "    <tr>\n",
       "      <th>674878</th>\n",
       "      <td>CURRENTLY_RATED_NOT_HELPFUL</td>\n",
       "      <td>1721920068424</td>\n",
       "      <td>1.708721e+12</td>\n",
       "      <td>-1</td>\n",
       "    </tr>\n",
       "    <tr>\n",
       "      <th>1145300</th>\n",
       "      <td>CURRENTLY_RATED_HELPFUL</td>\n",
       "      <td>1727367341449</td>\n",
       "      <td>1.721030e+12</td>\n",
       "      <td>1721029680161</td>\n",
       "    </tr>\n",
       "    <tr>\n",
       "      <th>...</th>\n",
       "      <td>...</td>\n",
       "      <td>...</td>\n",
       "      <td>...</td>\n",
       "      <td>...</td>\n",
       "    </tr>\n",
       "    <tr>\n",
       "      <th>1613698</th>\n",
       "      <td>CURRENTLY_RATED_NOT_HELPFUL</td>\n",
       "      <td>1735007381717</td>\n",
       "      <td>1.733844e+12</td>\n",
       "      <td>1733886913914</td>\n",
       "    </tr>\n",
       "    <tr>\n",
       "      <th>382838</th>\n",
       "      <td>CURRENTLY_RATED_HELPFUL</td>\n",
       "      <td>1721920068424</td>\n",
       "      <td>1.700194e+12</td>\n",
       "      <td>-1</td>\n",
       "    </tr>\n",
       "    <tr>\n",
       "      <th>879767</th>\n",
       "      <td>CURRENTLY_RATED_HELPFUL</td>\n",
       "      <td>1721920068424</td>\n",
       "      <td>1.714707e+12</td>\n",
       "      <td>-1</td>\n",
       "    </tr>\n",
       "    <tr>\n",
       "      <th>1905781</th>\n",
       "      <td>CURRENTLY_RATED_HELPFUL</td>\n",
       "      <td>1742894639815</td>\n",
       "      <td>1.741705e+12</td>\n",
       "      <td>1741759647875</td>\n",
       "    </tr>\n",
       "    <tr>\n",
       "      <th>1046132</th>\n",
       "      <td>CURRENTLY_RATED_HELPFUL</td>\n",
       "      <td>1721920068424</td>\n",
       "      <td>1.718728e+12</td>\n",
       "      <td>-1</td>\n",
       "    </tr>\n",
       "  </tbody>\n",
       "</table>\n",
       "<p>100 rows × 4 columns</p>\n",
       "</div>"
      ],
      "text/plain": [
       "              mostRecentNonNMRStatus  timestampMillisOfCurrentStatus  \\\n",
       "227429       CURRENTLY_RATED_HELPFUL                   1721920068424   \n",
       "506311   CURRENTLY_RATED_NOT_HELPFUL                   1721920068424   \n",
       "1691234      CURRENTLY_RATED_HELPFUL                   1737133638589   \n",
       "674878   CURRENTLY_RATED_NOT_HELPFUL                   1721920068424   \n",
       "1145300      CURRENTLY_RATED_HELPFUL                   1727367341449   \n",
       "...                              ...                             ...   \n",
       "1613698  CURRENTLY_RATED_NOT_HELPFUL                   1735007381717   \n",
       "382838       CURRENTLY_RATED_HELPFUL                   1721920068424   \n",
       "879767       CURRENTLY_RATED_HELPFUL                   1721920068424   \n",
       "1905781      CURRENTLY_RATED_HELPFUL                   1742894639815   \n",
       "1046132      CURRENTLY_RATED_HELPFUL                   1721920068424   \n",
       "\n",
       "         timestampMillisOfFirstNonNMRStatus  \\\n",
       "227429                         1.693207e+12   \n",
       "506311                         1.704140e+12   \n",
       "1691234                        1.735925e+12   \n",
       "674878                         1.708721e+12   \n",
       "1145300                        1.721030e+12   \n",
       "...                                     ...   \n",
       "1613698                        1.733844e+12   \n",
       "382838                         1.700194e+12   \n",
       "879767                         1.714707e+12   \n",
       "1905781                        1.741705e+12   \n",
       "1046132                        1.718728e+12   \n",
       "\n",
       "         timestampMillisOfMostRecentStatusChange  \n",
       "227429                                        -1  \n",
       "506311                                        -1  \n",
       "1691234                            1735925169620  \n",
       "674878                                        -1  \n",
       "1145300                            1721029680161  \n",
       "...                                          ...  \n",
       "1613698                            1733886913914  \n",
       "382838                                        -1  \n",
       "879767                                        -1  \n",
       "1905781                            1741759647875  \n",
       "1046132                                       -1  \n",
       "\n",
       "[100 rows x 4 columns]"
      ]
     },
     "execution_count": 29,
     "metadata": {},
     "output_type": "execute_result"
    }
   ],
   "source": [
    "df = note_history\\\n",
    "    [note_history['mostRecentNonNMRStatus'].notna()]\\\n",
    "    .sample(n=100, random_state=2025)\n",
    "df[['mostRecentNonNMRStatus', 'timestampMillisOfCurrentStatus','timestampMillisOfFirstNonNMRStatus','timestampMillisOfMostRecentStatusChange']]"
   ]
  },
  {
   "cell_type": "markdown",
   "id": "19bae1c4",
   "metadata": {},
   "source": [
    "Seems like we can divide notes into 4 groups:\n",
    "* Published, never changed status -> helpful ones, with no change in status\n",
    "* Published, had changed status -> currently helpful, had changed status at some point\n",
    "* Unpublished, never changed status after first nonNMR or never left NMR -> they could either need more rating, or labeled as unhelpful.\n",
    "* Unpublished, had changed status -> they have enough ratings (more than 5), could be helpful or unhelpful or NMR\n",
    "\n",
    "Let's see their distribution and characteristics"
   ]
  },
  {
   "cell_type": "code",
   "execution_count": 24,
   "id": "139d1e12",
   "metadata": {},
   "outputs": [],
   "source": [
    "helpful_no_change = note_history \\\n",
    "                    [(note_history['timestampMillisOfMostRecentStatusChange'] == \\\n",
    "                    note_history['timestampMillisOfFirstNonNMRStatus']) & \\\n",
    "                        (note_history['currentStatus'] == 'CURRENTLY_RATED_HELPFUL')]\n",
    "currently_hepful_with_change = note_history \\\n",
    "                    [(note_history['timestampMillisOfMostRecentStatusChange'] != \\\n",
    "                    note_history['timestampMillisOfFirstNonNMRStatus']) & \\\n",
    "                        (note_history['currentStatus'] == 'CURRENTLY_RATED_HELPFUL')]\n",
    "# TODO\n",
    "# less_than_5_rating = \n",
    "never_left_NMR = note_history[note_history['timestampMillisOfFirstNonNMRStatus'].isna()]\n",
    "currently_NMR_but_labeled_before = note_history\\\n",
    "        [(note_history['timestampMillisOfFirstNonNMRStatus'].notna()) & \\\n",
    "         (note_history['currentStatus'] == 'NEEDS_MORE_RATINGS')]\n",
    "unhelpful_no_change = note_history \\\n",
    "                    [(note_history['timestampMillisOfMostRecentStatusChange'] == \\\n",
    "                    note_history['timestampMillisOfFirstNonNMRStatus']) & \\\n",
    "                        (note_history['currentStatus'] == 'CURRENTLY_RATED_NOT_HELPFUL')]\n"
   ]
  },
  {
   "cell_type": "code",
   "execution_count": 25,
   "id": "d6e736f4",
   "metadata": {},
   "outputs": [],
   "source": [
    "df_pub_no_change = helpful_no_change\n",
    "\n",
    "df_pub_with_change = currently_hepful_with_change\n",
    "\n",
    "df_unpub_no_change = never_left_NMR\n",
    "\n",
    "df_unpub_with_change = pd.concat([currently_NMR_but_labeled_before, unhelpful_no_change])\n",
    "\n"
   ]
  },
  {
   "cell_type": "code",
   "execution_count": 5,
   "id": "2f15f1b8",
   "metadata": {},
   "outputs": [
    {
     "data": {
      "text/plain": [
       "0.03830947367143455"
      ]
     },
     "execution_count": 5,
     "metadata": {},
     "output_type": "execute_result"
    }
   ],
   "source": [
    "len(df_pub_no_change) / len(note_history)"
   ]
  },
  {
   "cell_type": "code",
   "execution_count": 21,
   "id": "64137ad8",
   "metadata": {},
   "outputs": [
    {
     "data": {
      "text/plain": [
       "array(['NEEDS_MORE_RATINGS', 'CURRENTLY_RATED_NOT_HELPFUL',\n",
       "       'CURRENTLY_RATED_HELPFUL'], dtype=object)"
      ]
     },
     "execution_count": 21,
     "metadata": {},
     "output_type": "execute_result"
    }
   ],
   "source": [
    "note_history['currentStatus'].unique()"
   ]
  },
  {
   "cell_type": "code",
   "execution_count": null,
   "id": "c567ef12",
   "metadata": {},
   "outputs": [],
   "source": []
  }
 ],
 "metadata": {
  "kernelspec": {
   "display_name": ".env",
   "language": "python",
   "name": "python3"
  },
  "language_info": {
   "codemirror_mode": {
    "name": "ipython",
    "version": 3
   },
   "file_extension": ".py",
   "mimetype": "text/x-python",
   "name": "python",
   "nbconvert_exporter": "python",
   "pygments_lexer": "ipython3",
   "version": "3.10.12"
  }
 },
 "nbformat": 4,
 "nbformat_minor": 5
}
