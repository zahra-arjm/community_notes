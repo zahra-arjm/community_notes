{
 "cells": [
  {
   "cell_type": "code",
   "execution_count": 1,
   "id": "5d820b3b",
   "metadata": {},
   "outputs": [],
   "source": [
    "import pandas as pd"
   ]
  },
  {
   "cell_type": "code",
   "execution_count": 2,
   "id": "01cd1ea4",
   "metadata": {},
   "outputs": [
    {
     "name": "stderr",
     "output_type": "stream",
     "text": [
      "/tmp/ipykernel_4826/1352657661.py:2: DtypeWarning: Columns (10,19) have mixed types. Specify dtype option on import or set low_memory=False.\n",
      "  note_history = pd.read_csv(n, sep='\\t')\n"
     ]
    }
   ],
   "source": [
    "with open('./noteStatusHistory-00000.tsv', 'r') as n:\n",
    "    note_history = pd.read_csv(n, sep='\\t')"
   ]
  },
  {
   "cell_type": "code",
   "execution_count": 3,
   "id": "778da664",
   "metadata": {},
   "outputs": [
    {
     "data": {
      "text/html": [
       "<div>\n",
       "<style scoped>\n",
       "    .dataframe tbody tr th:only-of-type {\n",
       "        vertical-align: middle;\n",
       "    }\n",
       "\n",
       "    .dataframe tbody tr th {\n",
       "        vertical-align: top;\n",
       "    }\n",
       "\n",
       "    .dataframe thead th {\n",
       "        text-align: right;\n",
       "    }\n",
       "</style>\n",
       "<table border=\"1\" class=\"dataframe\">\n",
       "  <thead>\n",
       "    <tr style=\"text-align: right;\">\n",
       "      <th></th>\n",
       "      <th>noteId</th>\n",
       "      <th>noteAuthorParticipantId</th>\n",
       "      <th>createdAtMillis</th>\n",
       "      <th>timestampMillisOfFirstNonNMRStatus</th>\n",
       "      <th>firstNonNMRStatus</th>\n",
       "      <th>timestampMillisOfCurrentStatus</th>\n",
       "      <th>currentStatus</th>\n",
       "      <th>timestampMillisOfLatestNonNMRStatus</th>\n",
       "      <th>mostRecentNonNMRStatus</th>\n",
       "      <th>timestampMillisOfStatusLock</th>\n",
       "      <th>...</th>\n",
       "      <th>currentExpansionStatus</th>\n",
       "      <th>currentGroupStatus</th>\n",
       "      <th>currentDecidedBy</th>\n",
       "      <th>currentModelingGroup</th>\n",
       "      <th>timestampMillisOfMostRecentStatusChange</th>\n",
       "      <th>timestampMillisOfNmrDueToMinStableCrhTime</th>\n",
       "      <th>currentMultiGroupStatus</th>\n",
       "      <th>currentModelingMultiGroup</th>\n",
       "      <th>timestampMinuteOfFinalScoringOutput</th>\n",
       "      <th>timestampMillisOfFirstNmrDueToMinStableCrhTime</th>\n",
       "    </tr>\n",
       "  </thead>\n",
       "  <tbody>\n",
       "    <tr>\n",
       "      <th>0</th>\n",
       "      <td>1352796878438424576</td>\n",
       "      <td>B021517F4F8F9F372DCD70BB8F8A21A80C12D7EFDE8B2F...</td>\n",
       "      <td>1611366884227</td>\n",
       "      <td>NaN</td>\n",
       "      <td>NaN</td>\n",
       "      <td>1721920068424</td>\n",
       "      <td>NEEDS_MORE_RATINGS</td>\n",
       "      <td>NaN</td>\n",
       "      <td>NaN</td>\n",
       "      <td>1.674003e+12</td>\n",
       "      <td>...</td>\n",
       "      <td>NEEDS_MORE_RATINGS</td>\n",
       "      <td>NEEDS_MORE_RATINGS</td>\n",
       "      <td>CoreModel (v1.1)</td>\n",
       "      <td>13.0</td>\n",
       "      <td>-1</td>\n",
       "      <td>NaN</td>\n",
       "      <td>NaN</td>\n",
       "      <td>NaN</td>\n",
       "      <td>29075279</td>\n",
       "      <td>NaN</td>\n",
       "    </tr>\n",
       "    <tr>\n",
       "      <th>1</th>\n",
       "      <td>1353415873227177985</td>\n",
       "      <td>D4C9EDB464DF2D4A6D8F68CA8D1F86226B50EB9D3B0F33...</td>\n",
       "      <td>1611514464087</td>\n",
       "      <td>NaN</td>\n",
       "      <td>NaN</td>\n",
       "      <td>1721920068424</td>\n",
       "      <td>NEEDS_MORE_RATINGS</td>\n",
       "      <td>NaN</td>\n",
       "      <td>NaN</td>\n",
       "      <td>1.674003e+12</td>\n",
       "      <td>...</td>\n",
       "      <td>NEEDS_MORE_RATINGS</td>\n",
       "      <td>NEEDS_MORE_RATINGS</td>\n",
       "      <td>CoreModel (v1.1)</td>\n",
       "      <td>13.0</td>\n",
       "      <td>-1</td>\n",
       "      <td>NaN</td>\n",
       "      <td>NaN</td>\n",
       "      <td>NaN</td>\n",
       "      <td>29075279</td>\n",
       "      <td>NaN</td>\n",
       "    </tr>\n",
       "    <tr>\n",
       "      <th>2</th>\n",
       "      <td>1354586938863443971</td>\n",
       "      <td>C0AF45F4C4B2240E7AB31456957E5D770FF7AFA13627C7...</td>\n",
       "      <td>1611793667892</td>\n",
       "      <td>NaN</td>\n",
       "      <td>NaN</td>\n",
       "      <td>1721920068424</td>\n",
       "      <td>NEEDS_MORE_RATINGS</td>\n",
       "      <td>NaN</td>\n",
       "      <td>NaN</td>\n",
       "      <td>1.674003e+12</td>\n",
       "      <td>...</td>\n",
       "      <td>NEEDS_MORE_RATINGS</td>\n",
       "      <td>NEEDS_MORE_RATINGS</td>\n",
       "      <td>CoreModel (v1.1)</td>\n",
       "      <td>6.0</td>\n",
       "      <td>-1</td>\n",
       "      <td>NaN</td>\n",
       "      <td>NaN</td>\n",
       "      <td>NaN</td>\n",
       "      <td>29075279</td>\n",
       "      <td>NaN</td>\n",
       "    </tr>\n",
       "    <tr>\n",
       "      <th>3</th>\n",
       "      <td>1354588003075764229</td>\n",
       "      <td>9C480F7B2E882F19F9FBF75BD13FEA53031875AC42FDF6...</td>\n",
       "      <td>1611793921619</td>\n",
       "      <td>NaN</td>\n",
       "      <td>NaN</td>\n",
       "      <td>1721920068424</td>\n",
       "      <td>NEEDS_MORE_RATINGS</td>\n",
       "      <td>NaN</td>\n",
       "      <td>NaN</td>\n",
       "      <td>1.674003e+12</td>\n",
       "      <td>...</td>\n",
       "      <td>NaN</td>\n",
       "      <td>NaN</td>\n",
       "      <td>ExpansionPlusModel (v1.1)</td>\n",
       "      <td>NaN</td>\n",
       "      <td>-1</td>\n",
       "      <td>NaN</td>\n",
       "      <td>NaN</td>\n",
       "      <td>NaN</td>\n",
       "      <td>29075279</td>\n",
       "      <td>NaN</td>\n",
       "    </tr>\n",
       "    <tr>\n",
       "      <th>4</th>\n",
       "      <td>1354588172659920899</td>\n",
       "      <td>931B6CFE7C2FDF3653B0A63DC20DF3C51F8AA3BEB9D613...</td>\n",
       "      <td>1611793962051</td>\n",
       "      <td>NaN</td>\n",
       "      <td>NaN</td>\n",
       "      <td>1721920068424</td>\n",
       "      <td>NEEDS_MORE_RATINGS</td>\n",
       "      <td>NaN</td>\n",
       "      <td>NaN</td>\n",
       "      <td>1.674003e+12</td>\n",
       "      <td>...</td>\n",
       "      <td>NaN</td>\n",
       "      <td>NaN</td>\n",
       "      <td>ExpansionPlusModel (v1.1)</td>\n",
       "      <td>NaN</td>\n",
       "      <td>-1</td>\n",
       "      <td>NaN</td>\n",
       "      <td>NaN</td>\n",
       "      <td>NaN</td>\n",
       "      <td>29075279</td>\n",
       "      <td>NaN</td>\n",
       "    </tr>\n",
       "  </tbody>\n",
       "</table>\n",
       "<p>5 rows × 23 columns</p>\n",
       "</div>"
      ],
      "text/plain": [
       "                noteId                            noteAuthorParticipantId  \\\n",
       "0  1352796878438424576  B021517F4F8F9F372DCD70BB8F8A21A80C12D7EFDE8B2F...   \n",
       "1  1353415873227177985  D4C9EDB464DF2D4A6D8F68CA8D1F86226B50EB9D3B0F33...   \n",
       "2  1354586938863443971  C0AF45F4C4B2240E7AB31456957E5D770FF7AFA13627C7...   \n",
       "3  1354588003075764229  9C480F7B2E882F19F9FBF75BD13FEA53031875AC42FDF6...   \n",
       "4  1354588172659920899  931B6CFE7C2FDF3653B0A63DC20DF3C51F8AA3BEB9D613...   \n",
       "\n",
       "   createdAtMillis  timestampMillisOfFirstNonNMRStatus firstNonNMRStatus  \\\n",
       "0    1611366884227                                 NaN               NaN   \n",
       "1    1611514464087                                 NaN               NaN   \n",
       "2    1611793667892                                 NaN               NaN   \n",
       "3    1611793921619                                 NaN               NaN   \n",
       "4    1611793962051                                 NaN               NaN   \n",
       "\n",
       "   timestampMillisOfCurrentStatus       currentStatus  \\\n",
       "0                   1721920068424  NEEDS_MORE_RATINGS   \n",
       "1                   1721920068424  NEEDS_MORE_RATINGS   \n",
       "2                   1721920068424  NEEDS_MORE_RATINGS   \n",
       "3                   1721920068424  NEEDS_MORE_RATINGS   \n",
       "4                   1721920068424  NEEDS_MORE_RATINGS   \n",
       "\n",
       "   timestampMillisOfLatestNonNMRStatus mostRecentNonNMRStatus  \\\n",
       "0                                  NaN                    NaN   \n",
       "1                                  NaN                    NaN   \n",
       "2                                  NaN                    NaN   \n",
       "3                                  NaN                    NaN   \n",
       "4                                  NaN                    NaN   \n",
       "\n",
       "   timestampMillisOfStatusLock  ... currentExpansionStatus  \\\n",
       "0                 1.674003e+12  ...     NEEDS_MORE_RATINGS   \n",
       "1                 1.674003e+12  ...     NEEDS_MORE_RATINGS   \n",
       "2                 1.674003e+12  ...     NEEDS_MORE_RATINGS   \n",
       "3                 1.674003e+12  ...                    NaN   \n",
       "4                 1.674003e+12  ...                    NaN   \n",
       "\n",
       "   currentGroupStatus           currentDecidedBy currentModelingGroup  \\\n",
       "0  NEEDS_MORE_RATINGS           CoreModel (v1.1)                 13.0   \n",
       "1  NEEDS_MORE_RATINGS           CoreModel (v1.1)                 13.0   \n",
       "2  NEEDS_MORE_RATINGS           CoreModel (v1.1)                  6.0   \n",
       "3                 NaN  ExpansionPlusModel (v1.1)                  NaN   \n",
       "4                 NaN  ExpansionPlusModel (v1.1)                  NaN   \n",
       "\n",
       "  timestampMillisOfMostRecentStatusChange  \\\n",
       "0                                      -1   \n",
       "1                                      -1   \n",
       "2                                      -1   \n",
       "3                                      -1   \n",
       "4                                      -1   \n",
       "\n",
       "  timestampMillisOfNmrDueToMinStableCrhTime  currentMultiGroupStatus  \\\n",
       "0                                       NaN                      NaN   \n",
       "1                                       NaN                      NaN   \n",
       "2                                       NaN                      NaN   \n",
       "3                                       NaN                      NaN   \n",
       "4                                       NaN                      NaN   \n",
       "\n",
       "   currentModelingMultiGroup  timestampMinuteOfFinalScoringOutput  \\\n",
       "0                        NaN                             29075279   \n",
       "1                        NaN                             29075279   \n",
       "2                        NaN                             29075279   \n",
       "3                        NaN                             29075279   \n",
       "4                        NaN                             29075279   \n",
       "\n",
       "  timestampMillisOfFirstNmrDueToMinStableCrhTime  \n",
       "0                                            NaN  \n",
       "1                                            NaN  \n",
       "2                                            NaN  \n",
       "3                                            NaN  \n",
       "4                                            NaN  \n",
       "\n",
       "[5 rows x 23 columns]"
      ]
     },
     "execution_count": 3,
     "metadata": {},
     "output_type": "execute_result"
    }
   ],
   "source": [
    "note_history.head()"
   ]
  },
  {
   "cell_type": "code",
   "execution_count": 4,
   "id": "5097a574",
   "metadata": {},
   "outputs": [
    {
     "data": {
      "text/plain": [
       "Index(['noteId', 'noteAuthorParticipantId', 'createdAtMillis',\n",
       "       'timestampMillisOfFirstNonNMRStatus', 'firstNonNMRStatus',\n",
       "       'timestampMillisOfCurrentStatus', 'currentStatus',\n",
       "       'timestampMillisOfLatestNonNMRStatus', 'mostRecentNonNMRStatus',\n",
       "       'timestampMillisOfStatusLock', 'lockedStatus',\n",
       "       'timestampMillisOfRetroLock', 'currentCoreStatus',\n",
       "       'currentExpansionStatus', 'currentGroupStatus', 'currentDecidedBy',\n",
       "       'currentModelingGroup', 'timestampMillisOfMostRecentStatusChange',\n",
       "       'timestampMillisOfNmrDueToMinStableCrhTime', 'currentMultiGroupStatus',\n",
       "       'currentModelingMultiGroup', 'timestampMinuteOfFinalScoringOutput',\n",
       "       'timestampMillisOfFirstNmrDueToMinStableCrhTime'],\n",
       "      dtype='object')"
      ]
     },
     "execution_count": 4,
     "metadata": {},
     "output_type": "execute_result"
    }
   ],
   "source": [
    "note_history.columns"
   ]
  },
  {
   "cell_type": "code",
   "execution_count": 5,
   "id": "47ddda21",
   "metadata": {},
   "outputs": [
    {
     "data": {
      "text/plain": [
       "1977396"
      ]
     },
     "execution_count": 5,
     "metadata": {},
     "output_type": "execute_result"
    }
   ],
   "source": [
    "len(note_history)"
   ]
  },
  {
   "cell_type": "code",
   "execution_count": 6,
   "id": "5824907e",
   "metadata": {},
   "outputs": [
    {
     "data": {
      "text/plain": [
       "1977396"
      ]
     },
     "execution_count": 6,
     "metadata": {},
     "output_type": "execute_result"
    }
   ],
   "source": [
    "len(note_history['noteId'].unique())"
   ]
  },
  {
   "cell_type": "markdown",
   "id": "72f1e820",
   "metadata": {},
   "source": [
    "It seems like each note has appeared once."
   ]
  },
  {
   "cell_type": "markdown",
   "id": "87f19e86",
   "metadata": {},
   "source": [
    "Let's check what proportion of notes has changed status after being NMR (Needs more rating)"
   ]
  },
  {
   "cell_type": "code",
   "execution_count": 7,
   "id": "09e8d6c7",
   "metadata": {},
   "outputs": [
    {
     "data": {
      "text/plain": [
       "np.float64(0.44691756228899016)"
      ]
     },
     "execution_count": 7,
     "metadata": {},
     "output_type": "execute_result"
    }
   ],
   "source": [
    "(note_history['timestampMillisOfMostRecentStatusChange'] != -1).sum() / len(note_history)"
   ]
  },
  {
   "cell_type": "markdown",
   "id": "ce2bf6bb",
   "metadata": {},
   "source": [
    "Wow! 45% have changed status. What percentage are currently not NMR?"
   ]
  },
  {
   "cell_type": "code",
   "execution_count": 15,
   "id": "47d25ab0",
   "metadata": {},
   "outputs": [
    {
     "data": {
      "text/plain": [
       "np.float64(0.1787239379466733)"
      ]
     },
     "execution_count": 15,
     "metadata": {},
     "output_type": "execute_result"
    }
   ],
   "source": [
    "(note_history['mostRecentNonNMRStatus'].notna()).sum() / len(note_history)"
   ]
  },
  {
   "cell_type": "markdown",
   "id": "30294fec",
   "metadata": {},
   "source": [
    "At the moment only 18% have a status of not NMR (\"helpful\" or \"not helpful\") "
   ]
  },
  {
   "cell_type": "markdown",
   "id": "567b48b7",
   "metadata": {},
   "source": [
    "Check what proportion of notes have never changed status after receiving helpful/not helpful labels:"
   ]
  },
  {
   "cell_type": "code",
   "execution_count": 18,
   "id": "c603648b",
   "metadata": {},
   "outputs": [
    {
     "data": {
      "text/plain": [
       "np.float64(5.057155976850363e-07)"
      ]
     },
     "execution_count": 18,
     "metadata": {},
     "output_type": "execute_result"
    }
   ],
   "source": [
    "(note_history['timestampMillisOfCurrentStatus'] == note_history['timestampMillisOfFirstNonNMRStatus']).sum()\\\n",
    " / len(note_history)"
   ]
  }
 ],
 "metadata": {
  "kernelspec": {
   "display_name": ".env",
   "language": "python",
   "name": "python3"
  },
  "language_info": {
   "codemirror_mode": {
    "name": "ipython",
    "version": 3
   },
   "file_extension": ".py",
   "mimetype": "text/x-python",
   "name": "python",
   "nbconvert_exporter": "python",
   "pygments_lexer": "ipython3",
   "version": "3.10.12"
  }
 },
 "nbformat": 4,
 "nbformat_minor": 5
}
